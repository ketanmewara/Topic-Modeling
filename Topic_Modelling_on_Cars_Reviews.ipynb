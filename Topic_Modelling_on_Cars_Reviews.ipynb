{
  "cells": [
    {
      "cell_type": "markdown",
      "source": [
        "# Topic Modelling on Cars Reviews"
      ],
      "metadata": {
        "id": "5e7ahY2Ifcdj"
      }
    },
    {
      "cell_type": "code",
      "execution_count": 1,
      "metadata": {
        "colab": {
          "base_uri": "https://localhost:8080/"
        },
        "id": "pMTJX71v9Ao0",
        "outputId": "c00923c5-6e06-488f-da66-f6052df2cc8d"
      },
      "outputs": [
        {
          "output_type": "stream",
          "name": "stdout",
          "text": [
            "Cloning into 'Topic-Modelling'...\n",
            "remote: Enumerating objects: 6, done.\u001b[K\n",
            "remote: Counting objects: 100% (6/6), done.\u001b[K\n",
            "remote: Compressing objects: 100% (4/4), done.\u001b[K\n",
            "remote: Total 6 (delta 0), reused 3 (delta 0), pack-reused 0\u001b[K\n",
            "Unpacking objects: 100% (6/6), done.\n"
          ]
        }
      ],
      "source": [
        "!git clone https://github.com/ketanmewara/Topic-Modelling.git"
      ]
    },
    {
      "cell_type": "code",
      "source": [
        "# pip install pyLDAvis"
      ],
      "metadata": {
        "id": "MSI4joiZ1oZu"
      },
      "execution_count": null,
      "outputs": []
    },
    {
      "cell_type": "code",
      "execution_count": 4,
      "metadata": {
        "colab": {
          "base_uri": "https://localhost:8080/"
        },
        "id": "HCiqtANg9UM4",
        "outputId": "ffb7f563-465f-474d-df0c-f6cea7462d05"
      },
      "outputs": [
        {
          "output_type": "stream",
          "name": "stderr",
          "text": [
            "[nltk_data] Downloading package wordnet to /root/nltk_data...\n",
            "[nltk_data]   Package wordnet is already up-to-date!\n",
            "[nltk_data] Downloading package omw-1.4 to /root/nltk_data...\n",
            "[nltk_data]   Package omw-1.4 is already up-to-date!\n",
            "/usr/local/lib/python3.8/dist-packages/past/types/oldstr.py:5: DeprecationWarning: Using or importing the ABCs from 'collections' instead of from 'collections.abc' is deprecated since Python 3.3, and in 3.10 it will stop working\n",
            "  from collections import Iterable\n"
          ]
        }
      ],
      "source": [
        "import pandas as pd\n",
        "import numpy as np\n",
        "from bs4 import BeautifulSoup\n",
        "import re\n",
        "\n",
        "from nltk.stem import WordNetLemmatizer\n",
        "import nltk\n",
        "nltk.download('wordnet')\n",
        "nltk.download('omw-1.4')\n",
        "lemmaObj = WordNetLemmatizer()\n",
        "\n",
        "from sklearn import decomposition\n",
        "from sklearn.model_selection import train_test_split\n",
        "from sklearn.feature_extraction.text import TfidfVectorizer, CountVectorizer\n",
        "\n",
        "# libraries for visualization\n",
        "import pyLDAvis\n",
        "import pyLDAvis.gensim_models\n",
        "import matplotlib.pyplot as plt\n",
        "import seaborn as sns\n",
        "%matplotlib inline\n",
        "\n",
        "import warnings\n",
        "warnings.filterwarnings('ignore')"
      ]
    },
    {
      "cell_type": "code",
      "execution_count": 5,
      "metadata": {
        "colab": {
          "base_uri": "https://localhost:8080/",
          "height": 206
        },
        "id": "9SOjMUgLbV1K",
        "outputId": "a4c621ac-f4e8-4859-88a2-35fb82e2c8cb"
      },
      "outputs": [
        {
          "output_type": "execute_result",
          "data": {
            "text/plain": [
              "                                              Review\n",
              "0   Not for everyone. Fun to drive-- a tall man's...\n",
              "1                                                NaN\n",
              "2   This truck is the best truck you could \\rbuy,...\n",
              "3                             I love the car so far!\n",
              "4   I have owned the 300H now for two years.  Gas..."
            ],
            "text/html": [
              "\n",
              "  <div id=\"df-9be5d63f-daac-43ed-a349-37968485ab84\">\n",
              "    <div class=\"colab-df-container\">\n",
              "      <div>\n",
              "<style scoped>\n",
              "    .dataframe tbody tr th:only-of-type {\n",
              "        vertical-align: middle;\n",
              "    }\n",
              "\n",
              "    .dataframe tbody tr th {\n",
              "        vertical-align: top;\n",
              "    }\n",
              "\n",
              "    .dataframe thead th {\n",
              "        text-align: right;\n",
              "    }\n",
              "</style>\n",
              "<table border=\"1\" class=\"dataframe\">\n",
              "  <thead>\n",
              "    <tr style=\"text-align: right;\">\n",
              "      <th></th>\n",
              "      <th>Review</th>\n",
              "    </tr>\n",
              "  </thead>\n",
              "  <tbody>\n",
              "    <tr>\n",
              "      <th>0</th>\n",
              "      <td>Not for everyone. Fun to drive-- a tall man's...</td>\n",
              "    </tr>\n",
              "    <tr>\n",
              "      <th>1</th>\n",
              "      <td>NaN</td>\n",
              "    </tr>\n",
              "    <tr>\n",
              "      <th>2</th>\n",
              "      <td>This truck is the best truck you could \\rbuy,...</td>\n",
              "    </tr>\n",
              "    <tr>\n",
              "      <th>3</th>\n",
              "      <td>I love the car so far!</td>\n",
              "    </tr>\n",
              "    <tr>\n",
              "      <th>4</th>\n",
              "      <td>I have owned the 300H now for two years.  Gas...</td>\n",
              "    </tr>\n",
              "  </tbody>\n",
              "</table>\n",
              "</div>\n",
              "      <button class=\"colab-df-convert\" onclick=\"convertToInteractive('df-9be5d63f-daac-43ed-a349-37968485ab84')\"\n",
              "              title=\"Convert this dataframe to an interactive table.\"\n",
              "              style=\"display:none;\">\n",
              "        \n",
              "  <svg xmlns=\"http://www.w3.org/2000/svg\" height=\"24px\"viewBox=\"0 0 24 24\"\n",
              "       width=\"24px\">\n",
              "    <path d=\"M0 0h24v24H0V0z\" fill=\"none\"/>\n",
              "    <path d=\"M18.56 5.44l.94 2.06.94-2.06 2.06-.94-2.06-.94-.94-2.06-.94 2.06-2.06.94zm-11 1L8.5 8.5l.94-2.06 2.06-.94-2.06-.94L8.5 2.5l-.94 2.06-2.06.94zm10 10l.94 2.06.94-2.06 2.06-.94-2.06-.94-.94-2.06-.94 2.06-2.06.94z\"/><path d=\"M17.41 7.96l-1.37-1.37c-.4-.4-.92-.59-1.43-.59-.52 0-1.04.2-1.43.59L10.3 9.45l-7.72 7.72c-.78.78-.78 2.05 0 2.83L4 21.41c.39.39.9.59 1.41.59.51 0 1.02-.2 1.41-.59l7.78-7.78 2.81-2.81c.8-.78.8-2.07 0-2.86zM5.41 20L4 18.59l7.72-7.72 1.47 1.35L5.41 20z\"/>\n",
              "  </svg>\n",
              "      </button>\n",
              "      \n",
              "  <style>\n",
              "    .colab-df-container {\n",
              "      display:flex;\n",
              "      flex-wrap:wrap;\n",
              "      gap: 12px;\n",
              "    }\n",
              "\n",
              "    .colab-df-convert {\n",
              "      background-color: #E8F0FE;\n",
              "      border: none;\n",
              "      border-radius: 50%;\n",
              "      cursor: pointer;\n",
              "      display: none;\n",
              "      fill: #1967D2;\n",
              "      height: 32px;\n",
              "      padding: 0 0 0 0;\n",
              "      width: 32px;\n",
              "    }\n",
              "\n",
              "    .colab-df-convert:hover {\n",
              "      background-color: #E2EBFA;\n",
              "      box-shadow: 0px 1px 2px rgba(60, 64, 67, 0.3), 0px 1px 3px 1px rgba(60, 64, 67, 0.15);\n",
              "      fill: #174EA6;\n",
              "    }\n",
              "\n",
              "    [theme=dark] .colab-df-convert {\n",
              "      background-color: #3B4455;\n",
              "      fill: #D2E3FC;\n",
              "    }\n",
              "\n",
              "    [theme=dark] .colab-df-convert:hover {\n",
              "      background-color: #434B5C;\n",
              "      box-shadow: 0px 1px 3px 1px rgba(0, 0, 0, 0.15);\n",
              "      filter: drop-shadow(0px 1px 2px rgba(0, 0, 0, 0.3));\n",
              "      fill: #FFFFFF;\n",
              "    }\n",
              "  </style>\n",
              "\n",
              "      <script>\n",
              "        const buttonEl =\n",
              "          document.querySelector('#df-9be5d63f-daac-43ed-a349-37968485ab84 button.colab-df-convert');\n",
              "        buttonEl.style.display =\n",
              "          google.colab.kernel.accessAllowed ? 'block' : 'none';\n",
              "\n",
              "        async function convertToInteractive(key) {\n",
              "          const element = document.querySelector('#df-9be5d63f-daac-43ed-a349-37968485ab84');\n",
              "          const dataTable =\n",
              "            await google.colab.kernel.invokeFunction('convertToInteractive',\n",
              "                                                     [key], {});\n",
              "          if (!dataTable) return;\n",
              "\n",
              "          const docLinkHtml = 'Like what you see? Visit the ' +\n",
              "            '<a target=\"_blank\" href=https://colab.research.google.com/notebooks/data_table.ipynb>data table notebook</a>'\n",
              "            + ' to learn more about interactive tables.';\n",
              "          element.innerHTML = '';\n",
              "          dataTable['output_type'] = 'display_data';\n",
              "          await google.colab.output.renderOutput(dataTable, element);\n",
              "          const docLink = document.createElement('div');\n",
              "          docLink.innerHTML = docLinkHtml;\n",
              "          element.appendChild(docLink);\n",
              "        }\n",
              "      </script>\n",
              "    </div>\n",
              "  </div>\n",
              "  "
            ]
          },
          "metadata": {},
          "execution_count": 5
        }
      ],
      "source": [
        "data = pd.read_csv('/content/Topic-Modelling/cars_reviews.csv')\n",
        "data.head()"
      ]
    },
    {
      "cell_type": "code",
      "execution_count": 6,
      "metadata": {
        "colab": {
          "base_uri": "https://localhost:8080/"
        },
        "id": "gazDS9vUlo4f",
        "outputId": "d26a144b-d2c0-4b46-d872-6c7620a3a0a4"
      },
      "outputs": [
        {
          "output_type": "stream",
          "name": "stdout",
          "text": [
            "<class 'pandas.core.frame.DataFrame'>\n",
            "RangeIndex: 85127 entries, 0 to 85126\n",
            "Data columns (total 1 columns):\n",
            " #   Column  Non-Null Count  Dtype \n",
            "---  ------  --------------  ----- \n",
            " 0   Review  67958 non-null  object\n",
            "dtypes: object(1)\n",
            "memory usage: 665.2+ KB\n"
          ]
        }
      ],
      "source": [
        "data.info()"
      ]
    },
    {
      "cell_type": "code",
      "execution_count": 7,
      "metadata": {
        "colab": {
          "base_uri": "https://localhost:8080/"
        },
        "id": "3B24ch3l9vIa",
        "outputId": "c5e7a963-ea00-4230-e730-96185bb4d26b"
      },
      "outputs": [
        {
          "output_type": "execute_result",
          "data": {
            "text/plain": [
              "(85127, 1)"
            ]
          },
          "metadata": {},
          "execution_count": 7
        }
      ],
      "source": [
        "data.shape"
      ]
    },
    {
      "cell_type": "markdown",
      "metadata": {
        "id": "slb1gYjz98LB"
      },
      "source": [
        "## Data Preprocessing"
      ]
    },
    {
      "cell_type": "markdown",
      "metadata": {
        "id": "wBwP0gIg9yPd"
      },
      "source": [
        "### Remove Nan Values"
      ]
    },
    {
      "cell_type": "code",
      "execution_count": 8,
      "metadata": {
        "colab": {
          "base_uri": "https://localhost:8080/"
        },
        "id": "ozrzjX-o9ymH",
        "outputId": "7b63f571-af3c-4806-c8ec-cc5d8389bec6"
      },
      "outputs": [
        {
          "output_type": "execute_result",
          "data": {
            "text/plain": [
              "Review    17169\n",
              "dtype: int64"
            ]
          },
          "metadata": {},
          "execution_count": 8
        }
      ],
      "source": [
        "data.isnull().sum()"
      ]
    },
    {
      "cell_type": "code",
      "execution_count": 9,
      "metadata": {
        "id": "kkZ8aQcf900h"
      },
      "outputs": [],
      "source": [
        "data.dropna(inplace=True)\n",
        "data = data.reset_index(drop=True)"
      ]
    },
    {
      "cell_type": "code",
      "execution_count": 10,
      "metadata": {
        "id": "-z9msS_u90x3"
      },
      "outputs": [],
      "source": [
        "data = data.reset_index(drop=True)"
      ]
    },
    {
      "cell_type": "code",
      "execution_count": 11,
      "metadata": {
        "colab": {
          "base_uri": "https://localhost:8080/",
          "height": 206
        },
        "id": "I3StwgAP90uu",
        "outputId": "30eaa94e-aa38-498d-88fa-ba413893fcd3"
      },
      "outputs": [
        {
          "output_type": "execute_result",
          "data": {
            "text/plain": [
              "                                              Review\n",
              "0   Not for everyone. Fun to drive-- a tall man's...\n",
              "1   This truck is the best truck you could \\rbuy,...\n",
              "2                             I love the car so far!\n",
              "3   I have owned the 300H now for two years.  Gas...\n",
              "4   I had a 2007 Chrysler Mini Van that was runni..."
            ],
            "text/html": [
              "\n",
              "  <div id=\"df-e46177b8-1ac0-4b5d-a0b3-1681db8d65b3\">\n",
              "    <div class=\"colab-df-container\">\n",
              "      <div>\n",
              "<style scoped>\n",
              "    .dataframe tbody tr th:only-of-type {\n",
              "        vertical-align: middle;\n",
              "    }\n",
              "\n",
              "    .dataframe tbody tr th {\n",
              "        vertical-align: top;\n",
              "    }\n",
              "\n",
              "    .dataframe thead th {\n",
              "        text-align: right;\n",
              "    }\n",
              "</style>\n",
              "<table border=\"1\" class=\"dataframe\">\n",
              "  <thead>\n",
              "    <tr style=\"text-align: right;\">\n",
              "      <th></th>\n",
              "      <th>Review</th>\n",
              "    </tr>\n",
              "  </thead>\n",
              "  <tbody>\n",
              "    <tr>\n",
              "      <th>0</th>\n",
              "      <td>Not for everyone. Fun to drive-- a tall man's...</td>\n",
              "    </tr>\n",
              "    <tr>\n",
              "      <th>1</th>\n",
              "      <td>This truck is the best truck you could \\rbuy,...</td>\n",
              "    </tr>\n",
              "    <tr>\n",
              "      <th>2</th>\n",
              "      <td>I love the car so far!</td>\n",
              "    </tr>\n",
              "    <tr>\n",
              "      <th>3</th>\n",
              "      <td>I have owned the 300H now for two years.  Gas...</td>\n",
              "    </tr>\n",
              "    <tr>\n",
              "      <th>4</th>\n",
              "      <td>I had a 2007 Chrysler Mini Van that was runni...</td>\n",
              "    </tr>\n",
              "  </tbody>\n",
              "</table>\n",
              "</div>\n",
              "      <button class=\"colab-df-convert\" onclick=\"convertToInteractive('df-e46177b8-1ac0-4b5d-a0b3-1681db8d65b3')\"\n",
              "              title=\"Convert this dataframe to an interactive table.\"\n",
              "              style=\"display:none;\">\n",
              "        \n",
              "  <svg xmlns=\"http://www.w3.org/2000/svg\" height=\"24px\"viewBox=\"0 0 24 24\"\n",
              "       width=\"24px\">\n",
              "    <path d=\"M0 0h24v24H0V0z\" fill=\"none\"/>\n",
              "    <path d=\"M18.56 5.44l.94 2.06.94-2.06 2.06-.94-2.06-.94-.94-2.06-.94 2.06-2.06.94zm-11 1L8.5 8.5l.94-2.06 2.06-.94-2.06-.94L8.5 2.5l-.94 2.06-2.06.94zm10 10l.94 2.06.94-2.06 2.06-.94-2.06-.94-.94-2.06-.94 2.06-2.06.94z\"/><path d=\"M17.41 7.96l-1.37-1.37c-.4-.4-.92-.59-1.43-.59-.52 0-1.04.2-1.43.59L10.3 9.45l-7.72 7.72c-.78.78-.78 2.05 0 2.83L4 21.41c.39.39.9.59 1.41.59.51 0 1.02-.2 1.41-.59l7.78-7.78 2.81-2.81c.8-.78.8-2.07 0-2.86zM5.41 20L4 18.59l7.72-7.72 1.47 1.35L5.41 20z\"/>\n",
              "  </svg>\n",
              "      </button>\n",
              "      \n",
              "  <style>\n",
              "    .colab-df-container {\n",
              "      display:flex;\n",
              "      flex-wrap:wrap;\n",
              "      gap: 12px;\n",
              "    }\n",
              "\n",
              "    .colab-df-convert {\n",
              "      background-color: #E8F0FE;\n",
              "      border: none;\n",
              "      border-radius: 50%;\n",
              "      cursor: pointer;\n",
              "      display: none;\n",
              "      fill: #1967D2;\n",
              "      height: 32px;\n",
              "      padding: 0 0 0 0;\n",
              "      width: 32px;\n",
              "    }\n",
              "\n",
              "    .colab-df-convert:hover {\n",
              "      background-color: #E2EBFA;\n",
              "      box-shadow: 0px 1px 2px rgba(60, 64, 67, 0.3), 0px 1px 3px 1px rgba(60, 64, 67, 0.15);\n",
              "      fill: #174EA6;\n",
              "    }\n",
              "\n",
              "    [theme=dark] .colab-df-convert {\n",
              "      background-color: #3B4455;\n",
              "      fill: #D2E3FC;\n",
              "    }\n",
              "\n",
              "    [theme=dark] .colab-df-convert:hover {\n",
              "      background-color: #434B5C;\n",
              "      box-shadow: 0px 1px 3px 1px rgba(0, 0, 0, 0.15);\n",
              "      filter: drop-shadow(0px 1px 2px rgba(0, 0, 0, 0.3));\n",
              "      fill: #FFFFFF;\n",
              "    }\n",
              "  </style>\n",
              "\n",
              "      <script>\n",
              "        const buttonEl =\n",
              "          document.querySelector('#df-e46177b8-1ac0-4b5d-a0b3-1681db8d65b3 button.colab-df-convert');\n",
              "        buttonEl.style.display =\n",
              "          google.colab.kernel.accessAllowed ? 'block' : 'none';\n",
              "\n",
              "        async function convertToInteractive(key) {\n",
              "          const element = document.querySelector('#df-e46177b8-1ac0-4b5d-a0b3-1681db8d65b3');\n",
              "          const dataTable =\n",
              "            await google.colab.kernel.invokeFunction('convertToInteractive',\n",
              "                                                     [key], {});\n",
              "          if (!dataTable) return;\n",
              "\n",
              "          const docLinkHtml = 'Like what you see? Visit the ' +\n",
              "            '<a target=\"_blank\" href=https://colab.research.google.com/notebooks/data_table.ipynb>data table notebook</a>'\n",
              "            + ' to learn more about interactive tables.';\n",
              "          element.innerHTML = '';\n",
              "          dataTable['output_type'] = 'display_data';\n",
              "          await google.colab.output.renderOutput(dataTable, element);\n",
              "          const docLink = document.createElement('div');\n",
              "          docLink.innerHTML = docLinkHtml;\n",
              "          element.appendChild(docLink);\n",
              "        }\n",
              "      </script>\n",
              "    </div>\n",
              "  </div>\n",
              "  "
            ]
          },
          "metadata": {},
          "execution_count": 11
        }
      ],
      "source": [
        "data.head()"
      ]
    },
    {
      "cell_type": "code",
      "execution_count": 12,
      "metadata": {
        "colab": {
          "base_uri": "https://localhost:8080/"
        },
        "id": "T7a8B5Qh90r5",
        "outputId": "ee991dc8-054f-419b-9fc5-8fcefa8d0001"
      },
      "outputs": [
        {
          "output_type": "execute_result",
          "data": {
            "text/plain": [
              "(67958, 1)"
            ]
          },
          "metadata": {},
          "execution_count": 12
        }
      ],
      "source": [
        "data.shape"
      ]
    },
    {
      "cell_type": "markdown",
      "source": [
        "### Data Cleaning"
      ],
      "metadata": {
        "id": "U62Ry2bsRX0u"
      }
    },
    {
      "cell_type": "code",
      "execution_count": 13,
      "metadata": {
        "id": "AMCoxT-j90jY"
      },
      "outputs": [],
      "source": [
        "def data_preprocess_func(data):\n",
        "    \n",
        "    data = str(data).lower().strip()\n",
        "    \n",
        "    # Replace special characters with their string\n",
        "    data = data.replace('%', ' percent')\n",
        "    data = data.replace('$', ' dollar ')\n",
        "    data = data.replace('₹', ' rupee ')\n",
        "    data = data.replace('€', ' euro ')\n",
        "    data = data.replace('@', ' at ')\n",
        "    data = data.replace('#', '')\n",
        "    \n",
        "    contractions = { \n",
        "    \"ain't\": \"am not\",\n",
        "    \"aren't\": \"are not\",\n",
        "    \"can't\": \"can not\",\n",
        "    \"can't've\": \"can not have\",\n",
        "    \"'cause\": \"because\",\n",
        "    \"could've\": \"could have\",\n",
        "    \"couldn't\": \"could not\",\n",
        "    \"couldn't've\": \"could not have\",\n",
        "    \"didn't\": \"did not\",\n",
        "    \"doesn't\": \"does not\",\n",
        "    \"don't\": \"do not\",\n",
        "    \"hadn't\": \"had not\",\n",
        "    \"hadn't've\": \"had not have\",\n",
        "    \"hasn't\": \"has not\",\n",
        "    \"haven't\": \"have not\",\n",
        "    \"he'd\": \"he would\",\n",
        "    \"he'd've\": \"he would have\",\n",
        "    \"he'll\": \"he will\",\n",
        "    \"he'll've\": \"he will have\",\n",
        "    \"he's\": \"he is\",\n",
        "    \"how'd\": \"how did\",\n",
        "    \"how'd'y\": \"how do you\",\n",
        "    \"how'll\": \"how will\",\n",
        "    \"how's\": \"how is\",\n",
        "    \"i'd\": \"i would\",\n",
        "    \"i'd've\": \"i would have\",\n",
        "    \"i'll\": \"i will\",\n",
        "    \"i'll've\": \"i will have\",\n",
        "    \"i'm\": \"i am\",\n",
        "    \"i've\": \"i have\",\n",
        "    \"isn't\": \"is not\",\n",
        "    \"it'd\": \"it would\",\n",
        "    \"it'd've\": \"it would have\",\n",
        "    \"it'll\": \"it will\",\n",
        "    \"it'll've\": \"it will have\",\n",
        "    \"it's\": \"it is\",\n",
        "    \"let's\": \"let us\",\n",
        "    \"ma'am\": \"madam\",\n",
        "    \"mayn't\": \"may not\",\n",
        "    \"might've\": \"might have\",\n",
        "    \"mightn't\": \"might not\",\n",
        "    \"mightn't've\": \"might not have\",\n",
        "    \"must've\": \"must have\",\n",
        "    \"mustn't\": \"must not\",\n",
        "    \"mustn't've\": \"must not have\",\n",
        "    \"needn't\": \"need not\",\n",
        "    \"needn't've\": \"need not have\",\n",
        "    \"o'clock\": \"of the clock\",\n",
        "    \"oughtn't\": \"ought not\",\n",
        "    \"oughtn't've\": \"ought not have\",\n",
        "    \"shan't\": \"shall not\",\n",
        "    \"sha'n't\": \"shall not\",\n",
        "    \"shan't've\": \"shall not have\",\n",
        "    \"she'd\": \"she would\",\n",
        "    \"she'd've\": \"she would have\",\n",
        "    \"she'll\": \"she will\",\n",
        "    \"she'll've\": \"she will have\",\n",
        "    \"she's\": \"she is\",\n",
        "    \"should've\": \"should have\",\n",
        "    \"shouldn't\": \"should not\",\n",
        "    \"shouldn't've\": \"should not have\",\n",
        "    \"so've\": \"so have\",\n",
        "    \"so's\": \"so as\",\n",
        "    \"that'd\": \"that would\",\n",
        "    \"that'd've\": \"that would have\",\n",
        "    \"that's\": \"that is\",\n",
        "    \"there'd\": \"there would\",\n",
        "    \"there'd've\": \"there would have\",\n",
        "    \"there's\": \"there is\",\n",
        "    \"they'd\": \"they would\",\n",
        "    \"they'd've\": \"they would have\",\n",
        "    \"they'll\": \"they will\",\n",
        "    \"they'll've\": \"they will have\",\n",
        "    \"they're\": \"they are\",\n",
        "    \"they've\": \"they have\",\n",
        "    \"to've\": \"to have\",\n",
        "    \"wasn't\": \"was not\",\n",
        "    \"we'd\": \"we would\",\n",
        "    \"we'd've\": \"we would have\",\n",
        "    \"we'll\": \"we will\",\n",
        "    \"we'll've\": \"we will have\",\n",
        "    \"we're\": \"we are\",\n",
        "    \"we've\": \"we have\",\n",
        "    \"weren't\": \"were not\",\n",
        "    \"what'll\": \"what will\",\n",
        "    \"what'll've\": \"what will have\",\n",
        "    \"what're\": \"what are\",\n",
        "    \"what's\": \"what is\",\n",
        "    \"what've\": \"what have\",\n",
        "    \"when's\": \"when is\",\n",
        "    \"when've\": \"when have\",\n",
        "    \"where'd\": \"where did\",\n",
        "    \"where's\": \"where is\",\n",
        "    \"where've\": \"where have\",\n",
        "    \"who'll\": \"who will\",\n",
        "    \"who'll've\": \"who will have\",\n",
        "    \"who's\": \"who is\",\n",
        "    \"who've\": \"who have\",\n",
        "    \"why's\": \"why is\",\n",
        "    \"why've\": \"why have\",\n",
        "    \"will've\": \"will have\",\n",
        "    \"won't\": \"will not\",\n",
        "    \"won't've\": \"will not have\",\n",
        "    \"would've\": \"would have\",\n",
        "    \"wouldn't\": \"would not\",\n",
        "    \"wouldn't've\": \"would not have\",\n",
        "    \"y'all\": \"you all\",\n",
        "    \"y'all'd\": \"you all would\",\n",
        "    \"y'all'd've\": \"you all would have\",\n",
        "    \"y'all're\": \"you all are\",\n",
        "    \"y'all've\": \"you all have\",\n",
        "    \"you'd\": \"you would\",\n",
        "    \"you'd've\": \"you would have\",\n",
        "    \"you'll\": \"you will\",\n",
        "    \"you'll've\": \"you will have\",\n",
        "    \"you're\": \"you are\",\n",
        "    \"you've\": \"you have\"\n",
        "    }\n",
        "\n",
        "    data_decontracted = []\n",
        "\n",
        "    for word in data.split():\n",
        "        if word in contractions:\n",
        "            word = contractions[word]\n",
        "\n",
        "        data_decontracted.append(word)\n",
        "\n",
        "    data = ' '.join(data_decontracted)\n",
        "    data = data.replace(\"'ve\", \" have\")\n",
        "    data = data.replace(\"n't\", \" not\")\n",
        "    data = data.replace(\"'re\", \" are\")\n",
        "    data = data.replace(\"'ll\", \" will\")\n",
        "    \n",
        "    # Removing HTML tags\n",
        "    data = BeautifulSoup(data)\n",
        "    data = data.get_text()\n",
        "    \n",
        "    # Remove punctuations\n",
        "    pattern = re.compile('\\W')\n",
        "    data = re.sub(pattern, ' ', data).strip()\n",
        "\n",
        "    \n",
        "    return data"
      ]
    },
    {
      "cell_type": "code",
      "execution_count": 14,
      "metadata": {
        "id": "77gx9m2C9_09"
      },
      "outputs": [],
      "source": [
        "data['clean_reviews'] = data['Review'].apply(data_preprocess_func)"
      ]
    },
    {
      "cell_type": "code",
      "execution_count": 15,
      "metadata": {
        "id": "DMGl90X19_yf"
      },
      "outputs": [],
      "source": [
        "# Remove Short Words\n",
        "data['clean_reviews'] = data['clean_reviews'].apply(lambda x: ' '.join([w for w in x.split() if len(w)>2]))"
      ]
    },
    {
      "cell_type": "code",
      "execution_count": 16,
      "metadata": {
        "colab": {
          "base_uri": "https://localhost:8080/",
          "height": 206
        },
        "id": "DUChpKy29_wA",
        "outputId": "f5fb6972-d018-4f26-8614-00b2e5c84943"
      },
      "outputs": [
        {
          "output_type": "execute_result",
          "data": {
            "text/plain": [
              "                                              Review  \\\n",
              "0   Not for everyone. Fun to drive-- a tall man's...   \n",
              "1   This truck is the best truck you could \\rbuy,...   \n",
              "2                             I love the car so far!   \n",
              "3   I have owned the 300H now for two years.  Gas...   \n",
              "4   I had a 2007 Chrysler Mini Van that was runni...   \n",
              "\n",
              "                                       clean_reviews  \n",
              "0  not for everyone fun drive tall man sports car...  \n",
              "1  this truck the best truck you could buy its de...  \n",
              "2                                   love the car far  \n",
              "3  have owned the 300h now for two years gas mile...  \n",
              "4  had 2007 chrysler mini van that was running fi...  "
            ],
            "text/html": [
              "\n",
              "  <div id=\"df-36c65d92-2f6f-4503-a003-df9ecd488a3a\">\n",
              "    <div class=\"colab-df-container\">\n",
              "      <div>\n",
              "<style scoped>\n",
              "    .dataframe tbody tr th:only-of-type {\n",
              "        vertical-align: middle;\n",
              "    }\n",
              "\n",
              "    .dataframe tbody tr th {\n",
              "        vertical-align: top;\n",
              "    }\n",
              "\n",
              "    .dataframe thead th {\n",
              "        text-align: right;\n",
              "    }\n",
              "</style>\n",
              "<table border=\"1\" class=\"dataframe\">\n",
              "  <thead>\n",
              "    <tr style=\"text-align: right;\">\n",
              "      <th></th>\n",
              "      <th>Review</th>\n",
              "      <th>clean_reviews</th>\n",
              "    </tr>\n",
              "  </thead>\n",
              "  <tbody>\n",
              "    <tr>\n",
              "      <th>0</th>\n",
              "      <td>Not for everyone. Fun to drive-- a tall man's...</td>\n",
              "      <td>not for everyone fun drive tall man sports car...</td>\n",
              "    </tr>\n",
              "    <tr>\n",
              "      <th>1</th>\n",
              "      <td>This truck is the best truck you could \\rbuy,...</td>\n",
              "      <td>this truck the best truck you could buy its de...</td>\n",
              "    </tr>\n",
              "    <tr>\n",
              "      <th>2</th>\n",
              "      <td>I love the car so far!</td>\n",
              "      <td>love the car far</td>\n",
              "    </tr>\n",
              "    <tr>\n",
              "      <th>3</th>\n",
              "      <td>I have owned the 300H now for two years.  Gas...</td>\n",
              "      <td>have owned the 300h now for two years gas mile...</td>\n",
              "    </tr>\n",
              "    <tr>\n",
              "      <th>4</th>\n",
              "      <td>I had a 2007 Chrysler Mini Van that was runni...</td>\n",
              "      <td>had 2007 chrysler mini van that was running fi...</td>\n",
              "    </tr>\n",
              "  </tbody>\n",
              "</table>\n",
              "</div>\n",
              "      <button class=\"colab-df-convert\" onclick=\"convertToInteractive('df-36c65d92-2f6f-4503-a003-df9ecd488a3a')\"\n",
              "              title=\"Convert this dataframe to an interactive table.\"\n",
              "              style=\"display:none;\">\n",
              "        \n",
              "  <svg xmlns=\"http://www.w3.org/2000/svg\" height=\"24px\"viewBox=\"0 0 24 24\"\n",
              "       width=\"24px\">\n",
              "    <path d=\"M0 0h24v24H0V0z\" fill=\"none\"/>\n",
              "    <path d=\"M18.56 5.44l.94 2.06.94-2.06 2.06-.94-2.06-.94-.94-2.06-.94 2.06-2.06.94zm-11 1L8.5 8.5l.94-2.06 2.06-.94-2.06-.94L8.5 2.5l-.94 2.06-2.06.94zm10 10l.94 2.06.94-2.06 2.06-.94-2.06-.94-.94-2.06-.94 2.06-2.06.94z\"/><path d=\"M17.41 7.96l-1.37-1.37c-.4-.4-.92-.59-1.43-.59-.52 0-1.04.2-1.43.59L10.3 9.45l-7.72 7.72c-.78.78-.78 2.05 0 2.83L4 21.41c.39.39.9.59 1.41.59.51 0 1.02-.2 1.41-.59l7.78-7.78 2.81-2.81c.8-.78.8-2.07 0-2.86zM5.41 20L4 18.59l7.72-7.72 1.47 1.35L5.41 20z\"/>\n",
              "  </svg>\n",
              "      </button>\n",
              "      \n",
              "  <style>\n",
              "    .colab-df-container {\n",
              "      display:flex;\n",
              "      flex-wrap:wrap;\n",
              "      gap: 12px;\n",
              "    }\n",
              "\n",
              "    .colab-df-convert {\n",
              "      background-color: #E8F0FE;\n",
              "      border: none;\n",
              "      border-radius: 50%;\n",
              "      cursor: pointer;\n",
              "      display: none;\n",
              "      fill: #1967D2;\n",
              "      height: 32px;\n",
              "      padding: 0 0 0 0;\n",
              "      width: 32px;\n",
              "    }\n",
              "\n",
              "    .colab-df-convert:hover {\n",
              "      background-color: #E2EBFA;\n",
              "      box-shadow: 0px 1px 2px rgba(60, 64, 67, 0.3), 0px 1px 3px 1px rgba(60, 64, 67, 0.15);\n",
              "      fill: #174EA6;\n",
              "    }\n",
              "\n",
              "    [theme=dark] .colab-df-convert {\n",
              "      background-color: #3B4455;\n",
              "      fill: #D2E3FC;\n",
              "    }\n",
              "\n",
              "    [theme=dark] .colab-df-convert:hover {\n",
              "      background-color: #434B5C;\n",
              "      box-shadow: 0px 1px 3px 1px rgba(0, 0, 0, 0.15);\n",
              "      filter: drop-shadow(0px 1px 2px rgba(0, 0, 0, 0.3));\n",
              "      fill: #FFFFFF;\n",
              "    }\n",
              "  </style>\n",
              "\n",
              "      <script>\n",
              "        const buttonEl =\n",
              "          document.querySelector('#df-36c65d92-2f6f-4503-a003-df9ecd488a3a button.colab-df-convert');\n",
              "        buttonEl.style.display =\n",
              "          google.colab.kernel.accessAllowed ? 'block' : 'none';\n",
              "\n",
              "        async function convertToInteractive(key) {\n",
              "          const element = document.querySelector('#df-36c65d92-2f6f-4503-a003-df9ecd488a3a');\n",
              "          const dataTable =\n",
              "            await google.colab.kernel.invokeFunction('convertToInteractive',\n",
              "                                                     [key], {});\n",
              "          if (!dataTable) return;\n",
              "\n",
              "          const docLinkHtml = 'Like what you see? Visit the ' +\n",
              "            '<a target=\"_blank\" href=https://colab.research.google.com/notebooks/data_table.ipynb>data table notebook</a>'\n",
              "            + ' to learn more about interactive tables.';\n",
              "          element.innerHTML = '';\n",
              "          dataTable['output_type'] = 'display_data';\n",
              "          await google.colab.output.renderOutput(dataTable, element);\n",
              "          const docLink = document.createElement('div');\n",
              "          docLink.innerHTML = docLinkHtml;\n",
              "          element.appendChild(docLink);\n",
              "        }\n",
              "      </script>\n",
              "    </div>\n",
              "  </div>\n",
              "  "
            ]
          },
          "metadata": {},
          "execution_count": 16
        }
      ],
      "source": [
        "data.head()"
      ]
    },
    {
      "cell_type": "markdown",
      "metadata": {
        "id": "A3sIgjv1-HzZ"
      },
      "source": [
        "## Tokenization"
      ]
    },
    {
      "cell_type": "code",
      "execution_count": 17,
      "metadata": {
        "colab": {
          "base_uri": "https://localhost:8080/"
        },
        "id": "TjL7VZfh9_sn",
        "outputId": "e47c2d11-ba08-40a0-acdd-b6fe6cfb753e"
      },
      "outputs": [
        {
          "output_type": "execute_result",
          "data": {
            "text/plain": [
              "0    [not, for, everyone, fun, drive, tall, man, sp...\n",
              "1    [this, truck, the, best, truck, you, could, bu...\n",
              "2                                [love, the, car, far]\n",
              "3    [have, owned, the, 300h, now, for, two, years,...\n",
              "4    [had, 2007, chrysler, mini, van, that, was, ru...\n",
              "Name: clean_reviews, dtype: object"
            ]
          },
          "metadata": {},
          "execution_count": 17
        }
      ],
      "source": [
        "tokenized_reviews = data['clean_reviews'].apply(lambda x: x.split()) #tokenizing\n",
        "tokenized_reviews.head()"
      ]
    },
    {
      "cell_type": "markdown",
      "metadata": {
        "id": "ulmpUyim-KOB"
      },
      "source": [
        "## Lemmatization"
      ]
    },
    {
      "cell_type": "code",
      "execution_count": 18,
      "metadata": {
        "colab": {
          "base_uri": "https://localhost:8080/"
        },
        "id": "mKNnzEmD-NgP",
        "outputId": "7cc303ac-b5b6-4185-91d0-5069855e49a4"
      },
      "outputs": [
        {
          "output_type": "execute_result",
          "data": {
            "text/plain": [
              "0    [not, for, everyone, fun, drive, tall, man, sp...\n",
              "1    [this, truck, the, best, truck, you, could, bu...\n",
              "2                                [love, the, car, far]\n",
              "3    [have, own, the, 300h, now, for, two, years, g...\n",
              "4    [have, 2007, chrysler, mini, van, that, be, ru...\n",
              "Name: clean_reviews, dtype: object"
            ]
          },
          "metadata": {},
          "execution_count": 18
        }
      ],
      "source": [
        "lemmatized_reviews = tokenized_reviews.apply(lambda x: [lemmaObj.lemmatize(word,pos='v') for word in x])\n",
        "lemmatized_reviews.head()"
      ]
    },
    {
      "cell_type": "code",
      "source": [
        "data['lemmatized_reviews'] = lemmatized_reviews\n",
        "data['lemmatized_reviews'] = data['lemmatized_reviews'].apply(lambda x: ' '.join(x))"
      ],
      "metadata": {
        "id": "hOKjwT3pDyB2"
      },
      "execution_count": 19,
      "outputs": []
    },
    {
      "cell_type": "code",
      "source": [
        "data.head()"
      ],
      "metadata": {
        "colab": {
          "base_uri": "https://localhost:8080/",
          "height": 206
        },
        "id": "B0pquhoHSlDT",
        "outputId": "7ce0b9e4-b320-4c0d-e07a-25fc1f727728"
      },
      "execution_count": 20,
      "outputs": [
        {
          "output_type": "execute_result",
          "data": {
            "text/plain": [
              "                                              Review  \\\n",
              "0   Not for everyone. Fun to drive-- a tall man's...   \n",
              "1   This truck is the best truck you could \\rbuy,...   \n",
              "2                             I love the car so far!   \n",
              "3   I have owned the 300H now for two years.  Gas...   \n",
              "4   I had a 2007 Chrysler Mini Van that was runni...   \n",
              "\n",
              "                                       clean_reviews  \\\n",
              "0  not for everyone fun drive tall man sports car...   \n",
              "1  this truck the best truck you could buy its de...   \n",
              "2                                   love the car far   \n",
              "3  have owned the 300h now for two years gas mile...   \n",
              "4  had 2007 chrysler mini van that was running fi...   \n",
              "\n",
              "                                  lemmatized_reviews  \n",
              "0  not for everyone fun drive tall man sport car ...  \n",
              "1  this truck the best truck you could buy its de...  \n",
              "2                                   love the car far  \n",
              "3  have own the 300h now for two years gas mileag...  \n",
              "4  have 2007 chrysler mini van that be run fine w...  "
            ],
            "text/html": [
              "\n",
              "  <div id=\"df-b9a56412-de7e-4a2f-be80-ada31bda84ef\">\n",
              "    <div class=\"colab-df-container\">\n",
              "      <div>\n",
              "<style scoped>\n",
              "    .dataframe tbody tr th:only-of-type {\n",
              "        vertical-align: middle;\n",
              "    }\n",
              "\n",
              "    .dataframe tbody tr th {\n",
              "        vertical-align: top;\n",
              "    }\n",
              "\n",
              "    .dataframe thead th {\n",
              "        text-align: right;\n",
              "    }\n",
              "</style>\n",
              "<table border=\"1\" class=\"dataframe\">\n",
              "  <thead>\n",
              "    <tr style=\"text-align: right;\">\n",
              "      <th></th>\n",
              "      <th>Review</th>\n",
              "      <th>clean_reviews</th>\n",
              "      <th>lemmatized_reviews</th>\n",
              "    </tr>\n",
              "  </thead>\n",
              "  <tbody>\n",
              "    <tr>\n",
              "      <th>0</th>\n",
              "      <td>Not for everyone. Fun to drive-- a tall man's...</td>\n",
              "      <td>not for everyone fun drive tall man sports car...</td>\n",
              "      <td>not for everyone fun drive tall man sport car ...</td>\n",
              "    </tr>\n",
              "    <tr>\n",
              "      <th>1</th>\n",
              "      <td>This truck is the best truck you could \\rbuy,...</td>\n",
              "      <td>this truck the best truck you could buy its de...</td>\n",
              "      <td>this truck the best truck you could buy its de...</td>\n",
              "    </tr>\n",
              "    <tr>\n",
              "      <th>2</th>\n",
              "      <td>I love the car so far!</td>\n",
              "      <td>love the car far</td>\n",
              "      <td>love the car far</td>\n",
              "    </tr>\n",
              "    <tr>\n",
              "      <th>3</th>\n",
              "      <td>I have owned the 300H now for two years.  Gas...</td>\n",
              "      <td>have owned the 300h now for two years gas mile...</td>\n",
              "      <td>have own the 300h now for two years gas mileag...</td>\n",
              "    </tr>\n",
              "    <tr>\n",
              "      <th>4</th>\n",
              "      <td>I had a 2007 Chrysler Mini Van that was runni...</td>\n",
              "      <td>had 2007 chrysler mini van that was running fi...</td>\n",
              "      <td>have 2007 chrysler mini van that be run fine w...</td>\n",
              "    </tr>\n",
              "  </tbody>\n",
              "</table>\n",
              "</div>\n",
              "      <button class=\"colab-df-convert\" onclick=\"convertToInteractive('df-b9a56412-de7e-4a2f-be80-ada31bda84ef')\"\n",
              "              title=\"Convert this dataframe to an interactive table.\"\n",
              "              style=\"display:none;\">\n",
              "        \n",
              "  <svg xmlns=\"http://www.w3.org/2000/svg\" height=\"24px\"viewBox=\"0 0 24 24\"\n",
              "       width=\"24px\">\n",
              "    <path d=\"M0 0h24v24H0V0z\" fill=\"none\"/>\n",
              "    <path d=\"M18.56 5.44l.94 2.06.94-2.06 2.06-.94-2.06-.94-.94-2.06-.94 2.06-2.06.94zm-11 1L8.5 8.5l.94-2.06 2.06-.94-2.06-.94L8.5 2.5l-.94 2.06-2.06.94zm10 10l.94 2.06.94-2.06 2.06-.94-2.06-.94-.94-2.06-.94 2.06-2.06.94z\"/><path d=\"M17.41 7.96l-1.37-1.37c-.4-.4-.92-.59-1.43-.59-.52 0-1.04.2-1.43.59L10.3 9.45l-7.72 7.72c-.78.78-.78 2.05 0 2.83L4 21.41c.39.39.9.59 1.41.59.51 0 1.02-.2 1.41-.59l7.78-7.78 2.81-2.81c.8-.78.8-2.07 0-2.86zM5.41 20L4 18.59l7.72-7.72 1.47 1.35L5.41 20z\"/>\n",
              "  </svg>\n",
              "      </button>\n",
              "      \n",
              "  <style>\n",
              "    .colab-df-container {\n",
              "      display:flex;\n",
              "      flex-wrap:wrap;\n",
              "      gap: 12px;\n",
              "    }\n",
              "\n",
              "    .colab-df-convert {\n",
              "      background-color: #E8F0FE;\n",
              "      border: none;\n",
              "      border-radius: 50%;\n",
              "      cursor: pointer;\n",
              "      display: none;\n",
              "      fill: #1967D2;\n",
              "      height: 32px;\n",
              "      padding: 0 0 0 0;\n",
              "      width: 32px;\n",
              "    }\n",
              "\n",
              "    .colab-df-convert:hover {\n",
              "      background-color: #E2EBFA;\n",
              "      box-shadow: 0px 1px 2px rgba(60, 64, 67, 0.3), 0px 1px 3px 1px rgba(60, 64, 67, 0.15);\n",
              "      fill: #174EA6;\n",
              "    }\n",
              "\n",
              "    [theme=dark] .colab-df-convert {\n",
              "      background-color: #3B4455;\n",
              "      fill: #D2E3FC;\n",
              "    }\n",
              "\n",
              "    [theme=dark] .colab-df-convert:hover {\n",
              "      background-color: #434B5C;\n",
              "      box-shadow: 0px 1px 3px 1px rgba(0, 0, 0, 0.15);\n",
              "      filter: drop-shadow(0px 1px 2px rgba(0, 0, 0, 0.3));\n",
              "      fill: #FFFFFF;\n",
              "    }\n",
              "  </style>\n",
              "\n",
              "      <script>\n",
              "        const buttonEl =\n",
              "          document.querySelector('#df-b9a56412-de7e-4a2f-be80-ada31bda84ef button.colab-df-convert');\n",
              "        buttonEl.style.display =\n",
              "          google.colab.kernel.accessAllowed ? 'block' : 'none';\n",
              "\n",
              "        async function convertToInteractive(key) {\n",
              "          const element = document.querySelector('#df-b9a56412-de7e-4a2f-be80-ada31bda84ef');\n",
              "          const dataTable =\n",
              "            await google.colab.kernel.invokeFunction('convertToInteractive',\n",
              "                                                     [key], {});\n",
              "          if (!dataTable) return;\n",
              "\n",
              "          const docLinkHtml = 'Like what you see? Visit the ' +\n",
              "            '<a target=\"_blank\" href=https://colab.research.google.com/notebooks/data_table.ipynb>data table notebook</a>'\n",
              "            + ' to learn more about interactive tables.';\n",
              "          element.innerHTML = '';\n",
              "          dataTable['output_type'] = 'display_data';\n",
              "          await google.colab.output.renderOutput(dataTable, element);\n",
              "          const docLink = document.createElement('div');\n",
              "          docLink.innerHTML = docLinkHtml;\n",
              "          element.appendChild(docLink);\n",
              "        }\n",
              "      </script>\n",
              "    </div>\n",
              "  </div>\n",
              "  "
            ]
          },
          "metadata": {},
          "execution_count": 20
        }
      ]
    },
    {
      "cell_type": "markdown",
      "source": [
        "## Spliting the data into Train and Test"
      ],
      "metadata": {
        "id": "kShuuyDugKZN"
      }
    },
    {
      "cell_type": "code",
      "execution_count": 21,
      "metadata": {
        "id": "y05hCF9JGScB"
      },
      "outputs": [],
      "source": [
        "X_train, X_test = train_test_split(data['lemmatized_reviews'], test_size=0.30, random_state=1)"
      ]
    },
    {
      "cell_type": "markdown",
      "source": [
        "### TFIDF Vectorizer"
      ],
      "metadata": {
        "id": "LtcFJ2HTOCfu"
      }
    },
    {
      "cell_type": "code",
      "execution_count": 22,
      "metadata": {
        "id": "mhyytLSsGoDK"
      },
      "outputs": [],
      "source": [
        "tfidf_vectorizer = TfidfVectorizer(max_df=0.80,min_df=20,max_features=20000,stop_words='english',use_idf=False, norm=None)\n",
        "tfidf = tfidf_vectorizer.fit_transform(X_train)"
      ]
    },
    {
      "cell_type": "code",
      "source": [
        "tfidf.toarray()"
      ],
      "metadata": {
        "id": "F3tyb3ozhT2K",
        "colab": {
          "base_uri": "https://localhost:8080/"
        },
        "outputId": "641319a9-4208-4fc4-eb96-0479afd72051"
      },
      "execution_count": 26,
      "outputs": [
        {
          "output_type": "execute_result",
          "data": {
            "text/plain": [
              "array([[0., 0., 0., ..., 0., 0., 0.],\n",
              "       [0., 0., 0., ..., 0., 0., 0.],\n",
              "       [0., 0., 0., ..., 0., 0., 0.],\n",
              "       ...,\n",
              "       [0., 0., 0., ..., 0., 0., 0.],\n",
              "       [0., 0., 0., ..., 0., 0., 0.],\n",
              "       [0., 0., 0., ..., 0., 0., 0.]])"
            ]
          },
          "metadata": {},
          "execution_count": 26
        }
      ]
    },
    {
      "cell_type": "code",
      "source": [
        "tfidf.shape"
      ],
      "metadata": {
        "colab": {
          "base_uri": "https://localhost:8080/"
        },
        "id": "-Cj2cqvc2VIq",
        "outputId": "7f54effe-7547-4941-8e4b-87448e6d9a1c"
      },
      "execution_count": 28,
      "outputs": [
        {
          "output_type": "execute_result",
          "data": {
            "text/plain": [
              "(47570, 4907)"
            ]
          },
          "metadata": {},
          "execution_count": 28
        }
      ]
    },
    {
      "cell_type": "markdown",
      "source": [
        "## Model Building"
      ],
      "metadata": {
        "id": "qfIAuw7lG_2x"
      }
    },
    {
      "cell_type": "markdown",
      "source": [
        "### LDA with 20 topics"
      ],
      "metadata": {
        "id": "Gxunz6BROIa-"
      }
    },
    {
      "cell_type": "code",
      "execution_count": 27,
      "metadata": {
        "id": "U51hf3lzGqec"
      },
      "outputs": [],
      "source": [
        "lda = decomposition.LatentDirichletAllocation(n_components=20, max_iter=5, learning_method='online', learning_offset=50, n_jobs=1)\n",
        "lda_ = lda.fit_transform(tfidf)\n",
        "lda_comp = lda.components_"
      ]
    },
    {
      "cell_type": "code",
      "source": [
        "lda_"
      ],
      "metadata": {
        "colab": {
          "base_uri": "https://localhost:8080/"
        },
        "id": "Ze0oVXmC2Lc4",
        "outputId": "792f26f7-f646-47a8-951f-62e16149ecd7"
      },
      "execution_count": 34,
      "outputs": [
        {
          "output_type": "execute_result",
          "data": {
            "text/plain": [
              "array([[0.00113636, 0.00113636, 0.00113636, ..., 0.00113636, 0.17681355,\n",
              "        0.00113636],\n",
              "       [0.0125    , 0.0125    , 0.0125    , ..., 0.0125    , 0.29159875,\n",
              "        0.0125    ],\n",
              "       [0.00102041, 0.00102041, 0.00102041, ..., 0.00102041, 0.00102041,\n",
              "        0.00102041],\n",
              "       ...,\n",
              "       [0.00217391, 0.00217391, 0.00217391, ..., 0.00217391, 0.00217391,\n",
              "        0.00217391],\n",
              "       [0.005     , 0.005     , 0.005     , ..., 0.005     , 0.53613149,\n",
              "        0.005     ],\n",
              "       [0.00384615, 0.00384615, 0.00384615, ..., 0.00384615, 0.00384615,\n",
              "        0.00384615]])"
            ]
          },
          "metadata": {},
          "execution_count": 34
        }
      ]
    },
    {
      "cell_type": "code",
      "source": [
        "lda.components_"
      ],
      "metadata": {
        "colab": {
          "base_uri": "https://localhost:8080/"
        },
        "id": "H_aR33Pd3iwA",
        "outputId": "c084f847-5189-43e7-a343-4aabcc0370a3"
      },
      "execution_count": 33,
      "outputs": [
        {
          "output_type": "execute_result",
          "data": {
            "text/plain": [
              "array([[ 0.05525949,  0.05      ,  0.05      , ...,  0.05      ,\n",
              "         0.05      ,  0.05000006],\n",
              "       [ 0.05002546,  0.05      , 31.4324638 , ...,  0.05      ,\n",
              "         0.05      ,  0.05      ],\n",
              "       [ 0.05      ,  0.05      ,  0.05      , ...,  0.05000016,\n",
              "         0.05      ,  0.05      ],\n",
              "       ...,\n",
              "       [ 0.05      ,  0.05      ,  0.05      , ...,  0.05      ,\n",
              "         0.05      ,  0.05      ],\n",
              "       [ 0.05089809,  0.05      ,  0.05      , ...,  0.05      ,\n",
              "         0.05000001,  0.05      ],\n",
              "       [ 0.05      ,  0.05      ,  0.05      , ...,  0.05000001,\n",
              "         0.05      ,  0.05      ]])"
            ]
          },
          "metadata": {},
          "execution_count": 33
        }
      ]
    },
    {
      "cell_type": "markdown",
      "source": [
        "### Get topics"
      ],
      "metadata": {
        "id": "6wTTot09MIv_"
      }
    },
    {
      "cell_type": "code",
      "source": [
        "num_words = 20\n",
        "\n",
        "vocab = np.array(tfidf_vectorizer.get_feature_names())\n",
        "top_words = lambda words: [vocab[i] for i in np.argsort(words)[:-num_words-1:-1]]\n",
        "topic_words = ([top_words(c) for c in lda_comp])\n",
        "topics = [' '.join(words) for words in topic_words]"
      ],
      "metadata": {
        "id": "agfjlVl8MITW"
      },
      "execution_count": 40,
      "outputs": []
    },
    {
      "cell_type": "code",
      "source": [
        "# top 20 topics and 20 words\n",
        "for i in range(len(topics)):\n",
        "    print(\"Topic {}: \".format(i+1), topics[i])"
      ],
      "metadata": {
        "colab": {
          "base_uri": "https://localhost:8080/"
        },
        "id": "CWMK81I4NiKV",
        "outputId": "9007764b-470f-4bf4-e93c-27545259e99b"
      },
      "execution_count": 41,
      "outputs": [
        {
          "output_type": "stream",
          "name": "stdout",
          "text": [
            "Topic 1:  toyota vehicle van new purchase subaru honda quality buy trade mazda better 2001 model price build make mini previous minivan\n",
            "Topic 2:  kia hyundai guess near learn golf failure land warranty gti cruiser elantra sonata santa various volkswagen accent sorento present afraid\n",
            "Topic 3:  winter fast cold weather air summer heat hot loose mount start live warm cool tend turn head heater slow condition\n",
            "Topic 4:  seat control steer wheel rear tire power like road noise interior driver make turn light brake radio door sound hard\n",
            "Topic 5:  car drive ride great smooth handle interior comfortable feel power like quiet look nice good engine excellent love sound fun\n",
            "Topic 6:  turn fit finish tranny machine older radius 4runner smile face cloth roof model black taurus glass wrangler head awesome 70k\n",
            "Topic 7:  shift transmission gear actually manual key park step traffic clutch 2nd middle 3rd rpm auto stick 1st easier bag trans\n",
            "Topic 8:  car drive great fun love handle snow recommend look road buy wonderful comfortable best good awd highly absolutely safe amaze\n",
            "Topic 9:  miles mileage mpg gas good drive great highway 000 buy average fuel better trip use vehicle city car years reliable\n",
            "Topic 10:  volvo package design cup grand away turn head premium friend fast interior star walk holders light today mean safety jaguar\n",
            "Topic 11:  car miles replace buy 000 dollar time new problems engine problem repair dealer issue fix years oil warranty brake transmission\n",
            "Topic 12:  door weeks open days dealer say home doors issue dealership lock tell close later come happen try ago wait order\n",
            "Topic 13:  vehicle add vehicles body benz expectations liter throttle exhaust exceed performance pathfinder jeep horsepower experience truly engine appeal rent remain\n",
            "Topic 14:  car cars honda price sport drive like performance really look quality best build accord turbo great civic buy fantastic sedan\n",
            "Topic 15:  car drive love look buy just like want think say new suv know make time people lot test years feel\n",
            "Topic 16:  single exceptional camp flawless vans optional dad speedometer literally ski ramp sti wife exceptionally horn com steel tiguan primarily safer\n",
            "Topic 17:  truck ford tow chevy dodge pull power great trailer love cab diesel 4x4 look haul dependable like buick dog work\n",
            "Topic 18:  bed rack bar tie tailgate north rod america bass esp rods versatility exist double pinion 25mpg sheet evo link gotta\n",
            "Topic 19:  seat car room space like use feature need drive really great lot vehicle fit small comfortable easy good suv cargo\n",
            "Topic 20:  bmw lexus audi mercedes best convertible luxury better series car cadillac infiniti porsche lincoln class fast value luxurious compare performance\n"
          ]
        }
      ]
    },
    {
      "cell_type": "markdown",
      "source": [
        "### Graph Representation"
      ],
      "metadata": {
        "id": "fz-3ZCyuKO-y"
      }
    },
    {
      "cell_type": "code",
      "source": [
        "import pyLDAvis.sklearn\n",
        "pyLDAvis.enable_notebook()\n",
        "pyLDAvis.sklearn.prepare(lda, tfidf,tfidf_vectorizer,mds='tsne')"
      ],
      "metadata": {
        "colab": {
          "base_uri": "https://localhost:8080/",
          "height": 861
        },
        "id": "YaEOEf9KJZpo",
        "outputId": "d2eed197-01f7-49f1-a5ae-0e8fa1249787"
      },
      "execution_count": 42,
      "outputs": [
        {
          "output_type": "execute_result",
          "data": {
            "text/plain": [
              "PreparedData(topic_coordinates=                x           y  topics  cluster       Freq\n",
              "topic                                                    \n",
              "10    -10.878068   10.538728   1       1        21.702086\n",
              "8     -60.884026  -75.591820   2       1        12.707917\n",
              "18    -2.336119   -53.289074   3       1        10.039635\n",
              "4     -61.385319  -12.914634   4       1        8.733882 \n",
              "3     -28.737743   126.296997  5       1        8.342685 \n",
              "14     1.066606   -123.552811  6       1        7.163963 \n",
              "13     45.140720  -7.947869    7       1        5.578820 \n",
              "7     -140.795975 -98.530548   8       1        4.619676 \n",
              "0      61.531681  -83.240562   9       1        3.963787 \n",
              "16    -72.563057  -140.396881  10      1        3.079595 \n",
              "11     15.984491   63.578186   11      1        2.747369 \n",
              "19    -160.851624  68.945145   12      1        1.969867 \n",
              "9      85.961830   51.922935   13      1        1.847852 \n",
              "6     -99.020836   109.936348  14      1        1.666492 \n",
              "12    -176.764130 -8.681684    15      1        1.411525 \n",
              "2     -117.189880 -37.420200   16      1        1.280140 \n",
              "5      108.829918 -22.946203   17      1        1.168163 \n",
              "1      47.588097   121.934814  18      1        0.875718 \n",
              "15    -106.467834  30.176889   19      1        0.571685 \n",
              "17    -50.613804   59.328842   20      1        0.529144 , topic_info=         Term          Freq         Total Category  logprob  loglift\n",
              "933   car      63282.000000  63282.000000  Default  30.0000  30.0000\n",
              "4681  vehicle  13126.000000  13126.000000  Default  29.0000  29.0000\n",
              "1573  drive    33686.000000  33686.000000  Default  28.0000  28.0000\n",
              "4539  truck    9440.000000   9440.000000   Default  27.0000  27.0000\n",
              "2133  great    20191.000000  20191.000000  Default  26.0000  26.0000\n",
              "...     ...             ...           ...      ...      ...      ...\n",
              "2683  liner    78.372377     79.348914     Topic20 -4.8321   5.2293 \n",
              "4284  sunfire  78.264404     79.240942     Topic20 -4.8335   5.2293 \n",
              "688   bar      406.625734    429.408325    Topic20 -3.1857   5.1871 \n",
              "1541  double   127.303567    235.043018    Topic20 -4.3470   4.6285 \n",
              "2685  link     109.669037    173.173589    Topic20 -4.4961   4.7848 \n",
              "\n",
              "[1182 rows x 6 columns], token_table=      Topic      Freq   Term\n",
              "term                        \n",
              "0     1      0.698009  000  \n",
              "0     2      0.301937  000  \n",
              "27    16     0.992636  110k \n",
              "43    2      0.985816  125k \n",
              "62    1      0.251218  150  \n",
              "...  ..           ...   ... \n",
              "4898  10     0.994722  z71  \n",
              "4900  17     0.992348  zip  \n",
              "4901  4      0.990763  zippy\n",
              "4902  5      0.987729  zone \n",
              "4903  9      0.992233  zoom \n",
              "\n",
              "[2699 rows x 3 columns], R=30, lambda_step=0.01, plot_opts={'xlab': 'PC1', 'ylab': 'PC2'}, topic_order=[11, 9, 19, 5, 4, 15, 14, 8, 1, 17, 12, 20, 10, 7, 13, 3, 6, 2, 16, 18])"
            ],
            "text/html": [
              "\n",
              "<link rel=\"stylesheet\" type=\"text/css\" href=\"https://cdn.jsdelivr.net/gh/bmabey/pyLDAvis@3.3.1/pyLDAvis/js/ldavis.v1.0.0.css\">\n",
              "\n",
              "\n",
              "<div id=\"ldavis_el1581396523386830085996888121\"></div>\n",
              "<script type=\"text/javascript\">\n",
              "\n",
              "var ldavis_el1581396523386830085996888121_data = {\"mdsDat\": {\"x\": [-10.878067970275879, -60.88402557373047, -2.3361191749572754, -61.385318756103516, -28.737743377685547, 1.0666056871414185, 45.14072036743164, -140.7959747314453, 61.531681060791016, -72.56305694580078, 15.984491348266602, -160.85162353515625, 85.96183013916016, -99.02083587646484, -176.76412963867188, -117.18988037109375, 108.82991790771484, 47.588096618652344, -106.46783447265625, -50.61380386352539], \"y\": [10.538727760314941, -75.5918197631836, -53.2890739440918, -12.914633750915527, 126.2969970703125, -123.55281066894531, -7.947869300842285, -98.53054809570312, -83.24056243896484, -140.39688110351562, 63.57818603515625, 68.94514465332031, 51.922935485839844, 109.93634796142578, -8.681683540344238, -37.42020034790039, -22.946203231811523, 121.934814453125, 30.176889419555664, 59.32884216308594], \"topics\": [1, 2, 3, 4, 5, 6, 7, 8, 9, 10, 11, 12, 13, 14, 15, 16, 17, 18, 19, 20], \"cluster\": [1, 1, 1, 1, 1, 1, 1, 1, 1, 1, 1, 1, 1, 1, 1, 1, 1, 1, 1, 1], \"Freq\": [21.702085742224025, 12.707916605742152, 10.039634840829514, 8.73388200476628, 8.342685010928989, 7.163963016436825, 5.578819954436066, 4.619676462284082, 3.96378681055536, 3.0795946337969795, 2.747368796048694, 1.969866867535519, 1.8478519027470406, 1.6664915538288718, 1.4115252137765062, 1.2801401272819515, 1.1681634820583726, 0.8757176849429766, 0.5716849035225526, 0.5291443862572415]}, \"tinfo\": {\"Term\": [\"car\", \"vehicle\", \"drive\", \"truck\", \"great\", \"miles\", \"transmission\", \"love\", \"seat\", \"fun\", \"mileage\", \"mpg\", \"bmw\", \"warranty\", \"ford\", \"dealer\", \"gas\", \"look\", \"000\", \"new\", \"turn\", \"replace\", \"buy\", \"toyota\", \"handle\", \"ride\", \"shift\", \"best\", \"fit\", \"like\", \"leak\", \"pump\", \"water\", \"sensor\", \"electrical\", \"bear\", \"mechanic\", \"rotors\", \"pad\", \"seal\", \"gasket\", \"alternator\", \"fluid\", \"radiator\", \"valve\", \"wire\", \"strut\", \"lemon\", \"starter\", \"refuse\", \"strand\", \"rebuild\", \"coolant\", \"converter\", \"stall\", \"hose\", \"rust\", \"compressor\", \"alignment\", \"coil\", \"belt\", \"replace\", \"repair\", \"fix\", \"recall\", \"battery\", \"fail\", \"oil\", \"service\", \"warranty\", \"twice\", \"dollar\", \"000\", \"problem\", \"problems\", \"break\", \"cover\", \"miles\", \"dealer\", \"time\", \"issue\", \"brake\", \"change\", \"start\", \"buy\", \"new\", \"engine\", \"car\", \"transmission\", \"years\", \"tire\", \"light\", \"work\", \"year\", \"need\", \"just\", \"whistle\", \"tacoma\", \"hwy\", \"avg\", \"frontier\", \"epa\", \"gallon\", \"drag\", \"duty\", \"envoy\", \"xlt\", \"ridgeline\", \"appoint\", \"slt\", \"aspects\", \"gem\", \"sierra\", \"300k\", \"spray\", \"offroad\", \"trd\", \"7500\", \"garmin\", \"bulletproof\", \"maint\", \"22mpg\", \"hiway\", \"18mpg\", \"milan\", \"125k\", \"mpg\", \"average\", \"mileage\", \"city\", \"gas\", \"boat\", \"town\", \"economy\", \"bell\", \"highway\", \"milage\", \"tank\", \"commute\", \"trip\", \"fuel\", \"hybrid\", \"miles\", \"combine\", \"mile\", \"round\", \"150\", \"good\", \"reliable\", \"percent\", \"mph\", \"better\", \"long\", \"000\", \"use\", \"expect\", \"great\", \"far\", \"vehicle\", \"buy\", \"drive\", \"run\", \"years\", \"overall\", \"little\", \"speed\", \"comfortable\", \"like\", \"road\", \"car\", \"new\", \"just\", \"cargo\", \"bluetooth\", \"fold\", \"storage\", \"space\", \"corolla\", \"height\", \"backup\", \"usb\", \"useful\", \"ipod\", \"california\", \"backseat\", \"pros\", \"port\", \"don\", \"versa\", \"versatile\", \"volt\", \"groceries\", \"iphone\", \"chair\", \"convenient\", \"android\", \"beam\", \"adult\", \"70mph\", \"recline\", \"interface\", \"lever\", \"tall\", \"apple\", \"row\", \"leg\", \"adults\", \"comfortably\", \"passengers\", \"sync\", \"room\", \"wagon\", \"phone\", \"seat\", \"navigation\", \"camera\", \"trunk\", \"kid\", \"reasonable\", \"fit\", \"sit\", \"feature\", \"screen\", \"large\", \"small\", \"nav\", \"carry\", \"easy\", \"really\", \"size\", \"need\", \"use\", \"lot\", \"suv\", \"like\", \"comfortable\", \"park\", \"rear\", \"car\", \"great\", \"drive\", \"vehicle\", \"want\", \"good\", \"nice\", \"just\", \"time\", \"work\", \"love\", \"acura\", \"mustang\", \"mdx\", \"attractive\", \"particularly\", \"genesis\", \"pleasantly\", \"significantly\", \"6th\", \"fastest\", \"tooth\", \"zippy\", \"patriot\", \"hesitant\", \"surround\", \"mkz\", \"murano\", \"upholstery\", \"smoothest\", \"michelins\", \"admire\", \"solara\", \"complement\", \"silky\", \"century\", \"lesabre\", \"interstates\", \"tlx\", \"silk\", \"e320\", \"smooth\", \"quiet\", \"bland\", \"rail\", \"responsive\", \"ride\", \"exterior\", \"refine\", \"powerful\", \"excellent\", \"nice\", \"blue\", \"sporty\", \"interior\", \"solid\", \"comfortable\", \"bose\", \"sound\", \"feel\", \"quite\", \"handle\", \"plenty\", \"quick\", \"power\", \"package\", \"acceleration\", \"suspension\", \"speed\", \"drive\", \"bite\", \"car\", \"great\", \"engine\", \"good\", \"look\", \"like\", \"fun\", \"love\", \"road\", \"comfort\", \"better\", \"seat\", \"just\", \"make\", \"little\", \"view\", \"voice\", \"remote\", \"wet\", \"lumbar\", \"entertainment\", \"gate\", \"adjustment\", \"coast\", \"flawlessly\", \"production\", \"alloy\", \"stain\", \"adjustments\", \"knobs\", \"plow\", \"recognition\", \"disable\", \"connection\", \"vision\", \"windy\", \"bounce\", \"activate\", \"zone\", \"beep\", \"uneven\", \"gearbox\", \"effortlessly\", \"seatbelt\", \"wake\", \"steer\", \"console\", \"mirror\", \"adjust\", \"mat\", \"control\", \"tilt\", \"center\", \"bucket\", \"display\", \"wheel\", \"climate\", \"floor\", \"accelerator\", \"plastic\", \"button\", \"cruise\", \"wind\", \"lane\", \"radio\", \"rear\", \"panel\", \"support\", \"noise\", \"driver\", \"seat\", \"mode\", \"pedal\", \"hard\", \"tire\", \"turn\", \"road\", \"stop\", \"light\", \"door\", \"power\", \"sound\", \"interior\", \"brake\", \"make\", \"like\", \"speed\", \"work\", \"poor\", \"handle\", \"engine\", \"use\", \"start\", \"feel\", \"drive\", \"tough\", \"mitsubishi\", \"unique\", \"silver\", \"beast\", \"mom\", \"6000\", \"yukon\", \"suit\", \"xterra\", \"outlander\", \"proud\", \"eclipse\", \"rugged\", \"thumb\", \"dependability\", \"pearl\", \"laugh\", \"washer\", \"montero\", \"homework\", \"vacuum\", \"wax\", \"rave\", \"headache\", \"heartbeat\", \"uphill\", \"celica\", \"spectacular\", \"gold\", \"saw\", \"jeep\", \"chance\", \"compliment\", \"cyl\", \"cherokee\", \"people\", \"review\", \"want\", \"love\", \"look\", \"ask\", \"suv\", \"know\", \"just\", \"think\", \"test\", \"color\", \"say\", \"like\", \"thing\", \"buy\", \"drive\", \"car\", \"black\", \"day\", \"new\", \"make\", \"lot\", \"old\", \"time\", \"feel\", \"way\", \"years\", \"reliable\", \"come\", \"purchase\", \"year\", \"good\", \"accord\", \"fantastic\", \"civic\", \"camry\", \"true\", \"passat\", \"rover\", \"crv\", \"classy\", \"thrill\", \"wrx\", \"hell\", \"rpms\", \"msrp\", \"german\", \"choices\", \"keeper\", \"agile\", \"supercharge\", \"echo\", \"volvos\", \"killer\", \"sable\", \"crown\", \"seater\", \"difficulty\", \"inferior\", \"porsches\", \"rival\", \"autos\", \"altima\", \"turbo\", \"automobile\", \"japanese\", \"coupe\", \"honda\", \"european\", \"cars\", \"sport\", \"sedans\", \"pilot\", \"sedan\", \"price\", \"range\", \"performance\", \"build\", \"car\", \"quality\", \"american\", \"reliability\", \"really\", \"best\", \"like\", \"high\", \"look\", \"drive\", \"style\", \"want\", \"comfort\", \"years\", \"model\", \"great\", \"handle\", \"make\", \"buy\", \"dollar\", \"feel\", \"miata\", \"optima\", \"yaris\", \"taller\", \"joy\", \"awsome\", \"aveo\", \"recomend\", \"cart\", \"twisty\", \"xenon\", \"excursion\", \"manners\", \"nose\", \"slippery\", \"buckle\", \"300c\", \"40mpg\", \"s2000\", \"euro\", \"conservatively\", \"litre\", \"cx9\", \"qualities\", \"freak\", \"mariner\", \"sportscar\", \"328\", \"flexibility\", \"srt8\", \"snow\", \"wonderful\", \"blast\", \"storm\", \"fun\", \"ice\", \"highly\", \"everyday\", \"great\", \"drive\", \"car\", \"efficiency\", \"safe\", \"absolutely\", \"recommend\", \"love\", \"handle\", \"pleasure\", \"awd\", \"rain\", \"awesome\", \"month\", \"amaze\", \"daughter\", \"plenty\", \"road\", \"perfect\", \"roads\", \"best\", \"comfortable\", \"look\", \"fuel\", \"buy\", \"good\", \"problems\", \"little\", \"year\", \"power\", \"subaru\", \"van\", \"2001\", \"mini\", \"minivan\", \"buck\", \"jetta\", \"highlander\", \"outback\", \"bang\", \"avalon\", \"sienna\", \"toyotas\", \"caravan\", \"legacy\", \"buyers\", \"sequoia\", \"fabulous\", \"zoom\", \"runner\", \"pacifica\", \"japan\", \"xle\", \"forester\", \"domestic\", \"minivans\", \"rx350\", \"mexico\", \"source\", \"lid\", \"toyota\", \"consumption\", \"generation\", \"mazda\", \"chrysler\", \"previous\", \"honda\", \"2015\", \"redesign\", \"quality\", \"purchase\", \"trade\", \"new\", \"vehicle\", \"offer\", \"build\", \"model\", \"better\", \"price\", \"value\", \"buy\", \"compare\", \"family\", \"make\", \"decide\", \"far\", \"feature\", \"lexus\", \"truck\", \"trailer\", \"dependable\", \"buick\", \"dog\", \"ram\", \"escape\", \"rim\", \"explorer\", \"cab\", \"tundra\", \"f150\", \"silverado\", \"absolute\", \"ranger\", \"crew\", \"driveway\", \"assistance\", \"titan\", \"fade\", \"dakota\", \"traverse\", \"busy\", \"onstar\", \"7000\", \"security\", \"gal\", \"roadside\", \"discontinue\", \"z71\", \"diesel\", \"tow\", \"4x4\", \"chevy\", \"ford\", \"gmc\", \"dodge\", \"hemi\", \"pull\", \"suburban\", \"haul\", \"4wd\", \"power\", \"love\", \"great\", \"look\", \"plenty\", \"load\", \"like\", \"work\", \"need\", \"size\", \"buy\", \"drive\", \"weeks\", \"open\", \"ball\", \"odyssey\", \"unlock\", \"august\", \"attempt\", \"whine\", \"1996\", \"dec\", \"enclave\", \"incline\", \"private\", \"protect\", \"quest\", \"deploy\", \"didn\", \"request\", \"confirm\", \"1800\", \"slightest\", \"btw\", \"inconvenience\", \"buzz\", \"associate\", \"liftgate\", \"booster\", \"fenders\", \"trailers\", \"police\", \"days\", \"involve\", \"home\", \"doors\", \"glove\", \"answer\", \"order\", \"door\", \"2018\", \"lock\", \"return\", \"number\", \"manager\", \"happen\", \"dealer\", \"close\", \"later\", \"shut\", \"report\", \"say\", \"wait\", \"dealership\", \"state\", \"delivery\", \"tell\", \"week\", \"try\", \"ago\", \"issue\", \"update\", \"come\", \"months\", \"bring\", \"purchase\", \"notice\", \"vehicle\", \"bmw\", \"convertible\", \"series\", \"cadillac\", \"infiniti\", \"porsche\", \"lincoln\", \"luxurious\", \"corvette\", \"chevrolet\", \"impala\", \"camaro\", \"cts\", \"911\", \"mercedes\", \"escalade\", \"g35\", \"vette\", \"equal\", \"srx\", \"element\", \"denali\", \"roadster\", \"boxster\", \"caddy\", \"g37\", \"cayenne\", \"navigator\", \"sts\", \"sebring\", \"audi\", \"lexus\", \"wow\", \"maxima\", \"luxury\", \"class\", \"best\", \"fast\", \"value\", \"better\", \"compare\", \"prior\", \"performance\", \"car\", \"money\", \"look\", \"trade\", \"cars\", \"volvo\", \"cup\", \"walk\", \"holders\", \"cramp\", \"holder\", \"sleek\", \"changer\", \"jaguar\", \"reputation\", \"draw\", \"convenience\", \"locate\", \"location\", \"prix\", \"prepare\", \"didnt\", \"emissions\", \"tip\", \"s60\", \"custom\", \"slower\", \"grab\", \"woman\", \"durability\", \"eliminate\", \"marquis\", \"s40\", \"bench\", \"directly\", \"equinox\", \"friend\", \"star\", \"ultra\", \"grand\", \"package\", \"away\", \"premium\", \"faster\", \"design\", \"today\", \"mean\", \"head\", \"fast\", \"turn\", \"dream\", \"safety\", \"arm\", \"interior\", \"light\", \"cars\", \"rest\", \"like\", \"gear\", \"actually\", \"key\", \"step\", \"middle\", \"easier\", \"program\", \"poorly\", \"5th\", \"enter\", \"bike\", \"stink\", \"fob\", \"maneuver\", \"beetle\", \"exit\", \"rare\", \"fiat\", \"dial\", \"wonderfully\", \"plate\", \"license\", \"diff\", \"trash\", \"backwards\", \"intersection\", \"lurch\", \"econ\", \"disconnect\", \"individual\", \"shift\", \"downshifts\", \"overnight\", \"reverse\", \"rpm\", \"bag\", \"manual\", \"1st\", \"hang\", \"2nd\", \"shifter\", \"clutch\", \"transmission\", \"traffic\", \"park\", \"3rd\", \"trans\", \"stick\", \"auto\", \"age\", \"hill\", \"benz\", \"liter\", \"expectations\", \"throttle\", \"exceed\", \"pathfinder\", \"appeal\", \"rent\", \"liberty\", \"amg\", \"greatest\", \"flow\", \"gray\", \"aluminum\", \"aspect\", \"jeeps\", \"idrive\", \"ferrari\", \"taste\", \"isuzu\", \"moment\", \"roading\", \"indicator\", \"mods\", \"insist\", \"remarkable\", \"convertibles\", \"ecoboost\", \"extensive\", \"escort\", \"add\", \"remain\", \"vehicle\", \"body\", \"vehicles\", \"horsepower\", \"exhaust\", \"kit\", \"truly\", \"jeep\", \"performance\", \"roll\", \"experience\", \"note\", \"engine\", \"style\", \"line\", \"winter\", \"cold\", \"summer\", \"hot\", \"loose\", \"mount\", \"warm\", \"tend\", \"cap\", \"dry\", \"originally\", \"mold\", \"snowy\", \"150k\", \"degrees\", \"neon\", \"season\", \"skip\", \"cupholders\", \"harder\", \"chicago\", \"tree\", \"1995\", \"salt\", \"lake\", \"110k\", \"visors\", \"mos\", \"melt\", \"moderate\", \"desert\", \"texas\", \"weather\", \"fast\", \"strip\", \"air\", \"heat\", \"heater\", \"tahoe\", \"cool\", \"live\", \"kick\", \"slow\", \"start\", \"condition\", \"head\", \"spring\", \"turn\", \"blow\", \"snow\", \"tranny\", \"machine\", \"4runner\", \"smile\", \"radius\", \"cloth\", \"taurus\", \"glass\", \"wrangler\", \"70k\", \"conditioner\", \"quattro\", \"zip\", \"ultimate\", \"explain\", \"rush\", \"coat\", \"fancy\", \"content\", \"consistent\", \"effect\", \"lancer\", \"challenger\", \"hummer\", \"opportunity\", \"fifth\", \"335\", \"overdrive\", \"protege\", \"wagons\", \"face\", \"finish\", \"older\", \"gorgeous\", \"fit\", \"turn\", \"15k\", \"roof\", \"black\", \"sharp\", \"model\", \"sun\", \"2008\", \"head\", \"awesome\", \"finally\", \"trouble\", \"kia\", \"hyundai\", \"guess\", \"near\", \"golf\", \"failure\", \"gti\", \"cruiser\", \"elantra\", \"sonata\", \"santa\", \"various\", \"volkswagen\", \"sorento\", \"afraid\", \"cobalt\", \"club\", \"present\", \"matrix\", \"soul\", \"collision\", \"failures\", \"sportage\", \"promise\", \"cavalier\", \"land\", \"28mpg\", \"west\", \"rabbit\", \"rio\", \"accent\", \"learn\", \"warranty\", \"single\", \"exceptional\", \"camp\", \"flawless\", \"vans\", \"dad\", \"speedometer\", \"ski\", \"ramp\", \"sti\", \"exceptionally\", \"horn\", \"com\", \"tiguan\", \"primarily\", \"safer\", \"armada\", \"finest\", \"ship\", \"shudder\", \"steel\", \"touareg\", \"deer\", \"sudden\", \"supply\", \"gift\", \"mpv\", \"regulators\", \"320\", \"downshifting\", \"optional\", \"literally\", \"wife\", \"vacation\", \"bed\", \"rack\", \"tie\", \"tailgate\", \"north\", \"rod\", \"america\", \"bass\", \"esp\", \"rods\", \"versatility\", \"exist\", \"pinion\", \"25mpg\", \"sheet\", \"evo\", \"gotta\", \"lady\", \"srt\", \"modify\", \"terribly\", \"bet\", \"caliber\", \"svt\", \"technical\", \"shade\", \"flood\", \"whats\", \"liner\", \"sunfire\", \"bar\", \"double\", \"link\"], \"Freq\": [63282.0, 13126.0, 33686.0, 9440.0, 20191.0, 18877.0, 5765.0, 14109.0, 11899.0, 7096.0, 8262.0, 7789.0, 3299.0, 4138.0, 4093.0, 5760.0, 9048.0, 13146.0, 10750.0, 11878.0, 4191.0, 8871.0, 19322.0, 3592.0, 8578.0, 7305.0, 2524.0, 5917.0, 2623.0, 16468.0, 1823.3908500272803, 1454.4359329568545, 1144.2979255217726, 1012.6838069792848, 751.3219526461488, 716.4644382208088, 704.7725017288564, 701.3098963199162, 673.7471581578675, 522.2982930829558, 513.8631216939054, 486.9864471047934, 485.371425532736, 477.9439914638912, 448.6947435334412, 446.93027817038046, 444.6254766930903, 416.4869963299664, 372.8957152255618, 367.50383120267287, 361.7337479306219, 355.01943791195214, 343.34672418991505, 331.83525177672277, 323.076132024214, 319.0948395730744, 602.5993936097819, 311.6902490685163, 297.25353423037615, 296.57288297221254, 1168.7970479695086, 8536.171733359346, 4039.753579303265, 3840.317729484314, 1324.6302627562532, 1317.0455020559716, 1260.957929249384, 3744.207263004674, 2946.9158732941837, 3636.3880225813423, 1203.6488513077866, 6515.336304151096, 7503.606657663752, 4387.782855495444, 5235.84484592999, 2373.2767830726475, 1345.8534592281326, 10759.058103603662, 3919.2596245329296, 6214.818023393884, 3914.596370820085, 3523.269934023985, 3029.917842586784, 2943.2240353210273, 7802.430110961737, 5339.050339813571, 4440.399112409524, 15814.170680423855, 3129.09175797334, 3834.7091385666604, 3095.795197609724, 2553.5041469895104, 3002.342797900245, 2623.3602106848457, 2821.857941653384, 2819.4936734607563, 454.63776991999055, 420.2034914239883, 828.4572742087605, 326.43770506710604, 239.13707512695464, 203.28989021462462, 760.5541429121831, 145.97683618089556, 126.60901759665232, 124.6104671687663, 107.06961529321997, 103.25245693584114, 99.25606101255349, 99.051032642344, 97.95788613390455, 97.6592784258972, 95.71237932748603, 85.8621402190981, 82.20666381504947, 77.49734864486412, 77.03537618736492, 76.68455325975023, 75.98853119757025, 75.79888408180625, 74.2890902325389, 74.46529486464475, 62.36723330939199, 60.61661080793519, 59.96142579896213, 59.87434659513149, 7416.648106978614, 2972.132689894855, 7502.743298903058, 2499.255548135042, 7234.001603915746, 390.04258382489166, 1501.0926190369255, 1726.2628398915515, 359.3126907365493, 3627.536231790768, 378.1836106487869, 998.7483574346963, 698.118197046583, 2761.8813547265686, 2800.3554796843187, 679.939019103829, 8061.379558462995, 395.29208242019837, 823.7150592359924, 317.2306371678492, 371.8103334035984, 4599.530128642606, 1751.6552825547278, 753.4550142917592, 1023.5529504841243, 2782.3971348830096, 1670.2949772799534, 3246.007989056504, 2735.882530589691, 1140.3380600182384, 4036.9111830012266, 1633.2200366279937, 2610.0577683364054, 3203.2061071038797, 4151.295551723876, 1435.4094707820323, 1822.3577076108338, 1294.3939269278342, 1531.5237468982311, 1326.0660721466518, 1506.3741747781914, 1692.417686565985, 1364.94352360731, 2093.040909508466, 1474.831779883989, 1457.4960278690958, 1302.3882100345497, 833.4203744565473, 731.8287926449443, 922.626942152993, 2314.9730692079584, 454.3395634688516, 272.2525184475112, 257.51546530240967, 238.66143266302166, 226.60869543417832, 220.83931590001384, 215.69641150625247, 200.67859623470466, 195.54074030323068, 186.87436028765455, 174.01284010123294, 170.47574153696385, 161.89232336418536, 157.73384314293554, 152.99293268314878, 138.45783779716078, 132.051207460822, 127.9124688880619, 119.94680329058995, 117.59447485165771, 111.28593553008528, 111.20474238148793, 117.29989622776242, 108.30639693899164, 102.26419516936436, 536.5761729091835, 170.6256647252864, 1073.9395890959581, 744.3266141325171, 486.27429358279386, 427.10953983185533, 524.4158239293081, 235.38444018092198, 2893.456731820382, 618.7373013147047, 790.4223083042095, 7051.726810864958, 928.7151174233711, 551.8539416199101, 1252.2786629421807, 1225.4140695887975, 320.4544019964396, 1542.890803284932, 927.2805274814586, 2103.7090668398023, 559.0164875601704, 811.0268850546001, 1540.0950805660648, 551.5930168331412, 421.0336083377723, 1412.634501346176, 2021.513093540632, 1087.3373334944743, 2034.755982543067, 2192.0273404121403, 1726.7763904456965, 1357.1767882433803, 2296.5979489119513, 1539.3169543527372, 845.5487097913102, 1255.424426801471, 3029.9518503184127, 1909.8017467573868, 2030.9632255737754, 1560.0344744349422, 1185.5970468578678, 1366.1209373563913, 972.8569111586738, 1057.4967543330129, 1030.4367140267739, 970.0504384897217, 976.3541244280669, 1284.1415940619179, 558.9356680358516, 411.4364128585773, 216.8696798143922, 187.99870913192015, 164.6382822334809, 142.66335156684386, 142.0034931307486, 135.73696320939032, 134.83666936991153, 128.81620476206425, 116.09332505706058, 108.04651626272953, 100.52864941834066, 95.28007818089587, 94.39733792945455, 88.460242863318, 83.35220707380526, 80.0722001307759, 79.37400135845454, 75.5269310676141, 74.73112140173271, 66.81249776313426, 64.66068859531238, 62.58200111386681, 57.92591945504636, 55.83591056074337, 53.15354249534849, 52.39284518505828, 51.60864072878534, 3349.196311407065, 2412.623038321952, 69.57969561756049, 207.87745528643873, 646.921834766139, 5328.241320868909, 986.5731199345759, 234.7052989891644, 689.4000985089899, 2003.7555450167213, 2366.1842127591317, 428.487640702485, 810.1412913575948, 3276.942336543806, 993.491962585809, 2952.222544547344, 312.32140832766186, 1642.3656372920234, 2697.945919427826, 930.3377786771488, 3277.259520512973, 1093.0086384873441, 608.3892625305704, 2605.6178695065805, 944.3735364712677, 1025.1747769390506, 787.8451185097233, 1479.2543021626348, 5393.536387741066, 958.3221831793222, 7557.203924701312, 3654.475571416791, 2154.925995936076, 2304.9224332991876, 2400.756287999338, 2444.1949481832744, 1537.8211695900734, 1965.7054960092673, 1323.0575784902314, 1045.3683522504396, 1194.8310684978167, 1150.2410846440764, 1097.4959954209792, 1053.0937117502328, 1034.6397328349829, 663.8096619861842, 387.6522379876549, 379.354552664036, 318.1138824001709, 260.6331023014015, 252.39872017561527, 198.63843823069152, 198.21259144146586, 196.254050412042, 160.12451311872442, 139.29040155979632, 133.87626844434197, 118.74034396684262, 117.93396764950839, 110.07586702007782, 102.89088828846586, 99.39145018684948, 99.2515687302849, 97.22132378098323, 96.5704543652387, 95.77115670234558, 92.5389286462342, 90.56171613470957, 101.13153091008476, 80.23026951067165, 79.68644698917582, 77.68700446603566, 76.78966328037913, 75.39318769160779, 74.61616199082664, 3170.6656957651726, 561.7817001144693, 857.4324206090693, 434.5197246483449, 190.28426349789586, 3194.8584815041067, 153.67430617148082, 701.5189466306209, 137.02159902377267, 467.6539118463342, 3050.8029723585946, 392.6502094922876, 507.1512072692952, 188.63094838574233, 735.9060955262748, 659.2991351719223, 940.3076038591397, 616.9027955493964, 386.97800077304964, 1153.8257998201727, 2419.305844163633, 444.92330795786864, 457.1640368459432, 1585.611027520345, 1420.6820985331804, 3660.098542574413, 611.1621418076356, 463.30651188416243, 1068.8338415126568, 1815.3042929639153, 1389.1494161883147, 1618.1567263647853, 1002.0665372271868, 1348.0033145337072, 1078.0636909914047, 1735.3163823706143, 1071.405390737552, 1451.92654670333, 1257.9118329661085, 1420.5265840938764, 1655.245076779174, 992.8511824050585, 1007.517347497971, 694.146440335854, 918.1990282872149, 910.9627909584617, 870.8395895072969, 767.6569552385372, 750.6077626403152, 755.2990648460955, 336.43319095818663, 319.41708002324566, 300.485332591705, 291.3257189876832, 257.7986386971548, 237.67265828181783, 186.88147381162574, 180.04041836741445, 178.5190515270906, 170.33308050898853, 166.02991916767428, 152.9465607656234, 137.6098143468774, 123.42189649409143, 119.94027777943046, 116.78400842612602, 115.94235043242368, 98.91117137346946, 96.04428004009722, 94.49952881812078, 91.21552376580335, 88.26926312850517, 87.54758554006145, 84.43426846156616, 83.60246181761357, 80.79055679302891, 80.4998207410595, 78.61682783210499, 76.15553529825125, 76.05434157724505, 484.41615107358746, 1249.462290177707, 251.1964052757368, 431.78038542213585, 364.36595341428466, 278.7837989823499, 1655.9084606254207, 1284.7779347201229, 2855.5646592235444, 5473.045699224933, 5149.004309612888, 644.727443397447, 2028.41248216138, 1863.1218667860094, 4232.369753323256, 2296.109706151596, 1380.124033091742, 506.1738683654751, 2201.582133295505, 4152.297094717228, 1272.2668089259964, 4286.2245810790555, 5726.14715981141, 8153.035938629151, 598.1417902330285, 970.8084326672521, 2087.589452958767, 1783.1619740942335, 1406.846190236291, 947.5028483582789, 1764.6692098139831, 1311.6799859674286, 978.6106992084934, 1321.1866526672657, 864.8904361522151, 983.7269905478763, 1033.0883987498364, 923.5116514592622, 915.6288345742917, 1187.95468043303, 932.489631574458, 1000.4215615791588, 893.71354581489, 748.7850923448603, 380.3885984146587, 348.3014683160084, 312.5713426960768, 290.7719836041388, 277.68661141020726, 257.0453553057564, 163.96373884310512, 157.84743401691657, 154.41105752530007, 460.43436688865074, 129.22477325964562, 111.70972331541243, 109.9950251353833, 102.32562518728096, 96.85516200867394, 92.94818014437017, 89.24983917252145, 84.94861137746196, 76.04878023139077, 75.89305825740824, 70.7704011907473, 70.21008718727721, 69.91316580431273, 68.4874067575108, 67.00144397689417, 324.92201360952714, 1120.4725868560902, 315.23184099999474, 289.52786518489444, 570.9066035320783, 2279.0115911787443, 152.6872566693174, 3098.1872598077975, 2061.744982591981, 226.31219830460583, 377.7708648726167, 921.1806246623695, 2204.4741168734095, 617.3710119050718, 1798.5684005763133, 1287.1587891315999, 10432.550853597868, 1446.0269852270617, 466.38992909006646, 800.529535702455, 1489.2342161777756, 1345.296971484741, 1805.054264079598, 788.8561742082671, 1459.2023595904377, 1962.6868342966225, 729.2682545607137, 894.7333673399812, 683.0423003669005, 909.3503248147308, 729.5886916209085, 1008.9442657483418, 839.2435518353763, 834.4882255925187, 937.8790804606494, 813.3857080692982, 738.9071480423593, 218.48224271686144, 158.77314099561193, 119.30321560644694, 112.203882954244, 401.8652154498309, 104.19726451098008, 94.51172990632423, 88.95090592048675, 88.59264610285541, 80.3897473207225, 79.87842203131014, 74.2679492501422, 64.95238118435576, 64.84936746033748, 64.36689559476146, 63.76962363284172, 62.41017595690675, 60.42920494135315, 59.191260914952096, 57.04220977469655, 54.41887664258735, 51.79404736948763, 50.94396248465734, 50.814641472432186, 48.99390469364223, 48.66893934048421, 48.09634480533876, 43.37080978734244, 42.90952808059998, 41.39012675541798, 2359.7689531801366, 813.0775045660558, 496.10954890664135, 161.41827551833626, 4470.793275487752, 396.65802687803307, 656.2804903158849, 327.3255222187859, 7059.879756341723, 10465.470066820235, 14697.513169227594, 166.98058880879313, 617.4359489612714, 656.2364377875746, 1134.861930420086, 3546.0843165702076, 2418.546466735486, 346.7664616005735, 659.7066545531349, 398.27221722733384, 613.3872013669015, 560.2435866270248, 613.6060594134108, 221.09580841960482, 549.313696746147, 903.5422526684214, 475.56766467448966, 391.2152955113452, 755.9325881951539, 761.1122147519143, 912.598523586452, 567.0410716792181, 820.6761080240407, 678.5582664758734, 611.1849023596196, 526.4717574024926, 510.63207525394415, 530.6291940781622, 1231.1427975098957, 1940.3436050771359, 850.6498180548799, 677.1070901243721, 587.0049368909515, 513.3601728992464, 429.9818924898211, 379.9706332530595, 356.8542404966411, 341.76680394819897, 331.3418201259301, 329.9760331816521, 229.4838793502714, 199.6627905504569, 194.50891422537768, 167.56344804590663, 138.8662002028323, 132.8679997659425, 179.05689024505045, 122.10267763771934, 108.3565850632466, 106.28379793173265, 106.11423554842443, 301.526389901351, 98.33131500184227, 90.75387531462513, 88.90346905029622, 83.84518917028272, 82.86274569262065, 81.08315942947686, 3086.5576628188255, 228.6921954285092, 205.09703328108574, 940.8624147012185, 546.7216554507886, 590.551485605159, 1165.7544710524376, 402.094880933152, 158.71761792392834, 1128.2902339404652, 1532.0979999322144, 951.2098994074512, 1916.8886565370633, 1961.398003818137, 481.1421366413889, 715.5737113354237, 819.0108714520643, 933.9980180821873, 755.7923434017608, 572.133580660051, 1104.591017802749, 521.0490950340879, 533.5345742950773, 693.2109977368841, 445.85869999319203, 536.2881865136501, 497.84066832436736, 435.91292813744275, 9437.851869582855, 773.54082251169, 582.1839838991317, 536.5098244532095, 513.1329714197032, 434.4414200101169, 429.9427617954005, 422.8296184146383, 422.2993708190992, 730.4192901124543, 340.2740746283174, 264.642678846217, 232.17711926398098, 225.5390793503458, 211.22817085618198, 210.21607183666416, 206.2128952146593, 195.13490627984726, 155.94663106838098, 134.37952641701855, 132.92047623123025, 129.0374095621181, 124.71960866768019, 118.95530844451866, 116.48451240238715, 115.37634305575939, 115.04934647728913, 111.26512893371061, 109.91530075516995, 108.5902899068711, 695.8481665456443, 1762.5240324025087, 659.6340832106655, 1358.0265790430228, 3162.7594643681446, 426.6249399349937, 932.0589981843689, 269.5830401114032, 879.9921766354798, 247.59316882767524, 644.1393380179034, 383.5046302830886, 852.7406101524126, 759.5415281761718, 810.1741969527754, 658.4674819629687, 383.7883623521992, 353.9634850373182, 581.6481068553214, 478.07325578662505, 467.1101260877275, 382.7808945522704, 461.45082331025986, 477.1266699994398, 1483.1466861864296, 1459.2750200508879, 320.1878749191208, 290.8519208849015, 227.67729701723144, 225.42369708034525, 219.6298383193768, 142.72641736213666, 121.85101706191243, 116.58764757206772, 111.11582011332564, 105.21010742249616, 104.12850033712006, 93.67258287783106, 91.9636028800162, 84.24103188804223, 82.48985256748048, 81.71649537922663, 80.01671576489835, 79.34471119749705, 78.06920894736601, 71.91554152327132, 71.85578609471766, 70.34825533691453, 67.52771206317688, 66.30048713869816, 64.63448723767617, 60.87663918187776, 60.09781144651291, 66.76198690197086, 1442.407110943425, 127.95338172244278, 925.5077616918436, 891.176110595044, 220.8172053538513, 161.05824105935747, 464.25317595264795, 1545.7490524007908, 325.2496128603974, 640.3051839847438, 305.30922210324593, 319.07790131090445, 155.31648983260672, 497.9375772439801, 1419.5592538275869, 586.1316897699992, 534.5964755495647, 263.7883592193239, 267.091269314978, 1152.4949552136306, 468.72050339487834, 681.2244796616595, 297.6864098370723, 185.20725587423172, 598.3182811105517, 428.94601790315784, 486.55770542548345, 476.4430118066374, 685.2791152453598, 362.2311403691754, 524.4544171983354, 460.56277896817903, 301.564433800175, 358.5656838401164, 300.8005019278693, 307.6058388621118, 3298.593434901311, 847.9479910923583, 726.8844824709391, 633.4552144064662, 606.1049481213686, 595.1427236780988, 577.9385167981694, 504.09959186120756, 330.86602514756737, 265.25862260193, 251.4810645874258, 220.19432285509302, 214.3701094776317, 200.19020502905934, 1527.4464817911316, 187.2615498602223, 184.73084012500772, 166.54725278921535, 150.27053534873664, 148.49715483118024, 147.15221369079788, 143.02329820922265, 141.70341494018598, 138.25226166138827, 134.22588394659866, 121.21409690047868, 117.4506566872881, 117.23882573128135, 109.66875222689055, 103.8651920122419, 1773.2246586704937, 1792.0220855259345, 359.88722814159155, 270.47820440222756, 824.7776199654563, 547.1796566913948, 1141.1068282383828, 519.0733282303631, 508.7508494840857, 781.9354755266226, 425.82472750959136, 223.20161486621268, 405.77483246451806, 639.1227531784456, 322.95890369879703, 362.86137200513616, 251.01297823106307, 230.82077490120875, 1115.451833348484, 573.6899315507793, 357.90511902781054, 356.45322137100464, 268.0511902693875, 240.91865346263035, 237.44239194691716, 221.02787403554072, 284.0041850838383, 193.820845584751, 187.93358603710408, 187.28956426552068, 160.01478028726777, 144.2417768356598, 143.50256957007426, 141.54678680481032, 137.21115075319398, 129.42608300571803, 119.18106452111758, 118.69521279587185, 115.53938947390334, 114.36066831708766, 128.0222503758077, 107.01751857467602, 103.46177345127312, 98.40718979400476, 97.20190118243113, 95.4126023099903, 95.23501970007182, 94.17641941589828, 204.04616863841554, 420.8188409137833, 382.6900305398214, 98.85094774110011, 565.0827090410478, 814.4305654286445, 551.1419537587657, 421.99267397009936, 250.3698825921581, 642.0031484946145, 312.711879547557, 310.6217811665359, 451.9232045028005, 412.03329053881635, 458.16643293036975, 250.44353053481564, 297.14851450491244, 207.78891589893735, 403.28532734341195, 334.58592803901865, 278.29394290757176, 212.77580152400492, 215.7492268370001, 2090.9083494363945, 1380.929236199639, 880.8856545529015, 604.51639128066, 456.5120750676687, 389.91410932275784, 304.31847614059564, 299.58999104266843, 281.72602064998244, 230.77576625843628, 210.51677201619964, 208.68890339920316, 175.46492099750253, 174.77597210750062, 170.6285785856647, 162.33257825473154, 162.11767473092587, 160.05806814654463, 125.24323142749265, 124.34405024543098, 116.76061238139795, 86.80200257213605, 68.24795205224348, 63.41948568400586, 61.40046717340744, 60.984347355656794, 60.95011952200017, 59.84122113557975, 59.619309252220724, 59.31196381568642, 2459.029544775307, 76.27129320130294, 69.10898147725867, 229.65856646161407, 426.0348917791541, 381.48999118650914, 1271.590136699265, 390.2292511262507, 164.5814396480897, 493.03980100654167, 275.2048114335679, 535.4185872224691, 2141.5579153174294, 539.403464838131, 672.0184138931461, 430.630858364769, 325.5054996656782, 409.27392031057815, 423.7734804359713, 246.92890935903088, 269.8412336444257, 422.1932214578133, 420.219869300208, 420.3183746423485, 415.4447092004458, 359.5804067003244, 283.01725068775374, 235.46202989713018, 229.31357934153309, 186.60080189293916, 165.69926920857029, 152.68344125414552, 150.4418961614664, 139.19762255528167, 134.87272431192866, 132.06932171178286, 129.8376278853003, 127.15144029590357, 124.94913983893328, 124.31172234079312, 121.1621694179848, 180.27336290492008, 107.95669349410001, 104.7394946022919, 101.13898567959275, 99.92152978905655, 98.53570829380773, 94.59450514905481, 91.05501767113495, 90.62132332019542, 90.55903285412279, 1613.5879103842358, 222.6700783032508, 3864.0201289916813, 645.8465305219116, 777.7029216899235, 254.11503988059079, 401.48528041213274, 165.0472141713628, 240.34069156612222, 282.99459692726947, 321.15352809341033, 191.8818927617427, 251.11422876650474, 161.56610710081756, 235.73798948358217, 173.07619217924764, 162.37126268524605, 1650.2454281788698, 1043.0307990284668, 753.0965057885385, 524.8891934369211, 506.33124690882664, 458.8454663083252, 358.68329997034033, 280.9505866075452, 234.44848087606596, 217.01825399808567, 215.80474347056776, 175.14524735488192, 167.53922870313312, 140.9489573793417, 137.49595149062728, 128.38849248406555, 198.97694505773345, 117.95956423708104, 114.8084295910029, 111.88361108875536, 106.63210343228273, 104.2302493199001, 101.15380449988517, 90.55061740285221, 87.16028626437934, 85.65366567285643, 83.70890798892613, 80.28671803545177, 78.36580454414965, 72.96951962410783, 125.37448287168877, 197.04021444560433, 844.0002647345678, 1149.9849752564742, 154.13152355424137, 758.1347392038568, 630.5927867211831, 261.3467554290763, 233.27312753343242, 314.109431052993, 372.49026027668634, 198.25870621982344, 249.86405386151424, 372.96003180672636, 240.91559625033076, 264.30922435016413, 178.7559573803356, 264.5889451233686, 198.7103822853507, 181.0272360334493, 829.0497923801895, 461.408452134366, 382.35905827153016, 374.1172381768078, 385.6661592998405, 308.91072867102974, 298.14124122042256, 286.2410734319572, 221.07535654635487, 195.57449544528575, 194.44776523952402, 192.37173901338167, 185.44208972711104, 181.8862152014608, 152.56557509287904, 144.5943804609527, 140.7766823925407, 140.76891634679313, 116.2933267836132, 113.11562316976737, 111.71332120399659, 111.34588673206882, 107.12277656137414, 100.08243951040433, 97.38206244602961, 89.3572274479789, 86.34157000868198, 85.35974359151301, 84.12665106149778, 83.16642558399818, 362.44379633128534, 881.5078650003102, 405.57786232517145, 170.68944036965905, 1002.0195140502311, 1026.4428322704214, 165.63540559799094, 305.2275960451105, 299.5262962876232, 182.420312938881, 303.48016889398343, 167.99792303899613, 190.20877403019784, 218.0326599455806, 213.6280795531129, 186.32830978331165, 174.84134458556468, 1278.441053822623, 1235.4593556221203, 721.5501547933005, 602.2127247748365, 414.9912116023841, 398.91207266019677, 336.4526521165619, 301.90370419481224, 286.22229899506516, 279.06345466155767, 244.2443304762545, 234.87393885490383, 233.64601648698476, 190.93370560407536, 174.33734264917422, 172.79689175674827, 172.28550858292226, 182.7219076014403, 166.60301784540982, 158.99157742495723, 156.8812967332286, 154.73440099235953, 151.0541719227321, 149.55626986559932, 134.57821960553542, 358.023459623125, 118.68709905086915, 113.9499011090816, 112.61542926368789, 107.68187458511426, 214.39900007626707, 449.855969843083, 354.5240378997032, 738.6419424698345, 354.161629975384, 283.47694258008244, 278.6409649710407, 236.5720692501444, 216.75858694178478, 212.5330416293041, 179.68084707513648, 167.85629471236265, 158.02142039064336, 150.33915842066736, 133.74897921559733, 132.77140361105032, 129.7390090323881, 129.604882196387, 129.14227713333707, 125.7787129149879, 117.47550477797576, 128.45821160118555, 113.88046103757775, 131.3571434773028, 106.72705231438586, 105.18666545976478, 104.65867907712725, 103.32619605981847, 101.65531552186302, 95.366384475502, 93.55397211785767, 88.34215065327017, 88.23654063330001, 220.91961931229267, 192.35734100132262, 152.4267209272901, 101.7746297040937, 737.1555233120325, 528.5970740945588, 347.068744028731, 264.37544552504033, 253.95756856521427, 241.47009236043323, 203.45099361920754, 163.26764014177255, 154.5642703769339, 148.93120142359135, 137.5814320061447, 131.86802556046052, 124.14062792819, 123.49707900685965, 113.00013255966616, 111.80068327529561, 109.5819254402813, 102.64208131996511, 101.94836506824376, 97.96369088187872, 91.58279949706139, 91.02230465349243, 88.92918227177103, 87.01050354989863, 86.18227485852778, 85.60012869838044, 82.30750960716213, 79.75724934894959, 78.37237659420406, 78.26440449900602, 406.62573404283023, 127.30356721998166, 109.66903747427229], \"Total\": [63282.0, 13126.0, 33686.0, 9440.0, 20191.0, 18877.0, 5765.0, 14109.0, 11899.0, 7096.0, 8262.0, 7789.0, 3299.0, 4138.0, 4093.0, 5760.0, 9048.0, 13146.0, 10750.0, 11878.0, 4191.0, 8871.0, 19322.0, 3592.0, 8578.0, 7305.0, 2524.0, 5917.0, 2623.0, 16468.0, 1824.3801747141347, 1455.4257574378255, 1145.2918169767838, 1013.6731344111087, 752.3116670981817, 717.4603135131658, 705.762095300032, 702.2992201174519, 674.7364818812347, 523.2879562776749, 514.8524489698488, 487.9757708602327, 486.36075798231616, 478.93331779910716, 449.6843168190763, 447.91967638278777, 445.6314773635392, 417.4763201878269, 373.8850393079678, 368.49316675131763, 362.72767522358464, 356.016563495811, 344.33605531735793, 332.82457580045394, 324.0654558994644, 320.08416709238315, 604.4696562089621, 312.6796700591411, 298.2428597384449, 297.5622112698454, 1185.6972156723489, 8871.31945456668, 4162.191970581137, 4018.515028101453, 1367.7099667236112, 1361.0903531370163, 1326.766195634435, 4127.701725862471, 3301.8648853804784, 4138.903009140521, 1338.7323277176415, 8910.112940435334, 10750.57059253483, 6013.908361071108, 7604.728936025733, 3073.7776443146136, 1596.6560608144218, 18877.776183674032, 5760.860960522806, 10691.947697779247, 6144.713413880255, 5451.533335852142, 4510.851441642852, 4480.439485378603, 19322.482011184362, 11878.80136168227, 9178.965055879304, 63282.383281344046, 5765.258643873922, 8549.370475224361, 6208.848298145928, 4690.890238805389, 6539.38632982708, 5420.403450090911, 7850.7971374341205, 12107.92916774785, 455.6266953755209, 421.1924167663941, 830.7691805016917, 327.43972210055784, 240.12600062067952, 204.29335477155828, 765.3794899865969, 146.96576123297618, 127.59794303003761, 125.59939361377063, 108.05854037839198, 104.24138196597136, 100.24498612434628, 100.03996179291705, 98.9468112205615, 98.64820347190255, 96.7013084791719, 86.85106594329912, 83.19558894129827, 78.48627649113632, 78.02430132186123, 77.67347835772671, 76.97747045063265, 76.78780929170577, 75.27801721387556, 75.60735643110615, 63.356158516154565, 61.60553746151889, 60.95035083729431, 60.86327235333314, 7789.839600640634, 3118.935936413824, 8262.442806447578, 2826.652006420506, 9048.187358989628, 429.837543454045, 1795.7607923939809, 2187.3945943477925, 407.59340309261967, 4996.174456175312, 439.0529254668319, 1317.7296036142382, 903.4805417999396, 4291.290498321872, 4376.9082126765825, 923.1714192919883, 18877.776183674032, 526.4977145826441, 1294.2434686048166, 408.67758769479195, 497.57646973985, 12023.917742564015, 3590.5058900576164, 1283.1233689607434, 1945.0002281843351, 7572.379773423078, 4037.250758397479, 10750.57059253483, 9174.646251787994, 2564.998487986795, 20191.216305341866, 5154.033939817537, 13126.971041238021, 19322.482011184362, 33686.37717038025, 4274.912452790335, 8549.370475224361, 3806.1198435393953, 5769.628626139442, 4475.849169261668, 6854.044846155987, 16468.785889263407, 6153.940693068375, 63282.383281344046, 11878.80136168227, 12107.92916774785, 1303.3847932278895, 834.4088890779104, 732.8173089975124, 924.1269859949009, 2319.819541815951, 455.3280734997125, 273.24960638323176, 258.50407688422587, 239.6513978656617, 227.5972056629871, 221.82782589798614, 216.68570232532, 201.66746547170706, 196.5292503298057, 187.86287028400702, 175.0013501146756, 171.4642515326642, 162.88083705359497, 158.7224359014537, 153.98144651575765, 139.44644673217806, 133.0399880085906, 128.90097888548058, 120.93611970328021, 118.58451893600065, 112.27444907222399, 112.19325268492882, 118.35494989942573, 109.29701422896018, 103.25290356682879, 542.0807027114348, 172.80853401833335, 1111.572921943742, 767.3605972231036, 502.45389618865346, 455.7771702686387, 568.6378200942817, 245.35705592081476, 3658.454500288708, 697.6719503148515, 920.1730624303078, 11899.243084556065, 1203.8703296834024, 668.0575891264593, 1758.5220907304822, 1737.0452025862942, 359.5937597652308, 2623.6164464651984, 1394.806896095314, 4011.9531346798703, 737.1335499168281, 1232.8998309908388, 2915.082603569964, 744.8114944007119, 522.443162112754, 2969.651434688829, 6361.817598372354, 2560.528508441901, 7850.7971374341205, 9174.646251787994, 6507.497146489603, 4448.358123130129, 16468.785889263407, 6854.044846155987, 1773.2343438236696, 5178.799811423941, 63282.383281344046, 20191.216305341866, 33686.37717038025, 13126.971041238021, 6257.905669689207, 12023.917742564015, 4343.581981842999, 12107.92916774785, 10691.947697779247, 6539.38632982708, 14109.685655587684, 1285.129697766709, 559.9237716447591, 412.4245173222438, 217.85778375711334, 188.98681271676477, 165.62638750814244, 143.65146140577414, 142.9915969417784, 136.7250668193637, 135.82477297879157, 129.80430901334458, 117.08143281122129, 109.03461996201005, 101.51682016726882, 96.26881566542576, 95.38553121605405, 89.4512123048553, 84.34031071990204, 81.06162243995274, 80.37520938472701, 76.51505022098252, 75.71922623492361, 67.80060142911529, 65.64879221049193, 63.57010530288345, 58.914024666275346, 56.82401529368698, 54.14165283941829, 53.38094886994519, 52.59674488103609, 3470.012816434464, 2550.9880863208787, 71.0165686339888, 220.4507908530695, 738.219214405796, 7305.262221704819, 1416.0014869039758, 283.41936725430605, 989.3611810600302, 3492.346538447034, 4343.581981842999, 593.0777125725696, 1291.2894482286488, 7021.188149686556, 1744.5889703773137, 6854.044846155987, 423.5583881684328, 3395.8281544325932, 6607.972983391772, 1697.2120167219025, 8578.399853057987, 2210.9220126508176, 1019.8346700866875, 8065.694576076972, 2071.768264372966, 2385.162263161385, 1639.793788762334, 4475.849169261668, 33686.37717038025, 2385.9108014210105, 63282.383281344046, 20191.216305341866, 9178.965055879304, 12023.917742564015, 13146.772638248493, 16468.785889263407, 7096.5526929188645, 14109.685655587684, 6153.940693068375, 3096.0158190284073, 7572.379773423078, 11899.243084556065, 12107.92916774785, 8984.126099574269, 5769.628626139442, 664.797611968474, 388.6476551720538, 380.34251722790606, 319.1031667268857, 261.6210495899984, 253.3866675229926, 199.62660811795638, 199.20053877381744, 197.24199776276845, 161.11246044606966, 140.27834888112744, 134.8642162324622, 119.72829303075183, 118.9219149406767, 111.06382318045613, 103.87894973319175, 100.37939763431392, 100.23951650272024, 98.20927108069772, 97.55840779543495, 96.75917413882152, 93.52690102318046, 91.54966673353059, 102.25474435400487, 81.22357631794152, 80.67439434989885, 78.6749517636775, 77.7776105805491, 76.38113769711921, 75.6041145033016, 3411.0172094020786, 608.1044201496616, 946.8334918262843, 467.4359872632922, 199.3171174393072, 3843.3919830040895, 160.1633944024082, 814.3684449449714, 142.35154687764492, 544.8170991243942, 4852.212664271472, 473.83831382507805, 644.9833838967952, 208.08334757159685, 1010.496941842665, 925.1785901286082, 1420.5817578395408, 901.7168010443997, 508.6821797991241, 1984.5133019106881, 5178.799811423941, 611.9738263247871, 640.4503337989468, 3188.032721218107, 3011.094376576809, 11899.243084556065, 1000.0893709196463, 670.8485932039426, 2538.68429276567, 6208.848298145928, 4191.078470683311, 6153.940693068375, 2688.450147754078, 4690.890238805389, 3146.9472737697447, 8065.694576076972, 3395.8281544325932, 7021.188149686556, 5451.533335852142, 8984.126099574269, 16468.785889263407, 4475.849169261668, 6539.38632982708, 1665.8436331906253, 8578.399853057987, 9178.965055879304, 9174.646251787994, 4480.439485378603, 6607.972983391772, 33686.37717038025, 337.4214239147291, 320.44625609475474, 301.47356557152006, 292.31395496512124, 258.78687166039185, 238.66089120913776, 187.8697067478558, 181.02865129355203, 179.50728446278637, 171.32131341917707, 167.018155551876, 153.9382746743827, 138.5980501129358, 124.41012941468722, 120.92852789666495, 117.77224135114606, 116.93194440433348, 99.90271320594914, 97.03251313615422, 95.48776183906506, 92.20397521250695, 89.25749612002983, 88.53581846571457, 85.4225063083007, 84.59069524576017, 81.77878971478948, 81.48805367872183, 79.6050612318549, 77.14381301295502, 77.04257455230568, 509.5222226697379, 1533.3983715339014, 288.1713942520506, 531.8564551955935, 453.5737542703356, 340.51762536802863, 2887.763107196368, 2333.20212883775, 6257.905669689207, 14109.685655587684, 13146.772638248493, 1035.3900507281946, 4448.358123130129, 4143.615889195625, 12107.92916774785, 5675.5101861307, 3062.858040121996, 810.0864722618513, 6501.458690127039, 16468.785889263407, 3056.021488208517, 19322.482011184362, 33686.37717038025, 63282.383281344046, 1187.597346050489, 2993.028704827773, 11878.80136168227, 8984.126099574269, 6507.497146489603, 3042.6748337541117, 10691.947697779247, 6607.972983391772, 4135.246334248301, 8549.370475224361, 3590.5058900576164, 6097.211157726121, 7454.256883712397, 5420.403450090911, 12023.917742564015, 1188.943088678596, 933.4780413886492, 1001.5124677690306, 894.7019544000011, 749.7869143003543, 381.3770076438321, 349.28991414985734, 313.55975228141403, 291.7603918646222, 278.6750414828382, 258.03776119013713, 164.95214890624706, 158.83586003869794, 155.39958650396468, 463.46853316889485, 130.2131818919337, 112.69813170046322, 110.98344056096394, 103.31437471511589, 97.84357042069428, 93.93658866557813, 90.2382478417395, 85.93701973161792, 77.0371885133453, 76.88146677101625, 71.75880943569153, 71.19897558181616, 70.90157406932691, 69.47839265860482, 67.98985231640911, 357.60227387434264, 1423.087511082999, 366.7660427251835, 338.7983400764483, 731.3405099714346, 3781.1694120511665, 170.7521543876366, 5582.557051894972, 3752.3809991745306, 273.7103074641396, 511.08607210060353, 1530.6088733268352, 4651.675143906959, 992.3710079823275, 3992.0370712137938, 2680.6169109778693, 63282.383281344046, 4306.748460667396, 805.1543925536182, 2123.215120008281, 6361.817598372354, 5917.075225358438, 16468.785889263407, 2807.264461902217, 13146.772638248493, 33686.37717038025, 2860.0234971303007, 6257.905669689207, 3096.0158190284073, 8549.370475224361, 3993.1369024586907, 20191.216305341866, 8578.399853057987, 8984.126099574269, 19322.482011184362, 8910.112940435334, 6607.972983391772, 219.4705240618902, 159.7614223219727, 120.2914969235511, 113.1921649592819, 405.6364697992752, 105.1855507713659, 95.50001122199934, 89.93918725658314, 89.5809275713818, 81.37805149792348, 80.86670365262044, 75.25623060204096, 65.94066271318842, 65.8376492337932, 65.35517717575165, 64.75790497705594, 63.39845736025028, 61.417486291513846, 60.179542930924015, 58.0304911897955, 55.40715904681251, 52.78232929344809, 51.932243821330516, 51.80292436799194, 49.98218603298059, 49.65724309633536, 49.08462631061126, 44.35909205533946, 43.897809468678275, 42.3784139611653, 2772.2357080064708, 951.327207007297, 566.5230191778016, 182.6317385824567, 7096.5526929188645, 537.2763035836058, 972.4389499797322, 446.4893187152625, 20191.216305341866, 33686.37717038025, 63282.383281344046, 224.56395347009394, 1230.2606055248007, 1333.0200246635006, 2724.066949264874, 14109.685655587684, 8578.399853057987, 631.0343361630049, 1604.6711322336907, 790.3540329820132, 1872.081122878566, 1684.8979038818975, 2058.3425627207325, 411.03843015590525, 2210.9220126508176, 6153.940693068375, 1878.3598973495796, 1289.8637175906583, 5917.075225358438, 6854.044846155987, 13146.772638248493, 4376.9082126765825, 19322.482011184362, 12023.917742564015, 7604.728936025733, 5769.628626139442, 5420.403450090911, 8065.694576076972, 1232.1302187310425, 1942.4021686349163, 851.6371892643282, 678.0944738638591, 587.9923181122042, 514.3475441931472, 430.96926401439805, 380.9585962662604, 357.8416118007468, 342.7541752060295, 332.32919598731576, 330.9634050846339, 230.47125068730986, 200.65031350199612, 195.49634494955342, 168.5508316734872, 139.86301929092514, 133.85537146913705, 180.40114552017644, 123.09004915798552, 109.34401583687044, 107.2712157275098, 107.10161287667165, 304.40151674479847, 99.31868800796198, 91.74137867327039, 89.89096004719052, 84.8325604178482, 83.85011946575017, 82.07053229918125, 3592.158329462094, 242.99236488934454, 224.0744408253686, 1404.9270671916122, 837.2432809421827, 1130.4562238469866, 3781.1694120511665, 785.8992468559586, 196.49730157575843, 4306.748460667396, 7454.256883712397, 3478.3431222794875, 11878.80136168227, 13126.971041238021, 1219.151022213113, 2680.6169109778693, 3993.1369024586907, 7572.379773423078, 4651.675143906959, 2491.8132913397067, 19322.482011184362, 2012.4775766445048, 2294.6006977372454, 8984.126099574269, 1402.0633853302293, 5154.033939817537, 4011.9531346798703, 2460.219122298495, 9440.270037676917, 774.6282178440039, 583.1719062327031, 537.4977506474843, 514.1209082545787, 435.4296678097768, 430.9347270604053, 423.8176017303143, 423.28729294833533, 732.1326282138547, 341.2757879392876, 265.6308646568823, 233.16511717209687, 226.52700973102424, 212.21610115780612, 211.2060953395666, 207.20081739572603, 196.1228284135913, 156.93463113603724, 135.36744882879512, 133.90843591344822, 130.0253318175448, 125.70753081066495, 119.9432305588674, 117.47243544487988, 116.3642651856606, 116.03727355085245, 112.25305104891221, 110.903222986432, 109.57836951299474, 710.6609956942541, 2099.905650239903, 745.3174817562668, 1616.9854184094968, 4093.3535980032343, 502.5987371836494, 1242.4035472274675, 306.0734895344692, 1693.261019850028, 310.17933315591006, 1190.4695169785746, 699.6198673299848, 8065.694576076972, 14109.685655587684, 20191.216305341866, 13146.772638248493, 2210.9220126508176, 1571.9947780277714, 16468.785889263407, 6539.38632982708, 7850.7971374341205, 2560.528508441901, 19322.482011184362, 33686.37717038025, 1484.133427150939, 1461.728288162747, 321.1746152561554, 291.8386612206728, 228.66404164677127, 226.410437577424, 220.61657922970312, 143.71315786991, 122.83775754646659, 117.57438791515212, 112.10256045095156, 106.2006781985521, 105.11524098060566, 94.65936682189029, 92.95097179085269, 85.22777445688689, 83.47661109599348, 82.70332358823262, 81.0034562978444, 80.33145191791185, 79.05594935267904, 72.90228941068663, 72.84253736535388, 71.33513449741031, 68.51445244439591, 67.28722748918379, 65.62122956956574, 61.863979253000885, 61.084551885805936, 67.86897164771348, 1616.7979913937108, 139.30605421151128, 1274.1654511221361, 1254.281101037863, 268.0195244570732, 190.9242663276504, 706.3665426998987, 3146.9472737697447, 461.8888748983978, 1263.278555944526, 502.5032695133362, 543.2241863258209, 207.89877328004974, 1139.0362617836527, 5760.860960522806, 1592.6520588553456, 1466.567999418502, 490.85634521800137, 510.52729919446085, 6501.458690127039, 1385.9946919335907, 2922.49459047904, 681.2906676711536, 283.227920781305, 2998.1752273919233, 1657.7267255891443, 2273.5540150871125, 2185.491185245395, 6144.713413880255, 1418.9727943127657, 6097.211157726121, 4116.8751253485825, 911.2711894257332, 7454.256883712397, 1068.093146167005, 13126.971041238021, 3299.5803733489574, 848.9345242149714, 727.8710721596018, 634.4417418716316, 607.0914973480492, 596.1292665065062, 578.9251204446425, 505.0861191723805, 331.8525517787775, 266.2451496195472, 252.46759133857515, 221.1808494962102, 215.35663614419946, 201.1767325240481, 1535.1949826476102, 188.2480900283919, 185.71736733840493, 167.53380443819088, 151.25706203270641, 149.48368148991653, 148.1387783858458, 144.00982526044473, 142.6899446416404, 139.23878991635232, 135.21241074081985, 122.20069809900383, 118.43718340414999, 118.22537193441018, 110.65527905167787, 104.85260192197332, 1856.0079536201038, 2460.219122298495, 501.88124255929375, 355.6055755497054, 2297.703115120501, 1452.7456482893451, 5917.075225358438, 2109.345207736251, 2491.8132913397067, 7572.379773423078, 2012.4775766445048, 439.00788408677164, 3992.0370712137938, 63282.383281344046, 2755.1020241683555, 13146.772638248493, 3478.3431222794875, 5582.557051894972, 1116.438746688958, 574.6767808357143, 358.8919711657545, 357.44007070415677, 269.03803948358575, 241.90641459581215, 238.43043254739095, 222.0147232970582, 285.3099953122832, 194.8076949925776, 188.92043580829764, 188.27687685131812, 161.00162961572374, 145.22862627593145, 144.48944446245565, 142.5337026756427, 138.19799996180913, 130.4129931752655, 120.16792224016584, 119.68506376423616, 116.52623868213522, 115.34751790059204, 129.1344101087848, 108.01144632420899, 104.44878295388939, 99.39404557945034, 98.18875074663947, 96.39945199654733, 96.22188051993756, 95.1632711640053, 206.23568721668468, 431.2793390215502, 422.3485566197531, 100.17427070977928, 996.3483119699947, 2071.768264372966, 1508.966011144183, 1004.4048244662739, 465.2375591162493, 3295.4199077936846, 817.0713865269682, 847.8708484168509, 2068.2477861045086, 2109.345207736251, 4191.078470683311, 888.6622705968214, 1604.5635805117158, 494.30617675669583, 7021.188149686556, 4690.890238805389, 5582.557051894972, 692.6026901638104, 16468.785889263407, 2091.968213512664, 1381.9152108982637, 881.8860018010962, 605.502365686049, 457.49804896819603, 390.90008566143143, 305.30457510970894, 300.57597525165215, 282.71247204771953, 231.76257342040435, 211.50274634673627, 209.6748771940575, 176.45089547575395, 175.76195052935446, 171.61455246536968, 163.31855579690142, 163.10364857699355, 161.04405454965342, 126.22920891854476, 125.330024104824, 117.74658619691911, 87.78798037179241, 69.23940454812353, 64.40545949961698, 62.38644149766905, 61.970335157711695, 61.936187155026666, 60.8278267086283, 60.605283258714216, 60.29794072812515, 2524.0519306047454, 77.77383394425935, 70.3823190530444, 266.5962428141457, 532.3727698923954, 476.0783808957104, 2014.0872169887418, 574.2501278742373, 202.40121256614307, 784.4331218319179, 385.98374843712907, 907.264505638594, 5765.258643873922, 1136.8900308849989, 1773.2343438236696, 1054.183071882512, 709.405264899424, 1345.877112919584, 1568.1924189280426, 496.6556584791894, 754.5597365105054, 423.1785616211533, 421.2052093716874, 421.30824605543796, 416.43004914496754, 360.5657664646609, 284.0025922656107, 236.4473698300984, 230.29891933506113, 187.59071516849838, 166.68460988059556, 153.6687813193038, 151.42723665811684, 140.18296552150372, 135.85816273851384, 133.0546620925457, 130.8261159645854, 128.13678032123545, 125.93447976282962, 125.2970622786326, 122.14787127388033, 181.91646957362937, 108.94203342855191, 105.724834836338, 102.12432560755695, 100.90686979889298, 99.5210568956402, 95.57984514781346, 92.04035763751082, 91.60666336319811, 91.54437296880005, 1712.5308566635058, 292.3592057216857, 13126.971041238021, 1349.2036487370376, 1819.3548684802965, 396.4738404670734, 982.8820766114718, 248.79422107730565, 726.2925876322619, 1533.3983715339014, 3992.0370712137938, 747.3124133334969, 2342.4193851328814, 532.9335339017399, 9178.965055879304, 2860.0234971303007, 1603.8157162243974, 1651.2354455492664, 1044.015150979865, 754.1171526961053, 525.8782068031852, 507.3155873634306, 459.82980559720244, 359.66768715156064, 281.93493103133204, 235.43282168464367, 218.00259589792483, 216.78908261577166, 176.12958646305165, 168.52357011970082, 141.93330296097764, 138.4803450283023, 129.3728316071483, 200.63361908493883, 118.9439036525383, 115.7927687911429, 112.87274678969476, 107.61740933402713, 105.21605111181202, 102.13814363050813, 91.5350466365476, 88.14467928727387, 86.63800490589344, 84.69324711562406, 81.2710572531068, 79.3502210585925, 73.95385905560816, 127.20493485093537, 214.84248508997126, 1085.3533929263176, 2109.345207736251, 178.51624195119433, 2137.034664630812, 1830.1531240561856, 470.0512031011724, 423.07689330823916, 1047.097147182905, 1639.9783480598708, 433.7671820014686, 919.252535408367, 4480.439485378603, 1214.8984634500123, 2068.2477861045086, 442.94140319832366, 4191.078470683311, 1181.8709371364607, 2772.2357080064708, 830.0342507355751, 462.3929105542383, 383.34351709799137, 375.1017381423245, 386.6915268305578, 309.89518700728195, 299.12570815304406, 287.22553178944753, 222.05982520829312, 196.55895381268718, 195.4349953205958, 193.35647924714905, 186.42654803941412, 182.87915615732044, 153.55003341572458, 145.57883878181352, 141.76114767335196, 141.75337465571923, 117.28526265351312, 114.1000858379481, 112.69781600373037, 112.33034513820148, 108.11182454701061, 101.06689786197937, 98.36652313485529, 90.34177958165412, 87.32742665644737, 86.34420190467716, 85.1111093936155, 84.15088410999847, 407.99025851692323, 1070.3237670498238, 536.5489959493723, 220.84221632102106, 2623.6164464651984, 4191.078470683311, 238.32355393254048, 1037.5423108535676, 1187.597346050489, 442.4271787604228, 3993.1369024586907, 537.6138217912096, 905.6997698674246, 2068.2477861045086, 1872.081122878566, 1148.919354226053, 1202.4756524243226, 1279.424183865959, 1236.4424878212583, 722.5332835337916, 603.1958543511736, 415.97434127436907, 399.8952382061304, 337.43578074016034, 302.8868328533162, 287.20709000874245, 280.05935991735794, 245.22746202843953, 235.85706753019707, 234.62914511282688, 191.9169761811932, 175.322123325607, 173.78002041634065, 173.26864103875002, 183.79374526294538, 167.58614671992814, 159.97836848273909, 157.86467045241943, 155.71766230448267, 152.0373014841818, 150.54013388151003, 135.56134864529992, 360.8996254711175, 119.67022767727462, 114.93302977014464, 113.59936240465139, 108.66500330043179, 217.2636677787997, 679.1848168845519, 4138.903009140521, 739.6207930283651, 355.14027191681976, 284.45558505463026, 279.6196081384209, 237.5507116639075, 217.73722899439545, 213.51168348946197, 180.6594889475905, 168.83494439926847, 159.00006226165436, 151.31780029667956, 134.72762108054857, 133.7500454724521, 130.71765165843138, 130.58353033234627, 130.1231466122982, 126.757354825518, 118.45414682572651, 129.5343267040845, 114.85910291013249, 132.5358269502128, 107.70569422279848, 106.16530736317765, 105.63732499254476, 104.30483831241465, 102.63395740015154, 96.34502639832901, 94.53262008820957, 89.32079278453014, 89.21518250537945, 236.55045615987154, 279.0342201843245, 2652.79787002146, 274.6049746482749, 738.1320956471232, 529.5737257108151, 348.045281474465, 265.35201923825946, 254.93410637837033, 242.44662977243718, 204.42753099323554, 164.2441773722339, 155.54081381203335, 149.90775433095044, 138.55796927629245, 132.84512927277285, 125.11716513323788, 124.47361627818323, 113.97667064019741, 112.77722051259902, 110.55846264318708, 103.61861855468564, 102.92490233807088, 98.94038058894691, 92.55933672717744, 91.99884200362179, 89.90571948397591, 87.98704101142988, 87.15881209505753, 86.57666592422675, 83.28404681181507, 80.73378661266399, 79.3489137991958, 79.2409417157097, 429.4083251610608, 235.0430181939188, 173.17358895732121], \"Category\": [\"Default\", \"Default\", \"Default\", \"Default\", \"Default\", \"Default\", \"Default\", \"Default\", \"Default\", \"Default\", \"Default\", \"Default\", \"Default\", \"Default\", \"Default\", \"Default\", \"Default\", \"Default\", \"Default\", \"Default\", \"Default\", \"Default\", \"Default\", \"Default\", \"Default\", \"Default\", \"Default\", \"Default\", \"Default\", \"Default\", \"Topic1\", \"Topic1\", \"Topic1\", \"Topic1\", \"Topic1\", \"Topic1\", \"Topic1\", \"Topic1\", \"Topic1\", \"Topic1\", \"Topic1\", \"Topic1\", \"Topic1\", \"Topic1\", \"Topic1\", \"Topic1\", \"Topic1\", \"Topic1\", \"Topic1\", \"Topic1\", \"Topic1\", \"Topic1\", \"Topic1\", \"Topic1\", \"Topic1\", \"Topic1\", \"Topic1\", \"Topic1\", \"Topic1\", \"Topic1\", \"Topic1\", \"Topic1\", \"Topic1\", \"Topic1\", \"Topic1\", \"Topic1\", \"Topic1\", \"Topic1\", \"Topic1\", \"Topic1\", \"Topic1\", \"Topic1\", \"Topic1\", \"Topic1\", \"Topic1\", \"Topic1\", \"Topic1\", \"Topic1\", \"Topic1\", \"Topic1\", \"Topic1\", \"Topic1\", \"Topic1\", \"Topic1\", \"Topic1\", \"Topic1\", \"Topic1\", \"Topic1\", \"Topic1\", \"Topic1\", \"Topic1\", \"Topic1\", \"Topic1\", \"Topic1\", \"Topic1\", \"Topic1\", \"Topic2\", \"Topic2\", \"Topic2\", \"Topic2\", \"Topic2\", \"Topic2\", \"Topic2\", \"Topic2\", \"Topic2\", \"Topic2\", \"Topic2\", \"Topic2\", \"Topic2\", \"Topic2\", \"Topic2\", \"Topic2\", \"Topic2\", \"Topic2\", \"Topic2\", \"Topic2\", \"Topic2\", \"Topic2\", \"Topic2\", \"Topic2\", \"Topic2\", \"Topic2\", \"Topic2\", \"Topic2\", \"Topic2\", \"Topic2\", \"Topic2\", \"Topic2\", \"Topic2\", \"Topic2\", \"Topic2\", \"Topic2\", \"Topic2\", \"Topic2\", \"Topic2\", \"Topic2\", \"Topic2\", \"Topic2\", \"Topic2\", \"Topic2\", \"Topic2\", \"Topic2\", \"Topic2\", \"Topic2\", \"Topic2\", \"Topic2\", \"Topic2\", \"Topic2\", \"Topic2\", \"Topic2\", \"Topic2\", \"Topic2\", \"Topic2\", \"Topic2\", \"Topic2\", \"Topic2\", \"Topic2\", \"Topic2\", \"Topic2\", \"Topic2\", \"Topic2\", \"Topic2\", \"Topic2\", \"Topic2\", \"Topic2\", \"Topic2\", \"Topic2\", \"Topic2\", \"Topic2\", \"Topic2\", \"Topic2\", \"Topic2\", \"Topic3\", \"Topic3\", \"Topic3\", \"Topic3\", \"Topic3\", \"Topic3\", \"Topic3\", \"Topic3\", \"Topic3\", \"Topic3\", \"Topic3\", \"Topic3\", \"Topic3\", \"Topic3\", \"Topic3\", \"Topic3\", \"Topic3\", \"Topic3\", \"Topic3\", \"Topic3\", \"Topic3\", \"Topic3\", \"Topic3\", \"Topic3\", \"Topic3\", \"Topic3\", \"Topic3\", \"Topic3\", \"Topic3\", \"Topic3\", \"Topic3\", \"Topic3\", \"Topic3\", \"Topic3\", \"Topic3\", \"Topic3\", \"Topic3\", \"Topic3\", \"Topic3\", \"Topic3\", \"Topic3\", \"Topic3\", \"Topic3\", \"Topic3\", \"Topic3\", \"Topic3\", \"Topic3\", \"Topic3\", \"Topic3\", \"Topic3\", \"Topic3\", \"Topic3\", \"Topic3\", \"Topic3\", \"Topic3\", \"Topic3\", \"Topic3\", \"Topic3\", \"Topic3\", \"Topic3\", \"Topic3\", \"Topic3\", \"Topic3\", \"Topic3\", \"Topic3\", \"Topic3\", \"Topic3\", \"Topic3\", \"Topic3\", \"Topic3\", \"Topic3\", \"Topic3\", \"Topic3\", \"Topic3\", \"Topic3\", \"Topic3\", \"Topic3\", \"Topic4\", \"Topic4\", \"Topic4\", \"Topic4\", \"Topic4\", \"Topic4\", \"Topic4\", \"Topic4\", \"Topic4\", \"Topic4\", \"Topic4\", \"Topic4\", \"Topic4\", \"Topic4\", \"Topic4\", \"Topic4\", \"Topic4\", \"Topic4\", \"Topic4\", \"Topic4\", \"Topic4\", \"Topic4\", \"Topic4\", \"Topic4\", \"Topic4\", \"Topic4\", \"Topic4\", \"Topic4\", \"Topic4\", \"Topic4\", \"Topic4\", \"Topic4\", \"Topic4\", \"Topic4\", \"Topic4\", \"Topic4\", \"Topic4\", \"Topic4\", \"Topic4\", \"Topic4\", \"Topic4\", \"Topic4\", \"Topic4\", \"Topic4\", \"Topic4\", \"Topic4\", \"Topic4\", \"Topic4\", \"Topic4\", \"Topic4\", \"Topic4\", \"Topic4\", \"Topic4\", \"Topic4\", \"Topic4\", \"Topic4\", \"Topic4\", \"Topic4\", \"Topic4\", \"Topic4\", \"Topic4\", \"Topic4\", \"Topic4\", \"Topic4\", \"Topic4\", \"Topic4\", \"Topic4\", \"Topic4\", \"Topic4\", \"Topic4\", \"Topic4\", \"Topic4\", \"Topic4\", \"Topic4\", \"Topic4\", \"Topic5\", \"Topic5\", \"Topic5\", \"Topic5\", \"Topic5\", \"Topic5\", \"Topic5\", \"Topic5\", \"Topic5\", \"Topic5\", \"Topic5\", \"Topic5\", \"Topic5\", \"Topic5\", \"Topic5\", \"Topic5\", \"Topic5\", \"Topic5\", \"Topic5\", \"Topic5\", \"Topic5\", \"Topic5\", \"Topic5\", \"Topic5\", \"Topic5\", \"Topic5\", \"Topic5\", \"Topic5\", \"Topic5\", \"Topic5\", \"Topic5\", \"Topic5\", \"Topic5\", \"Topic5\", \"Topic5\", \"Topic5\", \"Topic5\", \"Topic5\", \"Topic5\", \"Topic5\", \"Topic5\", \"Topic5\", \"Topic5\", \"Topic5\", \"Topic5\", \"Topic5\", \"Topic5\", \"Topic5\", \"Topic5\", \"Topic5\", \"Topic5\", \"Topic5\", \"Topic5\", \"Topic5\", \"Topic5\", \"Topic5\", \"Topic5\", \"Topic5\", \"Topic5\", \"Topic5\", \"Topic5\", \"Topic5\", \"Topic5\", \"Topic5\", \"Topic5\", \"Topic5\", \"Topic5\", \"Topic5\", \"Topic5\", \"Topic5\", \"Topic5\", \"Topic5\", \"Topic5\", \"Topic5\", \"Topic5\", \"Topic5\", \"Topic5\", \"Topic5\", \"Topic5\", \"Topic5\", \"Topic6\", \"Topic6\", \"Topic6\", \"Topic6\", \"Topic6\", \"Topic6\", \"Topic6\", \"Topic6\", \"Topic6\", \"Topic6\", \"Topic6\", \"Topic6\", \"Topic6\", \"Topic6\", \"Topic6\", \"Topic6\", \"Topic6\", \"Topic6\", \"Topic6\", \"Topic6\", \"Topic6\", \"Topic6\", \"Topic6\", \"Topic6\", \"Topic6\", \"Topic6\", \"Topic6\", \"Topic6\", \"Topic6\", \"Topic6\", \"Topic6\", \"Topic6\", \"Topic6\", \"Topic6\", \"Topic6\", \"Topic6\", \"Topic6\", \"Topic6\", \"Topic6\", \"Topic6\", \"Topic6\", \"Topic6\", \"Topic6\", \"Topic6\", \"Topic6\", \"Topic6\", \"Topic6\", \"Topic6\", \"Topic6\", \"Topic6\", \"Topic6\", \"Topic6\", \"Topic6\", \"Topic6\", \"Topic6\", \"Topic6\", \"Topic6\", \"Topic6\", \"Topic6\", \"Topic6\", \"Topic6\", \"Topic6\", \"Topic6\", \"Topic6\", \"Topic6\", \"Topic6\", \"Topic6\", \"Topic6\", \"Topic6\", \"Topic7\", \"Topic7\", \"Topic7\", \"Topic7\", \"Topic7\", \"Topic7\", \"Topic7\", \"Topic7\", \"Topic7\", \"Topic7\", \"Topic7\", \"Topic7\", \"Topic7\", \"Topic7\", \"Topic7\", \"Topic7\", \"Topic7\", \"Topic7\", \"Topic7\", \"Topic7\", \"Topic7\", \"Topic7\", \"Topic7\", \"Topic7\", \"Topic7\", \"Topic7\", \"Topic7\", \"Topic7\", \"Topic7\", \"Topic7\", \"Topic7\", \"Topic7\", \"Topic7\", \"Topic7\", \"Topic7\", \"Topic7\", \"Topic7\", \"Topic7\", \"Topic7\", \"Topic7\", \"Topic7\", \"Topic7\", \"Topic7\", \"Topic7\", \"Topic7\", \"Topic7\", \"Topic7\", \"Topic7\", \"Topic7\", \"Topic7\", \"Topic7\", \"Topic7\", \"Topic7\", \"Topic7\", \"Topic7\", \"Topic7\", \"Topic7\", \"Topic7\", \"Topic7\", \"Topic7\", \"Topic7\", \"Topic7\", \"Topic7\", \"Topic7\", \"Topic7\", \"Topic7\", \"Topic7\", \"Topic8\", \"Topic8\", \"Topic8\", \"Topic8\", \"Topic8\", \"Topic8\", \"Topic8\", \"Topic8\", \"Topic8\", \"Topic8\", \"Topic8\", \"Topic8\", \"Topic8\", \"Topic8\", \"Topic8\", \"Topic8\", \"Topic8\", \"Topic8\", \"Topic8\", \"Topic8\", \"Topic8\", \"Topic8\", \"Topic8\", \"Topic8\", \"Topic8\", \"Topic8\", \"Topic8\", \"Topic8\", \"Topic8\", \"Topic8\", \"Topic8\", \"Topic8\", \"Topic8\", \"Topic8\", \"Topic8\", \"Topic8\", \"Topic8\", \"Topic8\", \"Topic8\", \"Topic8\", \"Topic8\", \"Topic8\", \"Topic8\", \"Topic8\", \"Topic8\", \"Topic8\", \"Topic8\", \"Topic8\", \"Topic8\", \"Topic8\", \"Topic8\", \"Topic8\", \"Topic8\", \"Topic8\", \"Topic8\", \"Topic8\", \"Topic8\", \"Topic8\", \"Topic8\", \"Topic8\", \"Topic8\", \"Topic8\", \"Topic8\", \"Topic8\", \"Topic8\", \"Topic8\", \"Topic8\", \"Topic8\", \"Topic9\", \"Topic9\", \"Topic9\", \"Topic9\", \"Topic9\", \"Topic9\", \"Topic9\", \"Topic9\", \"Topic9\", \"Topic9\", \"Topic9\", \"Topic9\", \"Topic9\", \"Topic9\", \"Topic9\", \"Topic9\", \"Topic9\", \"Topic9\", \"Topic9\", \"Topic9\", \"Topic9\", \"Topic9\", \"Topic9\", \"Topic9\", \"Topic9\", \"Topic9\", \"Topic9\", \"Topic9\", \"Topic9\", \"Topic9\", \"Topic9\", \"Topic9\", \"Topic9\", \"Topic9\", \"Topic9\", \"Topic9\", \"Topic9\", \"Topic9\", \"Topic9\", \"Topic9\", \"Topic9\", \"Topic9\", \"Topic9\", \"Topic9\", \"Topic9\", \"Topic9\", \"Topic9\", \"Topic9\", \"Topic9\", \"Topic9\", \"Topic9\", \"Topic9\", \"Topic9\", \"Topic9\", \"Topic9\", \"Topic9\", \"Topic9\", \"Topic9\", \"Topic10\", \"Topic10\", \"Topic10\", \"Topic10\", \"Topic10\", \"Topic10\", \"Topic10\", \"Topic10\", \"Topic10\", \"Topic10\", \"Topic10\", \"Topic10\", \"Topic10\", \"Topic10\", \"Topic10\", \"Topic10\", \"Topic10\", \"Topic10\", \"Topic10\", \"Topic10\", \"Topic10\", \"Topic10\", \"Topic10\", \"Topic10\", \"Topic10\", \"Topic10\", \"Topic10\", \"Topic10\", \"Topic10\", \"Topic10\", \"Topic10\", \"Topic10\", \"Topic10\", \"Topic10\", \"Topic10\", \"Topic10\", \"Topic10\", \"Topic10\", \"Topic10\", \"Topic10\", \"Topic10\", \"Topic10\", \"Topic10\", \"Topic10\", \"Topic10\", \"Topic10\", \"Topic10\", \"Topic10\", \"Topic10\", \"Topic10\", \"Topic10\", \"Topic10\", \"Topic10\", \"Topic10\", \"Topic11\", \"Topic11\", \"Topic11\", \"Topic11\", \"Topic11\", \"Topic11\", \"Topic11\", \"Topic11\", \"Topic11\", \"Topic11\", \"Topic11\", \"Topic11\", \"Topic11\", \"Topic11\", \"Topic11\", \"Topic11\", \"Topic11\", \"Topic11\", \"Topic11\", \"Topic11\", \"Topic11\", \"Topic11\", \"Topic11\", \"Topic11\", \"Topic11\", \"Topic11\", \"Topic11\", \"Topic11\", \"Topic11\", \"Topic11\", \"Topic11\", \"Topic11\", \"Topic11\", \"Topic11\", \"Topic11\", \"Topic11\", \"Topic11\", \"Topic11\", \"Topic11\", \"Topic11\", \"Topic11\", \"Topic11\", \"Topic11\", \"Topic11\", \"Topic11\", \"Topic11\", \"Topic11\", \"Topic11\", \"Topic11\", \"Topic11\", \"Topic11\", \"Topic11\", \"Topic11\", \"Topic11\", \"Topic11\", \"Topic11\", \"Topic11\", \"Topic11\", \"Topic11\", \"Topic11\", \"Topic11\", \"Topic11\", \"Topic11\", \"Topic11\", \"Topic11\", \"Topic11\", \"Topic12\", \"Topic12\", \"Topic12\", \"Topic12\", \"Topic12\", \"Topic12\", \"Topic12\", \"Topic12\", \"Topic12\", \"Topic12\", \"Topic12\", \"Topic12\", \"Topic12\", \"Topic12\", \"Topic12\", \"Topic12\", \"Topic12\", \"Topic12\", \"Topic12\", \"Topic12\", \"Topic12\", \"Topic12\", \"Topic12\", \"Topic12\", \"Topic12\", \"Topic12\", \"Topic12\", \"Topic12\", \"Topic12\", \"Topic12\", \"Topic12\", \"Topic12\", \"Topic12\", \"Topic12\", \"Topic12\", \"Topic12\", \"Topic12\", \"Topic12\", \"Topic12\", \"Topic12\", \"Topic12\", \"Topic12\", \"Topic12\", \"Topic12\", \"Topic12\", \"Topic12\", \"Topic12\", \"Topic12\", \"Topic13\", \"Topic13\", \"Topic13\", \"Topic13\", \"Topic13\", \"Topic13\", \"Topic13\", \"Topic13\", \"Topic13\", \"Topic13\", \"Topic13\", \"Topic13\", \"Topic13\", \"Topic13\", \"Topic13\", \"Topic13\", \"Topic13\", \"Topic13\", \"Topic13\", \"Topic13\", \"Topic13\", \"Topic13\", \"Topic13\", \"Topic13\", \"Topic13\", \"Topic13\", \"Topic13\", \"Topic13\", \"Topic13\", \"Topic13\", \"Topic13\", \"Topic13\", \"Topic13\", \"Topic13\", \"Topic13\", \"Topic13\", \"Topic13\", \"Topic13\", \"Topic13\", \"Topic13\", \"Topic13\", \"Topic13\", \"Topic13\", \"Topic13\", \"Topic13\", \"Topic13\", \"Topic13\", \"Topic13\", \"Topic13\", \"Topic13\", \"Topic13\", \"Topic13\", \"Topic13\", \"Topic14\", \"Topic14\", \"Topic14\", \"Topic14\", \"Topic14\", \"Topic14\", \"Topic14\", \"Topic14\", \"Topic14\", \"Topic14\", \"Topic14\", \"Topic14\", \"Topic14\", \"Topic14\", \"Topic14\", \"Topic14\", \"Topic14\", \"Topic14\", \"Topic14\", \"Topic14\", \"Topic14\", \"Topic14\", \"Topic14\", \"Topic14\", \"Topic14\", \"Topic14\", \"Topic14\", \"Topic14\", \"Topic14\", \"Topic14\", \"Topic14\", \"Topic14\", \"Topic14\", \"Topic14\", \"Topic14\", \"Topic14\", \"Topic14\", \"Topic14\", \"Topic14\", \"Topic14\", \"Topic14\", \"Topic14\", \"Topic14\", \"Topic14\", \"Topic14\", \"Topic14\", \"Topic14\", \"Topic14\", \"Topic14\", \"Topic14\", \"Topic14\", \"Topic15\", \"Topic15\", \"Topic15\", \"Topic15\", \"Topic15\", \"Topic15\", \"Topic15\", \"Topic15\", \"Topic15\", \"Topic15\", \"Topic15\", \"Topic15\", \"Topic15\", \"Topic15\", \"Topic15\", \"Topic15\", \"Topic15\", \"Topic15\", \"Topic15\", \"Topic15\", \"Topic15\", \"Topic15\", \"Topic15\", \"Topic15\", \"Topic15\", \"Topic15\", \"Topic15\", \"Topic15\", \"Topic15\", \"Topic15\", \"Topic15\", \"Topic15\", \"Topic15\", \"Topic15\", \"Topic15\", \"Topic15\", \"Topic15\", \"Topic15\", \"Topic15\", \"Topic15\", \"Topic15\", \"Topic15\", \"Topic15\", \"Topic15\", \"Topic15\", \"Topic15\", \"Topic15\", \"Topic16\", \"Topic16\", \"Topic16\", \"Topic16\", \"Topic16\", \"Topic16\", \"Topic16\", \"Topic16\", \"Topic16\", \"Topic16\", \"Topic16\", \"Topic16\", \"Topic16\", \"Topic16\", \"Topic16\", \"Topic16\", \"Topic16\", \"Topic16\", \"Topic16\", \"Topic16\", \"Topic16\", \"Topic16\", \"Topic16\", \"Topic16\", \"Topic16\", \"Topic16\", \"Topic16\", \"Topic16\", \"Topic16\", \"Topic16\", \"Topic16\", \"Topic16\", \"Topic16\", \"Topic16\", \"Topic16\", \"Topic16\", \"Topic16\", \"Topic16\", \"Topic16\", \"Topic16\", \"Topic16\", \"Topic16\", \"Topic16\", \"Topic16\", \"Topic16\", \"Topic16\", \"Topic16\", \"Topic16\", \"Topic16\", \"Topic16\", \"Topic17\", \"Topic17\", \"Topic17\", \"Topic17\", \"Topic17\", \"Topic17\", \"Topic17\", \"Topic17\", \"Topic17\", \"Topic17\", \"Topic17\", \"Topic17\", \"Topic17\", \"Topic17\", \"Topic17\", \"Topic17\", \"Topic17\", \"Topic17\", \"Topic17\", \"Topic17\", \"Topic17\", \"Topic17\", \"Topic17\", \"Topic17\", \"Topic17\", \"Topic17\", \"Topic17\", \"Topic17\", \"Topic17\", \"Topic17\", \"Topic17\", \"Topic17\", \"Topic17\", \"Topic17\", \"Topic17\", \"Topic17\", \"Topic17\", \"Topic17\", \"Topic17\", \"Topic17\", \"Topic17\", \"Topic17\", \"Topic17\", \"Topic17\", \"Topic17\", \"Topic17\", \"Topic17\", \"Topic18\", \"Topic18\", \"Topic18\", \"Topic18\", \"Topic18\", \"Topic18\", \"Topic18\", \"Topic18\", \"Topic18\", \"Topic18\", \"Topic18\", \"Topic18\", \"Topic18\", \"Topic18\", \"Topic18\", \"Topic18\", \"Topic18\", \"Topic18\", \"Topic18\", \"Topic18\", \"Topic18\", \"Topic18\", \"Topic18\", \"Topic18\", \"Topic18\", \"Topic18\", \"Topic18\", \"Topic18\", \"Topic18\", \"Topic18\", \"Topic18\", \"Topic18\", \"Topic18\", \"Topic19\", \"Topic19\", \"Topic19\", \"Topic19\", \"Topic19\", \"Topic19\", \"Topic19\", \"Topic19\", \"Topic19\", \"Topic19\", \"Topic19\", \"Topic19\", \"Topic19\", \"Topic19\", \"Topic19\", \"Topic19\", \"Topic19\", \"Topic19\", \"Topic19\", \"Topic19\", \"Topic19\", \"Topic19\", \"Topic19\", \"Topic19\", \"Topic19\", \"Topic19\", \"Topic19\", \"Topic19\", \"Topic19\", \"Topic19\", \"Topic19\", \"Topic19\", \"Topic19\", \"Topic19\", \"Topic20\", \"Topic20\", \"Topic20\", \"Topic20\", \"Topic20\", \"Topic20\", \"Topic20\", \"Topic20\", \"Topic20\", \"Topic20\", \"Topic20\", \"Topic20\", \"Topic20\", \"Topic20\", \"Topic20\", \"Topic20\", \"Topic20\", \"Topic20\", \"Topic20\", \"Topic20\", \"Topic20\", \"Topic20\", \"Topic20\", \"Topic20\", \"Topic20\", \"Topic20\", \"Topic20\", \"Topic20\", \"Topic20\", \"Topic20\", \"Topic20\", \"Topic20\", \"Topic20\"], \"logprob\": [30.0, 29.0, 28.0, 27.0, 26.0, 25.0, 24.0, 23.0, 22.0, 21.0, 20.0, 19.0, 18.0, 17.0, 16.0, 15.0, 14.0, 13.0, 12.0, 11.0, 10.0, 9.0, 8.0, 7.0, 6.0, 5.0, 4.0, 3.0, 2.0, 1.0, -5.399, -5.6251, -5.8649, -5.9871, -6.2856, -6.3332, -6.3496, -6.3545, -6.3946, -6.6492, -6.6655, -6.7192, -6.7226, -6.738, -6.8011, -6.8051, -6.8102, -6.8756, -6.9862, -7.0007, -7.0166, -7.0353, -7.0687, -7.1028, -7.1296, -7.142, -6.5062, -7.1655, -7.2129, -7.2152, -5.8437, -3.8554, -4.6035, -4.6542, -5.7186, -5.7243, -5.7679, -4.6795, -4.919, -4.7087, -5.8144, -4.1256, -3.9843, -4.5209, -4.3442, -5.1355, -5.7027, -3.624, -4.6338, -4.1728, -4.635, -4.7403, -4.8912, -4.9202, -3.9453, -4.3247, -4.509, -3.2388, -4.859, -4.6556, -4.8697, -5.0623, -4.9003, -5.0353, -4.9623, -4.9632, -6.2528, -6.3316, -5.6527, -6.5841, -6.8953, -7.0577, -5.7382, -7.3888, -7.5312, -7.5471, -7.6988, -7.7351, -7.7746, -7.7767, -7.7878, -7.7908, -7.8109, -7.9196, -7.9631, -8.0221, -8.028, -8.0326, -8.0417, -8.0442, -8.0643, -8.062, -8.2393, -8.2677, -8.2786, -8.28, -3.4608, -4.3753, -3.4493, -4.5485, -3.4857, -6.406, -5.0583, -4.9186, -6.4881, -4.176, -6.4369, -5.4658, -5.8239, -4.4486, -4.4348, -5.8503, -3.3775, -6.3927, -5.6585, -6.6127, -6.4539, -3.9386, -4.904, -5.7476, -5.4413, -4.4412, -4.9515, -4.2871, -4.4581, -5.3332, -4.0691, -4.974, -4.5052, -4.3004, -4.0411, -5.1031, -4.8644, -5.2065, -5.0383, -5.1823, -5.0548, -4.9384, -5.1534, -4.7259, -5.076, -5.0878, -4.9647, -5.4111, -5.5411, -5.3094, -4.3895, -6.0178, -6.5299, -6.5855, -6.6616, -6.7134, -6.7392, -6.7627, -6.8349, -6.8608, -6.9062, -6.9775, -6.998, -7.0497, -7.0757, -7.1062, -7.206, -7.2534, -7.2853, -7.3496, -7.3694, -7.4245, -7.4252, -7.3719, -7.4516, -7.5091, -5.8514, -6.9971, -5.1575, -5.5241, -5.9498, -6.0796, -5.8743, -6.6754, -4.1664, -5.7089, -5.464, -3.2756, -5.3028, -5.8233, -5.0039, -5.0256, -6.3669, -4.7952, -5.3044, -4.4852, -5.8104, -5.4383, -4.797, -5.8238, -6.0939, -4.8834, -4.525, -5.1451, -4.5185, -4.444, -4.6826, -4.9234, -4.3974, -4.7975, -5.3966, -5.0014, -4.1203, -4.5819, -4.5203, -4.7841, -5.0586, -4.9169, -5.2564, -5.173, -5.1989, -5.2593, -5.2528, -4.8394, -5.6712, -5.9776, -6.618, -6.7608, -6.8935, -7.0368, -7.0414, -7.0866, -7.0932, -7.1389, -7.2429, -7.3147, -7.3868, -7.4405, -7.4498, -7.5147, -7.5742, -7.6144, -7.6231, -7.6728, -7.6834, -7.7954, -7.8281, -7.8608, -7.9381, -7.9749, -8.0241, -8.0385, -8.0536, -3.8808, -4.2088, -7.7548, -6.6603, -5.5251, -3.4165, -5.103, -6.539, -5.4615, -4.3945, -4.2282, -5.937, -5.3001, -3.9026, -5.0961, -4.007, -6.2532, -4.5934, -4.097, -5.1617, -3.9025, -5.0006, -5.5865, -4.1319, -5.1468, -5.0647, -5.328, -4.698, -3.4043, -5.1321, -3.067, -3.7936, -4.3218, -4.2545, -4.2137, -4.1958, -4.6592, -4.4137, -4.8096, -5.0452, -4.9115, -4.9496, -4.9965, -5.0378, -5.0555, -5.4535, -5.9913, -6.013, -6.189, -6.3883, -6.4204, -6.66, -6.6621, -6.672, -6.8755, -7.0149, -7.0545, -7.1745, -7.1813, -7.2503, -7.3178, -7.3524, -7.3538, -7.3745, -7.3812, -7.3895, -7.4238, -7.4454, -7.335, -7.5666, -7.5734, -7.5988, -7.6104, -7.6287, -7.6391, -3.8898, -5.6203, -5.1975, -5.8772, -6.7029, -3.8822, -6.9166, -5.3982, -7.0313, -5.8037, -3.9283, -5.9785, -5.7226, -6.7117, -5.3504, -5.4603, -5.1052, -5.5267, -5.9931, -4.9006, -4.1602, -5.8536, -5.8264, -4.5827, -4.6926, -3.7462, -5.5361, -5.8131, -4.9771, -4.4474, -4.715, -4.5624, -5.0416, -4.7451, -4.9685, -4.4925, -4.9747, -4.6708, -4.8142, -4.6927, -4.5398, -5.0509, -5.0362, -5.4088, -5.129, -5.137, -5.182, -5.3081, -5.3306, -5.3243, -5.9807, -6.0326, -6.0937, -6.1247, -6.247, -6.3282, -6.5687, -6.606, -6.6144, -6.6614, -6.687, -6.769, -6.8747, -6.9835, -7.0121, -7.0388, -7.046, -7.2049, -7.2343, -7.2505, -7.2859, -7.3187, -7.327, -7.3632, -7.3731, -7.4073, -7.4109, -7.4345, -7.4664, -7.4677, -5.6162, -4.6687, -6.2729, -5.7312, -5.901, -6.1687, -4.387, -4.6408, -3.8421, -3.1915, -3.2526, -5.3303, -4.1841, -4.2691, -3.4486, -4.0602, -4.5692, -5.5723, -4.1022, -3.4677, -4.6506, -3.436, -3.1463, -2.793, -5.4053, -4.921, -4.1554, -4.313, -4.55, -4.9453, -4.3234, -4.6201, -4.913, -4.6128, -5.0365, -4.9078, -4.8588, -4.971, -4.9795, -4.4691, -4.7112, -4.6409, -4.7537, -4.9306, -5.6079, -5.696, -5.8042, -5.8765, -5.9226, -5.9998, -6.4494, -6.4874, -6.5094, -5.4169, -6.6875, -6.8331, -6.8486, -6.9209, -6.9758, -7.017, -7.0576, -7.107, -7.2177, -7.2197, -7.2896, -7.2976, -7.3018, -7.3224, -7.3443, -5.7655, -4.5275, -5.7957, -5.8808, -5.2018, -3.8176, -6.5207, -3.5105, -3.9177, -6.1271, -5.6148, -4.7234, -3.8508, -5.1236, -4.0543, -4.3889, -2.2964, -4.2725, -5.404, -4.8638, -4.243, -4.3447, -4.0507, -4.8785, -4.2634, -3.967, -4.957, -4.7525, -5.0225, -4.7363, -4.9566, -4.6324, -4.8165, -4.8222, -4.7054, -4.8478, -4.9439, -5.9737, -6.2929, -6.5787, -6.6401, -5.3643, -6.7141, -6.8117, -6.8723, -6.8763, -6.9735, -6.9799, -7.0527, -7.1867, -7.1883, -7.1958, -7.2051, -7.2267, -7.2589, -7.2796, -7.3166, -7.3637, -7.4131, -7.4297, -7.4322, -7.4687, -7.4754, -7.4872, -7.5906, -7.6013, -7.6374, -3.5941, -4.6596, -5.1536, -6.2764, -2.9551, -5.3773, -4.8738, -5.5694, -2.4982, -2.1046, -1.765, -6.2425, -4.9348, -4.8739, -4.3261, -3.1868, -3.5695, -5.5117, -4.8686, -5.3733, -4.9414, -5.032, -4.941, -5.9618, -5.0517, -4.5541, -5.1959, -5.3911, -4.7324, -4.7256, -4.5441, -5.02, -4.6503, -4.8404, -4.945, -5.0942, -5.1247, -5.0863, -4.0916, -3.6367, -4.4613, -4.6894, -4.8322, -4.9663, -5.1435, -5.2672, -5.3299, -5.3731, -5.4041, -5.4083, -5.7714, -5.9106, -5.9368, -6.0859, -6.2738, -6.3179, -6.0196, -6.4024, -6.5218, -6.5412, -6.5428, -5.4984, -6.6189, -6.6991, -6.7197, -6.7783, -6.7901, -6.8118, -3.1725, -5.7749, -5.8838, -4.3605, -4.9033, -4.8262, -4.1461, -5.2106, -6.1401, -4.1788, -3.8729, -4.3495, -3.6488, -3.6259, -5.0311, -4.6342, -4.4992, -4.3678, -4.5795, -4.8579, -4.2, -4.9514, -4.9277, -4.6659, -5.1073, -4.9226, -4.997, -5.1298, -1.8024, -4.3039, -4.5881, -4.6698, -4.7143, -4.8808, -4.8912, -4.9079, -4.9092, -4.3613, -5.1251, -5.3765, -5.5074, -5.5364, -5.6019, -5.6067, -5.626, -5.6812, -5.9054, -6.0542, -6.0651, -6.0948, -6.1288, -6.1761, -6.1971, -6.2067, -6.2095, -6.243, -6.2552, -6.2673, -4.4097, -3.4804, -4.4632, -3.7411, -2.8957, -4.899, -4.1175, -5.358, -4.175, -5.4431, -4.487, -5.0055, -4.2064, -4.3222, -4.2576, -4.465, -5.0048, -5.0857, -4.589, -4.7851, -4.8083, -5.0074, -4.8205, -4.7871, -3.5388, -3.555, -5.0718, -5.1679, -5.4128, -5.4227, -5.4488, -5.8798, -6.0379, -6.0821, -6.1301, -6.1848, -6.1951, -6.3009, -6.3193, -6.407, -6.428, -6.4375, -6.4585, -6.4669, -6.4831, -6.5652, -6.5661, -6.5873, -6.6282, -6.6465, -6.672, -6.7319, -6.7447, -6.6396, -3.5666, -5.989, -4.0104, -4.0482, -5.4434, -5.7589, -4.7003, -3.4975, -5.0561, -4.3788, -5.1194, -5.0753, -5.7952, -4.6302, -3.5826, -4.4672, -4.5592, -5.2656, -5.2531, -3.791, -4.6907, -4.3168, -5.1447, -5.6192, -4.4466, -4.7794, -4.6534, -4.6744, -4.3109, -4.9484, -4.5784, -4.7083, -5.1317, -4.9586, -5.1343, -5.1119, -2.4068, -3.7652, -3.9193, -4.0568, -4.101, -4.1192, -4.1486, -4.2853, -4.7063, -4.9273, -4.9807, -5.1135, -5.1403, -5.2088, -3.1767, -5.2755, -5.2891, -5.3928, -5.4956, -5.5075, -5.5166, -5.545, -5.5543, -5.579, -5.6085, -5.7105, -5.742, -5.7438, -5.8106, -5.8649, -3.0275, -3.0169, -4.6222, -4.9078, -3.7929, -4.2033, -3.4683, -4.256, -4.2761, -3.8463, -4.454, -5.1, -4.5022, -4.0479, -4.7305, -4.614, -4.9825, -5.0664, -3.4271, -4.092, -4.5638, -4.5679, -4.8529, -4.9596, -4.9742, -5.0458, -4.7951, -5.1772, -5.208, -5.2114, -5.3688, -5.4726, -5.4777, -5.4915, -5.5226, -5.581, -5.6635, -5.6675, -5.6945, -5.7047, -5.5919, -5.7711, -5.8049, -5.855, -5.8673, -5.8859, -5.8877, -5.8989, -5.1257, -4.4019, -4.4969, -5.8505, -4.1071, -3.7416, -4.1321, -4.3991, -4.9212, -3.9795, -4.6988, -4.7055, -4.3306, -4.423, -4.3169, -4.9209, -4.7499, -5.1076, -4.4445, -4.6312, -4.8154, -5.0839, -5.07, -2.6954, -3.1103, -3.5599, -3.9364, -4.2172, -4.3749, -4.6227, -4.6384, -4.6999, -4.8993, -4.9912, -4.9999, -5.1734, -5.1773, -5.2013, -5.2511, -5.2525, -5.2653, -5.5105, -5.5177, -5.5807, -5.8772, -6.1176, -6.191, -6.2234, -6.2302, -6.2307, -6.2491, -6.2528, -6.258, -2.5333, -6.0065, -6.1051, -4.9042, -4.2863, -4.3967, -3.1928, -4.3741, -5.2374, -4.1402, -4.7233, -4.0577, -2.6715, -4.0503, -3.8305, -4.2755, -4.5554, -4.3264, -4.2916, -4.8317, -4.743, -4.1293, -4.134, -4.1337, -4.1454, -4.2898, -4.5292, -4.7132, -4.7397, -4.9458, -5.0646, -5.1464, -5.1612, -5.2388, -5.2704, -5.2914, -5.3085, -5.3294, -5.3468, -5.3519, -5.3776, -4.9803, -5.493, -5.5233, -5.5582, -5.5704, -5.5843, -5.6251, -5.6633, -5.6681, -5.6687, -2.7885, -4.7691, -1.9153, -3.7042, -3.5184, -4.637, -4.1796, -5.0685, -4.6927, -4.5293, -4.4028, -4.9179, -4.6488, -5.0898, -4.712, -5.021, -5.0849, -2.6684, -3.1272, -3.4528, -3.8139, -3.8498, -3.9483, -4.1946, -4.4389, -4.6198, -4.6971, -4.7027, -4.9114, -4.9558, -5.1286, -5.1534, -5.222, -4.7839, -5.3067, -5.3338, -5.3596, -5.4077, -5.4304, -5.4604, -5.5711, -5.6093, -5.6267, -5.6497, -5.6914, -5.7157, -5.787, -5.2457, -4.7936, -3.3389, -3.0295, -5.0392, -3.4462, -3.6304, -4.5112, -4.6248, -4.3273, -4.1568, -4.7875, -4.5561, -4.1556, -4.5926, -4.4999, -4.891, -4.4989, -4.7852, -4.8784, -3.2652, -3.8512, -4.0391, -4.0609, -4.0305, -4.2525, -4.2879, -4.3287, -4.587, -4.7096, -4.7153, -4.7261, -4.7628, -4.7821, -4.9579, -5.0116, -5.0383, -5.0384, -5.2294, -5.2571, -5.2696, -5.2729, -5.3115, -5.3795, -5.4069, -5.4929, -5.5272, -5.5386, -5.5532, -5.5647, -4.0926, -3.2039, -3.9802, -4.8457, -3.0757, -3.0516, -4.8757, -4.2644, -4.2833, -4.7792, -4.2702, -4.8616, -4.7374, -4.6009, -4.6213, -4.758, -4.8216, -2.544, -2.5782, -3.116, -3.2967, -3.6691, -3.7086, -3.8789, -3.9873, -4.0406, -4.0659, -4.1992, -4.2383, -4.2436, -4.4454, -4.5364, -4.5452, -4.5482, -4.4894, -4.5817, -4.6285, -4.6419, -4.6556, -4.6797, -4.6897, -4.7952, -3.8168, -4.9209, -4.9616, -4.9734, -5.0182, -4.3295, -3.5884, -3.8266, -2.6661, -3.4012, -3.6238, -3.641, -3.8047, -3.8921, -3.9118, -4.0797, -4.1478, -4.2082, -4.258, -4.3749, -4.3823, -4.4054, -4.4064, -4.41, -4.4364, -4.5047, -4.4153, -4.5358, -4.393, -4.6006, -4.6152, -4.6202, -4.633, -4.6493, -4.7132, -4.7324, -4.7897, -4.7909, -3.8731, -4.0115, -4.2442, -4.6481, -2.5908, -2.9234, -3.3441, -3.6162, -3.6564, -3.7068, -3.8782, -4.0982, -4.153, -4.1901, -4.2694, -4.3118, -4.3722, -4.3774, -4.4662, -4.4769, -4.4969, -4.5623, -4.5691, -4.609, -4.6763, -4.6825, -4.7057, -4.7275, -4.7371, -4.7439, -4.7831, -4.8146, -4.8321, -4.8335, -3.1857, -4.347, -4.4961], \"loglift\": [30.0, 29.0, 28.0, 27.0, 26.0, 25.0, 24.0, 23.0, 22.0, 21.0, 20.0, 19.0, 18.0, 17.0, 16.0, 15.0, 14.0, 13.0, 12.0, 11.0, 10.0, 9.0, 8.0, 7.0, 6.0, 5.0, 4.0, 3.0, 2.0, 1.0, 1.5272, 1.5271, 1.5269, 1.5268, 1.5264, 1.5264, 1.5264, 1.5264, 1.5263, 1.5259, 1.5258, 1.5257, 1.5257, 1.5257, 1.5256, 1.5256, 1.5255, 1.5254, 1.5251, 1.5251, 1.525, 1.525, 1.5249, 1.5248, 1.5247, 1.5247, 1.5247, 1.5246, 1.5244, 1.5244, 1.5134, 1.4893, 1.4979, 1.4824, 1.4958, 1.4949, 1.4769, 1.4303, 1.414, 1.3983, 1.4214, 1.2147, 1.1682, 1.2125, 1.1545, 1.2691, 1.3569, 0.9655, 1.1426, 0.9852, 1.0769, 1.0913, 1.1298, 1.1075, 0.6209, 0.7281, 0.8016, 0.1411, 0.9167, 0.726, 0.8318, 0.9196, 0.7493, 0.802, 0.5045, 0.0705, 2.0608, 2.0606, 2.0602, 2.0599, 2.0588, 2.058, 2.0566, 2.0562, 2.0552, 2.055, 2.0538, 2.0534, 2.053, 2.053, 2.0529, 2.0529, 2.0527, 2.0515, 2.051, 2.0503, 2.0502, 2.0501, 2.05, 2.05, 2.0497, 2.0477, 2.0472, 2.0468, 2.0466, 2.0466, 2.0139, 2.0147, 1.9665, 1.9398, 1.8392, 1.9658, 1.8837, 1.8262, 1.9369, 1.7428, 1.9137, 1.7858, 1.8051, 1.6223, 1.6163, 1.7571, 1.212, 1.7763, 1.6111, 1.8096, 1.7716, 1.102, 1.3452, 1.5306, 1.421, 1.0618, 1.1804, 0.8654, 0.853, 1.2523, 0.4532, 0.9137, 0.4476, 0.2658, -0.0307, 0.9716, 0.5172, 0.9844, 0.7366, 0.8465, 0.5478, -0.2124, 0.557, -1.346, -0.0233, -0.0542, 2.2979, 2.2974, 2.2973, 2.297, 2.2965, 2.2965, 2.295, 2.2948, 2.2945, 2.2943, 2.2942, 2.2941, 2.2937, 2.2936, 2.2934, 2.293, 2.2928, 2.2925, 2.2924, 2.2922, 2.2915, 2.2912, 2.2909, 2.2904, 2.2902, 2.2898, 2.2898, 2.2897, 2.2895, 2.289, 2.2884, 2.2859, 2.2642, 2.2682, 2.2659, 2.2337, 2.2177, 2.2571, 2.064, 2.1786, 2.1466, 1.7754, 2.0391, 2.1075, 1.9591, 1.9497, 2.1834, 1.7677, 1.8904, 1.6531, 2.022, 1.8798, 1.6606, 1.9983, 2.0828, 1.5556, 1.1522, 1.4421, 0.9484, 0.867, 0.9719, 1.1115, 0.3286, 0.8051, 1.5581, 0.8815, -0.7404, -0.0596, -0.51, 0.1687, 0.635, 0.1237, 0.8024, -0.1393, -0.0409, 0.3904, -0.3722, 2.4372, 2.4362, 2.4356, 2.4334, 2.4327, 2.432, 2.4311, 2.431, 2.4307, 2.4307, 2.4303, 2.4295, 2.4289, 2.4282, 2.4276, 2.4275, 2.4268, 2.4262, 2.4257, 2.4254, 2.425, 2.4248, 2.4233, 2.4228, 2.4223, 2.421, 2.4204, 2.4195, 2.4193, 2.419, 2.4025, 2.3822, 2.4175, 2.3792, 2.3059, 2.1224, 2.0766, 2.2494, 2.0767, 1.8824, 1.8305, 2.1129, 1.9718, 1.6759, 1.8749, 1.5957, 2.1333, 1.7116, 1.5422, 1.8368, 1.4757, 1.7335, 1.9214, 1.308, 1.6523, 1.5936, 1.7049, 1.3308, 0.6061, 1.5258, 0.3129, 0.7287, 0.9888, 0.7861, 0.7376, 0.5302, 0.9087, 0.4669, 0.9008, 1.3522, 0.5915, 0.1015, 0.0371, 0.2942, 0.7194, 2.4823, 2.4812, 2.4812, 2.4807, 2.48, 2.4799, 2.4788, 2.4788, 2.4788, 2.4776, 2.4767, 2.4764, 2.4755, 2.4754, 2.4748, 2.4742, 2.4739, 2.4739, 2.4737, 2.4736, 2.4735, 2.4732, 2.4729, 2.4727, 2.4715, 2.4715, 2.4711, 2.471, 2.4708, 2.4706, 2.4107, 2.4046, 2.3846, 2.4108, 2.4374, 2.299, 2.4424, 2.3346, 2.4456, 2.3311, 2.0198, 2.2958, 2.2434, 2.3856, 2.1667, 2.145, 2.0712, 2.1042, 2.2103, 1.9415, 1.7227, 2.165, 2.1467, 1.7854, 1.7326, 1.3048, 1.9913, 2.1136, 1.6187, 1.2541, 1.3795, 1.148, 1.4969, 1.2368, 1.4125, 0.9474, 1.3302, 0.9077, 1.0173, 0.6394, 0.1863, 0.9779, 0.6134, 1.6084, 0.2492, 0.1736, 0.129, 0.7197, 0.3086, -1.3139, 2.6332, 2.6329, 2.6328, 2.6327, 2.6323, 2.632, 2.6308, 2.6306, 2.6306, 2.6303, 2.6302, 2.6296, 2.629, 2.6281, 2.6279, 2.6277, 2.6276, 2.6261, 2.6259, 2.6257, 2.6253, 2.625, 2.6249, 2.6245, 2.6244, 2.6239, 2.6239, 2.6236, 2.6232, 2.6232, 2.5856, 2.4313, 2.4988, 2.4277, 2.4171, 2.4361, 2.08, 2.0395, 1.8515, 1.6891, 1.6987, 2.1624, 1.8508, 1.8368, 1.585, 1.7312, 1.8389, 2.1658, 1.5533, 1.2583, 1.7598, 1.1302, 0.8641, 0.5869, 1.9502, 1.5102, 0.8974, 1.019, 1.1045, 1.4694, 0.8346, 1.0191, 1.1949, 0.7688, 1.2127, 0.8119, 0.6599, 0.8664, 0.0611, 2.8854, 2.8851, 2.8851, 2.8851, 2.8849, 2.8836, 2.8834, 2.883, 2.8828, 2.8826, 2.8823, 2.8802, 2.88, 2.8798, 2.8796, 2.8786, 2.8774, 2.8772, 2.8766, 2.876, 2.8756, 2.8752, 2.8746, 2.8733, 2.8733, 2.8723, 2.8722, 2.8722, 2.8718, 2.8715, 2.7904, 2.6471, 2.7348, 2.729, 2.6385, 2.3799, 2.7744, 2.2974, 2.2874, 2.696, 2.5839, 2.3784, 2.1395, 2.4116, 2.0889, 2.1526, 1.0835, 1.7948, 2.3402, 1.9108, 1.4341, 1.405, 0.6753, 1.6168, 0.6879, 0.0434, 1.5196, 0.9411, 1.3749, 0.6453, 1.1863, -0.1102, 0.5617, 0.5098, -0.1392, 0.4925, 0.6953, 3.0703, 3.0686, 3.0666, 3.0661, 3.0655, 3.0654, 3.0644, 3.0638, 3.0638, 3.0626, 3.0625, 3.0616, 3.0597, 3.0597, 3.0596, 3.0595, 3.0591, 3.0586, 3.0583, 3.0577, 3.0568, 3.0559, 3.0556, 3.0556, 3.0549, 3.0547, 3.0545, 3.0523, 3.0521, 3.0512, 2.9138, 2.9178, 2.9421, 2.9514, 2.6128, 2.7714, 2.6816, 2.7644, 2.024, 1.9058, 1.6149, 2.7786, 2.3854, 2.3662, 2.1992, 1.6938, 1.8088, 2.4761, 2.186, 2.3895, 1.959, 1.9738, 1.8645, 2.4548, 1.6824, 1.1563, 1.7012, 1.8818, 1.0172, 0.877, 0.4072, 1.0312, -0.0841, 0.2002, 0.5537, 0.6807, 0.7126, 0.3535, 3.2272, 3.2269, 3.2268, 3.2265, 3.2263, 3.226, 3.2257, 3.2254, 3.2252, 3.2251, 3.225, 3.225, 3.2237, 3.223, 3.2229, 3.2221, 3.2208, 3.2206, 3.2205, 3.2199, 3.2189, 3.2187, 3.2187, 3.2185, 3.218, 3.2171, 3.2169, 3.2163, 3.2161, 3.2159, 3.0763, 3.1673, 3.1395, 2.827, 2.8018, 2.5787, 2.0513, 2.5578, 3.0144, 1.8885, 1.6458, 1.9314, 1.4039, 1.327, 2.2982, 1.9073, 1.6437, 1.1352, 1.4108, 1.7566, 0.3662, 1.8767, 1.7692, 0.6661, 2.0823, 0.9651, 1.1412, 1.4974, 3.4801, 3.479, 3.4787, 3.4785, 3.4784, 3.4781, 3.4781, 3.478, 3.478, 3.478, 3.4774, 3.4766, 3.4761, 3.476, 3.4757, 3.4757, 3.4756, 3.4753, 3.4741, 3.473, 3.473, 3.4727, 3.4725, 3.4721, 3.4719, 3.4718, 3.4718, 3.4715, 3.4714, 3.4713, 3.4593, 3.3052, 3.3582, 3.3058, 3.2225, 3.3165, 3.193, 3.3534, 2.8259, 3.255, 2.8662, 2.8792, 1.2335, 0.5585, 0.2646, 0.4864, 1.7293, 1.9895, 0.137, 0.8645, 0.6586, 1.5799, -0.2543, -0.7767, 3.5939, 3.5928, 3.5914, 3.5911, 3.5902, 3.5902, 3.59, 3.5876, 3.5865, 3.5861, 3.5857, 3.5852, 3.5851, 3.584, 3.5838, 3.5829, 3.5826, 3.5825, 3.5823, 3.5822, 3.582, 3.5809, 3.5809, 3.5806, 3.58, 3.5798, 3.5794, 3.5784, 3.5782, 3.5781, 3.4804, 3.5095, 3.2748, 3.2528, 3.4008, 3.4244, 3.1748, 2.8836, 3.2438, 2.915, 3.0962, 3.0624, 3.3029, 2.7671, 2.1938, 2.5949, 2.5854, 2.9735, 2.9467, 1.8644, 2.5104, 2.1382, 2.7666, 3.1698, 1.9829, 2.2427, 2.0528, 2.0713, 1.401, 2.2291, 1.1413, 1.4041, 2.4887, 0.5601, 2.3273, -0.1591, 3.9269, 3.926, 3.9258, 3.9256, 3.9256, 3.9255, 3.9255, 3.9252, 3.9242, 3.9235, 3.9233, 3.9227, 3.9226, 3.9223, 3.9221, 3.9219, 3.9219, 3.9213, 3.9207, 3.9206, 3.9205, 3.9203, 3.9203, 3.9201, 3.9199, 3.9191, 3.9188, 3.9188, 3.9182, 3.9177, 3.8816, 3.6103, 3.5946, 3.6536, 2.9027, 2.9508, 2.2814, 2.5251, 2.3384, 1.6567, 2.3741, 3.2508, 1.6409, -0.6681, 1.7835, 0.3373, 1.2984, 0.7414, 3.9903, 3.9894, 3.9884, 3.9884, 3.9875, 3.9871, 3.987, 3.9867, 3.9866, 3.9861, 3.9859, 3.9859, 3.985, 3.9843, 3.9843, 3.9842, 3.984, 3.9836, 3.9829, 3.9828, 3.9826, 3.9826, 3.9825, 3.9819, 3.9817, 3.9812, 3.981, 3.9809, 3.9808, 3.9807, 3.9805, 3.9666, 3.8925, 3.9778, 3.424, 3.0575, 2.984, 3.124, 3.3715, 2.3555, 3.0307, 2.987, 2.4702, 2.3581, 1.7777, 2.7247, 2.3048, 3.1245, 1.1341, 1.3507, 0.9924, 2.8109, -0.344, 4.0939, 4.0937, 4.0933, 4.0928, 4.0923, 4.0919, 4.0912, 4.0912, 4.091, 4.0902, 4.0898, 4.0897, 4.0888, 4.0888, 4.0887, 4.0884, 4.0884, 4.0883, 4.0866, 4.0866, 4.086, 4.0832, 4.08, 4.079, 4.0785, 4.0784, 4.0784, 4.0781, 4.078, 4.078, 4.0684, 4.0749, 4.0762, 3.9453, 3.8716, 3.873, 3.6346, 3.7081, 3.8876, 3.6301, 3.7562, 3.5671, 3.1041, 3.3489, 3.1242, 3.1992, 3.3154, 2.904, 2.786, 3.3957, 3.0661, 4.2582, 4.2582, 4.2581, 4.2581, 4.2578, 4.257, 4.2563, 4.2562, 4.2552, 4.2546, 4.2541, 4.254, 4.2534, 4.2532, 4.2531, 4.2529, 4.2528, 4.2526, 4.2526, 4.2524, 4.2514, 4.2514, 4.2511, 4.2508, 4.2507, 4.2505, 4.2501, 4.2497, 4.2497, 4.2497, 4.201, 3.9882, 3.0375, 3.5238, 3.4106, 3.8157, 3.3652, 3.8501, 3.1546, 2.5707, 1.7404, 2.9009, 2.0275, 3.067, 0.5986, 1.4556, 1.9702, 4.3576, 4.3573, 4.3568, 4.3563, 4.3563, 4.3561, 4.3555, 4.3547, 4.354, 4.3537, 4.3536, 4.3526, 4.3523, 4.3512, 4.3511, 4.3506, 4.3499, 4.3499, 4.3497, 4.3494, 4.349, 4.3488, 4.3485, 4.3474, 4.347, 4.3468, 4.3465, 4.346, 4.3457, 4.3448, 4.3437, 4.2717, 4.1067, 3.7516, 4.2113, 3.3219, 3.2927, 3.7712, 3.7629, 3.1542, 2.876, 3.5753, 3.0556, 1.8722, 2.7402, 2.3009, 3.4508, 1.5957, 2.5752, 1.6294, 4.4486, 4.4476, 4.4472, 4.4471, 4.4471, 4.4466, 4.4464, 4.4463, 4.4453, 4.4447, 4.4447, 4.4446, 4.4444, 4.4443, 4.4433, 4.443, 4.4428, 4.4428, 4.4412, 4.4411, 4.441, 4.4409, 4.4405, 4.4399, 4.4397, 4.4388, 4.4384, 4.4383, 4.4381, 4.438, 4.3314, 4.2557, 4.1699, 4.1921, 3.4872, 3.0429, 4.0859, 3.2262, 3.0723, 3.5638, 1.8727, 3.2865, 2.8892, 2.1999, 2.2792, 2.6307, 2.5215, 4.7371, 4.7371, 4.7365, 4.7363, 4.7355, 4.7354, 4.735, 4.7346, 4.7344, 4.7343, 4.7339, 4.7337, 4.7337, 4.7327, 4.7322, 4.7322, 4.7322, 4.732, 4.732, 4.7317, 4.7316, 4.7315, 4.7314, 4.7313, 4.7306, 4.7299, 4.7296, 4.7293, 4.7292, 4.7288, 4.7246, 4.3259, 2.2805, 5.163, 5.1616, 5.1609, 5.1608, 5.1602, 5.1598, 5.1597, 5.1589, 5.1585, 5.1582, 5.1578, 5.157, 5.157, 5.1568, 5.1568, 5.1568, 5.1566, 5.156, 5.156, 5.1558, 5.1554, 5.1552, 5.1551, 5.155, 5.1549, 5.1548, 5.1541, 5.1539, 5.1533, 5.1533, 5.096, 4.7924, 2.3077, 4.1718, 5.2403, 5.2398, 5.2389, 5.238, 5.2378, 5.2376, 5.2369, 5.2357, 5.2354, 5.2351, 5.2346, 5.2343, 5.2338, 5.2338, 5.2331, 5.233, 5.2328, 5.2322, 5.2321, 5.2317, 5.2311, 5.231, 5.2307, 5.2305, 5.2304, 5.2303, 5.2299, 5.2295, 5.2293, 5.2293, 5.1871, 4.6285, 4.7848]}, \"token.table\": {\"Topic\": [1, 2, 16, 2, 1, 2, 16, 13, 17, 11, 2, 16, 11, 1, 7, 9, 14, 9, 1, 2, 7, 13, 17, 1, 2, 3, 5, 6, 7, 9, 10, 3, 4, 5, 11, 2, 20, 18, 1, 2, 9, 14, 8, 2, 19, 8, 17, 1, 2, 5, 8, 9, 14, 8, 17, 2, 10, 16, 2, 6, 10, 14, 6, 4, 10, 17, 3, 2, 12, 10, 1, 4, 8, 10, 12, 1, 2, 3, 4, 5, 7, 13, 15, 4, 5, 15, 4, 18, 7, 5, 14, 4, 10, 15, 4, 5, 14, 16, 5, 5, 4, 3, 3, 8, 18, 2, 14, 7, 1, 2, 4, 11, 16, 1, 3, 5, 10, 15, 16, 17, 1, 5, 1, 7, 14, 15, 2, 3, 4, 5, 7, 8, 13, 15, 20, 1, 2, 6, 7, 15, 3, 9, 11, 15, 3, 13, 2, 1, 13, 19, 1, 2, 5, 6, 7, 10, 15, 2, 10, 11, 11, 4, 7, 12, 11, 1, 2, 3, 4, 5, 7, 8, 9, 13, 14, 5, 6, 7, 7, 9, 8, 2, 3, 4, 8, 2, 1, 2, 3, 7, 8, 9, 11, 12, 13, 16, 3, 5, 7, 8, 9, 2, 4, 5, 8, 10, 12, 17, 8, 3, 3, 14, 10, 14, 11, 9, 1, 5, 20, 20, 1, 3, 3, 1, 6, 20, 5, 14, 2, 3, 1, 11, 13, 15, 1, 2, 3, 4, 5, 6, 7, 8, 9, 10, 12, 17, 20, 1, 2, 3, 4, 5, 7, 8, 9, 10, 12, 13, 15, 17, 18, 14, 2, 3, 4, 5, 13, 5, 6, 15, 17, 4, 5, 8, 1, 2, 11, 12, 16, 1, 4, 9, 10, 3, 12, 2, 5, 1, 2, 5, 6, 9, 12, 14, 15, 11, 3, 4, 13, 5, 12, 1, 2, 3, 4, 5, 7, 8, 1, 2, 5, 6, 1, 7, 10, 11, 11, 9, 5, 14, 8, 10, 2, 7, 9, 10, 2, 10, 3, 5, 13, 14, 1, 2, 3, 4, 5, 6, 7, 8, 9, 10, 11, 13, 17, 18, 9, 11, 10, 20, 12, 12, 20, 3, 12, 3, 5, 19, 7, 16, 1, 2, 3, 4, 5, 6, 7, 8, 9, 11, 12, 13, 16, 17, 9, 3, 2, 3, 1, 2, 3, 4, 5, 7, 8, 9, 12, 13, 15, 18, 8, 18, 12, 6, 3, 5, 4, 3, 17, 6, 16, 1, 2, 3, 4, 5, 6, 10, 13, 17, 13, 6, 15, 12, 1, 2, 10, 16, 7, 1, 9, 2, 3, 4, 5, 8, 7, 2, 4, 5, 6, 7, 9, 12, 13, 14, 15, 7, 5, 16, 2, 3, 4, 5, 7, 8, 9, 11, 12, 17, 18, 1, 4, 7, 14, 5, 17, 18, 1, 16, 18, 3, 4, 5, 6, 13, 19, 2, 3, 4, 5, 8, 1, 2, 3, 4, 5, 6, 7, 9, 11, 16, 2, 3, 4, 5, 6, 7, 8, 9, 2, 3, 4, 5, 7, 8, 12, 3, 4, 8, 2, 3, 10, 2, 3, 4, 7, 9, 12, 15, 18, 4, 6, 8, 1, 1, 2, 3, 5, 8, 16, 17, 11, 5, 8, 17, 3, 5, 13, 9, 10, 17, 1, 2, 3, 4, 5, 13, 13, 3, 1, 12, 15, 1, 3, 4, 5, 6, 10, 13, 16, 1, 3, 12, 7, 12, 1, 2, 3, 8, 10, 11, 13, 10, 7, 2, 3, 4, 5, 18, 7, 12, 13, 16, 13, 8, 1, 6, 19, 10, 1, 8, 10, 18, 1, 2, 3, 4, 5, 6, 7, 10, 1, 3, 8, 9, 11, 1, 2, 4, 5, 9, 10, 11, 13, 1, 3, 6, 9, 11, 18, 11, 1, 3, 4, 6, 7, 9, 10, 11, 17, 19, 16, 5, 11, 12, 12, 6, 10, 11, 10, 16, 1, 2, 3, 4, 5, 7, 9, 12, 13, 14, 14, 11, 13, 2, 4, 10, 14, 7, 13, 5, 14, 10, 5, 13, 1, 9, 10, 10, 1, 2, 3, 5, 7, 9, 10, 12, 13, 9, 3, 1, 5, 10, 11, 16, 5, 9, 11, 2, 13, 20, 19, 2, 14, 2, 13, 2, 4, 8, 12, 13, 1, 2, 3, 4, 5, 6, 7, 8, 9, 10, 11, 13, 16, 17, 18, 1, 2, 3, 5, 7, 9, 11, 13, 10, 16, 13, 2, 4, 14, 2, 3, 4, 5, 10, 16, 17, 7, 6, 15, 14, 2, 4, 8, 17, 8, 15, 5, 18, 1, 12, 13, 13, 11, 1, 2, 3, 4, 5, 6, 7, 10, 13, 15, 14, 5, 2, 2, 12, 2, 13, 12, 10, 15, 20, 8, 7, 12, 4, 8, 20, 15, 2, 4, 5, 6, 19, 19, 8, 1, 5, 15, 17, 20, 14, 1, 2, 3, 4, 5, 7, 8, 9, 15, 1, 2, 3, 4, 5, 6, 7, 8, 9, 10, 11, 12, 13, 15, 19, 17, 10, 15, 4, 5, 12, 13, 10, 9, 3, 17, 10, 1, 11, 18, 18, 2, 3, 4, 6, 7, 8, 9, 10, 17, 7, 1, 2, 3, 4, 5, 6, 7, 8, 9, 10, 12, 13, 15, 4, 12, 13, 16, 2, 12, 13, 4, 2, 3, 4, 5, 6, 8, 9, 12, 1, 2, 3, 4, 5, 6, 7, 9, 10, 13, 11, 15, 14, 17, 1, 9, 10, 11, 13, 16, 17, 19, 3, 17, 3, 8, 13, 17, 1, 11, 19, 5, 8, 20, 1, 5, 7, 16, 15, 1, 14, 3, 1, 2, 9, 10, 9, 18, 8, 12, 13, 2, 1, 2, 3, 4, 8, 10, 11, 3, 4, 6, 7, 8, 12, 12, 10, 2, 3, 2, 1, 2, 3, 5, 8, 1, 5, 14, 5, 2, 9, 19, 4, 7, 13, 19, 17, 4, 11, 1, 2, 10, 6, 18, 1, 2, 3, 4, 5, 6, 8, 9, 10, 13, 5, 17, 20, 13, 1, 6, 9, 10, 13, 15, 1, 2, 3, 4, 5, 6, 7, 8, 9, 10, 15, 17, 15, 3, 18, 18, 1, 2, 3, 4, 5, 6, 7, 8, 9, 10, 12, 13, 17, 13, 14, 1, 11, 1, 2, 3, 4, 5, 7, 9, 10, 13, 16, 16, 2, 3, 10, 1, 3, 4, 5, 6, 13, 16, 17, 6, 6, 1, 3, 5, 16, 1, 5, 16, 3, 7, 2, 8, 10, 4, 1, 2, 3, 5, 6, 7, 8, 14, 9, 2, 3, 4, 8, 1, 2, 3, 4, 5, 8, 10, 1, 2, 3, 5, 8, 10, 14, 2, 13, 13, 3, 10, 11, 6, 1, 2, 7, 9, 11, 19, 2, 15, 1, 16, 17, 2, 8, 2, 5, 11, 18, 5, 8, 16, 15, 12, 11, 11, 15, 14, 7, 12, 15, 3, 1, 2, 3, 4, 5, 6, 7, 8, 9, 10, 12, 13, 17, 14, 4, 8, 11, 3, 3, 1, 2, 3, 5, 7, 9, 10, 11, 16, 15, 13, 9, 7, 9, 6, 15, 15, 9, 5, 8, 1, 2, 3, 4, 5, 6, 7, 8, 9, 10, 11, 13, 15, 7, 14, 18, 3, 7, 16, 1, 3, 10, 19, 7, 11, 15, 5, 1, 2, 3, 4, 5, 6, 7, 9, 10, 11, 13, 20, 16, 17, 6, 18, 3, 5, 3, 5, 8, 1, 2, 10, 11, 6, 1, 3, 18, 3, 4, 9, 1, 4, 3, 4, 9, 12, 15, 14, 9, 11, 1, 2, 3, 4, 5, 11, 13, 14, 15, 16, 1, 2, 3, 4, 5, 6, 7, 8, 9, 10, 12, 13, 15, 16, 12, 1, 3, 4, 5, 6, 7, 11, 15, 16, 20, 1, 5, 20, 15, 10, 11, 13, 19, 8, 1, 2, 3, 4, 5, 6, 8, 9, 1, 2, 3, 4, 5, 6, 8, 10, 16, 2, 3, 4, 5, 6, 10, 13, 13, 13, 1, 5, 11, 1, 2, 3, 4, 5, 6, 10, 13, 14, 1, 2, 3, 4, 5, 6, 7, 8, 9, 10, 12, 13, 15, 17, 16, 1, 2, 3, 4, 5, 6, 8, 9, 10, 13, 1, 2, 3, 4, 5, 6, 7, 8, 9, 10, 13, 17, 5, 14, 12, 3, 4, 5, 7, 9, 12, 13, 17, 2, 1, 2, 3, 4, 5, 6, 7, 9, 10, 13, 15, 18, 1, 11, 14, 8, 1, 2, 3, 4, 5, 6, 7, 8, 13, 14, 8, 13, 5, 7, 18, 1, 12, 1, 2, 3, 4, 6, 7, 8, 9, 4, 1, 2, 5, 13, 1, 16, 12, 13, 9, 8, 4, 14, 2, 8, 2, 1, 2, 3, 4, 5, 10, 1, 2, 3, 4, 5, 1, 2, 3, 4, 5, 6, 7, 10, 9, 9, 9, 3, 5, 6, 4, 3, 5, 1, 2, 3, 4, 7, 9, 11, 13, 17, 16, 20, 15, 16, 6, 10, 15, 1, 2, 3, 4, 5, 6, 7, 8, 9, 12, 13, 6, 1, 2, 8, 10, 1, 2, 3, 4, 5, 6, 8, 9, 10, 11, 16, 16, 2, 3, 4, 5, 8, 10, 1, 2, 4, 5, 7, 8, 19, 7, 4, 4, 3, 4, 5, 13, 3, 5, 12, 18, 1, 2, 3, 4, 5, 6, 7, 8, 9, 10, 13, 16, 17, 16, 1, 2, 3, 4, 5, 6, 7, 9, 10, 12, 1, 3, 4, 5, 6, 7, 9, 1, 2, 3, 4, 5, 11, 20, 8, 1, 5, 13, 14, 15, 1, 2, 3, 4, 5, 11, 1, 11, 13, 17, 11, 1, 2, 3, 4, 9, 10, 12, 2, 1, 2, 1, 2, 3, 4, 6, 7, 9, 11, 12, 17, 1, 17, 10, 4, 11, 17, 8, 5, 19, 1, 5, 11, 13, 16, 9, 6, 1, 2, 3, 4, 5, 7, 9, 17, 14, 9, 2, 3, 4, 5, 13, 1, 1, 3, 5, 1, 3, 5, 14, 4, 7, 3, 4, 5, 15, 4, 6, 2, 5, 14, 1, 2, 3, 6, 7, 10, 13, 1, 2, 3, 4, 8, 10, 13, 18, 1, 2, 3, 4, 5, 6, 7, 8, 9, 10, 12, 2, 3, 4, 5, 7, 8, 12, 13, 15, 17, 3, 5, 11, 14, 2, 5, 7, 20, 1, 2, 5, 10, 14, 4, 4, 8, 13, 4, 5, 8, 10, 5, 11, 1, 2, 5, 18, 14, 12, 7, 3, 1, 2, 3, 4, 5, 6, 7, 8, 9, 10, 2, 4, 7, 15, 2, 3, 13, 13, 18, 4, 9, 13, 1, 2, 3, 6, 7, 9, 19, 2, 12, 11, 13, 1, 2, 3, 5, 6, 7, 9, 10, 11, 17, 19, 1, 2, 3, 4, 5, 6, 7, 8, 9, 10, 5, 14, 18, 3, 11, 17, 6, 1, 2, 5, 10, 11, 14, 16, 17, 1, 1, 2, 3, 4, 5, 6, 9, 10, 11, 13, 17, 8, 1, 2, 3, 4, 5, 7, 8, 9, 12, 13, 15, 17, 11, 3, 4, 5, 8, 10, 14, 3, 4, 5, 2, 3, 4, 18, 20, 1, 1, 3, 5, 17, 4, 19, 1, 3, 5, 8, 11, 10, 19, 2, 3, 7, 10, 14, 6, 1, 2, 3, 4, 5, 7, 9, 10, 12, 14, 16, 1, 2, 3, 4, 5, 11, 3, 10, 1, 1, 11, 3, 5, 8, 1, 2, 3, 4, 8, 9, 4, 9, 4, 9, 1, 19, 1, 2, 4, 6, 7, 9, 17, 1, 2, 3, 6, 16, 15, 18, 15, 5, 15, 1, 2, 1, 2, 9, 10, 16, 1, 2, 3, 11, 13, 11, 4, 13, 1, 3, 5, 9, 13, 16, 1, 3, 4, 6, 7, 10, 11, 1, 3, 5, 14, 1, 2, 3, 5, 6, 7, 11, 13, 2, 3, 4, 5, 7, 8, 9, 10, 13, 2, 10, 18, 7, 1, 2, 3, 4, 5, 6, 7, 8, 9, 10, 15, 2, 3, 4, 5, 8, 16, 10, 12, 20, 20, 1, 2, 5, 9, 11, 14, 15, 1, 3, 5, 17, 3, 4, 9, 10, 1, 2, 3, 4, 8, 13, 7, 3, 9, 4, 7, 14, 7, 6, 1, 2, 3, 5, 6, 7, 8, 10, 13, 17, 9, 17, 1, 2, 9, 8, 13, 13, 7, 4, 6, 8, 9, 10, 19, 2, 3, 4, 5, 7, 9, 10, 13, 18, 16, 18, 1, 6, 10, 1, 2, 3, 4, 5, 6, 7, 8, 9, 10, 11, 15, 3, 5, 11, 1, 5, 16, 1, 2, 3, 4, 5, 13, 16, 5, 7, 12, 10, 2, 3, 4, 5, 7, 12, 13, 3, 7, 8, 1, 9, 12, 1, 2, 5, 6, 9, 10, 20, 6, 17, 20, 4, 14, 5, 14, 19, 19, 1, 5, 11, 9, 2, 4, 4, 4, 6, 10, 19, 1, 3, 4, 11, 13, 2, 3, 4, 5, 8, 9, 10, 13, 19, 16, 13, 11, 8, 1, 2, 4, 6, 16, 13, 2, 1, 2, 3, 4, 6, 7, 8, 9, 10, 17, 2, 4, 5, 4, 5, 8, 16, 16, 4, 2, 4, 5, 7, 10, 17, 18, 18, 18, 1, 2, 3, 4, 5, 6, 7, 8, 9, 13, 9, 3, 4, 6, 1, 2, 3, 4, 5, 6, 7, 10, 19, 2, 3, 4, 5, 7, 13, 15, 18, 8, 3, 4, 8, 12, 2, 1, 2, 4, 5, 10, 11, 16, 17, 20, 8, 12, 5, 1, 10, 13, 1, 2, 3, 5, 10, 13, 16, 1, 1, 2, 5, 9, 10, 11, 15, 16, 17, 19, 1, 5, 14, 19, 1, 2, 3, 4, 5, 6, 9, 10, 14, 14, 1, 2, 3, 5, 6, 8, 11, 13, 3, 4, 5, 8, 16, 1, 9, 10, 16, 1, 12, 2, 3, 4, 5, 6, 7, 12, 15, 9, 2, 10, 19, 6, 16, 1, 5, 16, 17, 20, 7, 19, 1, 2, 4, 5, 7, 13, 14, 4, 1, 2, 3, 4, 5, 7, 9, 16, 2, 3, 5, 6, 8, 10, 20, 3, 5, 2, 2, 10, 16, 20, 3, 4, 8, 1, 2, 3, 8, 10, 15, 17, 20, 1, 2, 3, 6, 11, 16, 20, 3, 4, 5, 6, 7, 8, 10, 12, 13, 18, 16, 17, 1, 2, 3, 6, 7, 9, 10, 11, 1, 2, 3, 4, 6, 7, 9, 12, 13, 14, 18, 7, 15, 6, 20, 19, 3, 5, 1, 2, 3, 4, 5, 6, 7, 8, 9, 10, 11, 15, 16, 17, 13, 1, 2, 3, 5, 6, 7, 10, 10, 4, 1, 10, 11, 13, 4, 19, 6, 2, 10, 11, 2, 3, 4, 5, 9, 10, 15, 1, 2, 6, 7, 9, 11, 9, 1, 2, 3, 4, 6, 7, 8, 9, 10, 12, 18, 1, 3, 5, 14, 10, 11, 17, 1, 2, 14, 1, 2, 3, 4, 6, 9, 14, 14, 10, 2, 16, 1, 2, 3, 4, 5, 9, 10, 11, 1, 2, 3, 17, 2, 10, 7, 4, 7, 13, 15, 1, 3, 4, 5, 8, 11, 1, 2, 3, 5, 6, 7, 8, 9, 11, 10, 3, 5, 7, 1, 2, 3, 4, 5, 13, 14, 16, 17, 1, 5, 10, 8, 17, 13, 5, 6, 11, 1, 2, 3, 5, 6, 11, 6, 4, 3, 1, 2, 3, 4, 5, 6, 7, 8, 9, 10, 11, 13, 14, 17, 3, 1, 2, 3, 15, 19, 6, 2, 3, 4, 5, 7, 9, 10, 12, 1, 9, 11, 19, 18, 1, 2, 3, 4, 5, 6, 8, 9, 10, 11, 13, 15, 17, 1, 2, 9, 10, 15, 3, 3, 20, 12, 5, 5, 16, 5, 18, 3, 13, 7, 1, 3, 17, 1, 2, 3, 4, 5, 6, 7, 9, 10, 11, 13, 5, 13, 1, 2, 3, 5, 6, 7, 9, 10, 11, 13, 17, 16, 1, 2, 18, 6, 1, 6, 1, 2, 3, 4, 5, 6, 7, 8, 9, 10, 12, 13, 5, 8, 16, 1, 2, 4, 5, 6, 9, 10, 11, 14, 11, 18, 5, 20, 1, 2, 4, 5, 6, 11, 2, 1, 2, 3, 4, 6, 7, 8, 9, 10, 13, 19, 2, 4, 5, 6, 5, 16, 1, 13, 5, 8, 14, 1, 2, 3, 4, 5, 6, 10, 11, 16, 5, 12, 15, 17, 7, 8, 9, 2, 6, 8, 1, 2, 4, 5, 6, 8, 11, 13, 17, 1, 2, 3, 4, 6, 7, 9, 10, 13, 16, 17, 6, 10, 17, 4, 5, 9], \"Freq\": [0.6980094624196747, 0.3019374620221567, 0.9926359695541646, 0.985816202120689, 0.25121766723686567, 0.7476237776969122, 0.9934243553732119, 0.30211029842388226, 0.6965320769217285, 0.9834255215594457, 0.9901707299948947, 0.9888568208697287, 0.9931799671110921, 0.24031339881603384, 0.07662166339061949, 0.0017414014406958974, 0.6791465618714, 0.9992518066703046, 0.27382142322538294, 0.2528431690266641, 0.23296903346998307, 0.028707084692983696, 0.20978254198718854, 0.12597034593945214, 0.013996705104383571, 0.24939583640538, 0.025448554735242858, 0.03817283210286428, 0.011451849630859285, 0.5115159501783814, 0.02290369926171857, 0.11258119176704245, 0.00433004583719394, 0.17753187932495157, 0.7036324485440153, 0.9787407402271657, 0.9881612158283417, 0.994399378272413, 0.11090811642020601, 0.001274805935864437, 0.25751079904461627, 0.6284793263811674, 0.9779417762122539, 0.9902008578241891, 0.9852129303451627, 0.9693615898710473, 0.984799430061422, 0.07114513788014867, 0.07114513788014867, 0.11003781325462995, 0.017074833091235683, 0.32157602321827206, 0.4088473923512544, 0.9769204769341121, 0.9964952658958155, 0.3187445217229933, 0.5488694903212081, 0.13292932968716759, 0.10867851886303743, 0.005366840437680861, 0.885528672217342, 0.9974798704756143, 0.995370691939052, 0.9946968991405093, 0.9874656940642831, 0.9971563044987518, 0.9893643097390195, 0.9913293652870161, 0.9941507523793417, 0.9976735236489017, 0.12452926207309152, 0.27231398875019414, 0.49211563807197617, 0.0510119868733146, 0.05926392592635079, 0.0062888803129554915, 0.1630916294493124, 0.0779821158806481, 0.42974015471862526, 0.21214489589036525, 0.10062208500728786, 0.003773328187773295, 0.005869621625425126, 0.004805766591466058, 0.9082898857870849, 0.08169803205492299, 0.009205404752884123, 0.9849783085586012, 0.9992067840020465, 0.9939959723159837, 0.9993377228276771, 0.999120946493827, 0.05722524625975599, 0.9424647700331241, 0.0385079465220147, 0.9306087076153552, 0.02353263398567565, 0.00641799108700245, 0.9939732152271907, 0.9922477287627214, 0.9932686416659859, 0.9886488058257658, 0.9672529234752404, 0.02985348529244569, 0.99245889052375, 0.501353393943932, 0.4973264590528161, 0.991138853183924, 0.4003676637578164, 0.23701765694462731, 0.1432172328642246, 0.21780000908425212, 0.0009151260885892946, 0.40850998556488877, 0.0561525753353799, 0.08095329610850602, 0.0023396906389741624, 0.0603640184855334, 0.35469710086848305, 0.036499173967996935, 0.9958327259216369, 0.9935919530279805, 0.998000370267334, 0.9088309100467333, 0.08948488960460144, 0.9936833921406287, 0.08307655056890575, 0.04566781142384293, 0.2390272683035183, 0.017975627900874345, 0.2565170684232879, 0.29829825759829315, 0.005344105592151832, 0.05392688370262303, 0.9930169337451775, 0.15276573181187603, 0.01987196511373997, 0.24591556828253217, 0.5787709839376767, 0.9958927828964775, 0.9922593869757274, 0.15189268791130145, 0.8432663018523976, 0.9938786807772976, 0.9895344635112668, 0.0057867512486039, 0.9875805646498671, 0.5785887643090752, 0.4207918285884184, 0.9940251606972984, 0.2385574400935027, 0.0019316391910405076, 0.004829097977601269, 0.6229536391105637, 0.07147065006849879, 0.059880814922255735, 0.9920734675812252, 0.9904311093113353, 0.9942748714024079, 0.9924913295510399, 0.9972051999362154, 0.9960626435176185, 0.04418084515212381, 0.9552760787160429, 0.9937704392407188, 0.06376768487910192, 0.08863708198195167, 0.1925784083348878, 0.09373849677227981, 0.21744780543773753, 0.0631300080303109, 0.003188384243955096, 0.0006376768487910191, 0.006376768487910192, 0.2703749838873921, 0.05725720910246651, 0.08179601300352358, 0.8588581365369977, 0.985441175665413, 0.9960003634848668, 0.9947642810131507, 0.9528890815940348, 0.041680881765553346, 0.003206221674273334, 0.0019237330045640004, 0.9956030927117764, 0.3346662524340628, 0.05898078508243879, 0.012591403556925135, 0.0006627054503644808, 0.027833628915308193, 0.07422301044082184, 0.00795246540437377, 0.11597345381378414, 0.3651507031508289, 0.0013254109007289616, 0.18757737579600509, 0.09659300082518535, 0.061071703747536545, 0.41129922932014407, 0.24304045368917604, 0.032049893173294895, 0.38726954251064666, 0.04273319089772653, 0.32744307525382954, 0.07531724895724301, 0.020298265676420103, 0.11431128565141847, 0.9887289578970515, 0.9966902669692117, 0.998050023464614, 0.9777765574636782, 0.1974464789246366, 0.8002883879817718, 0.9963427518852367, 0.997799661504995, 0.013972714659757803, 0.03726057242602081, 0.9478158110869043, 0.9924248311742938, 0.9676065934672171, 0.031592318541450524, 0.9950708664061275, 0.9979646072602746, 0.9969593833901108, 0.9984662695826407, 0.9849357000342862, 0.9964189956123115, 0.8807797115362598, 0.11531099287522063, 0.9859178081455806, 0.013494170171368084, 0.987301427561641, 0.9972149779595678, 0.00016900241452303373, 0.18657866563342926, 0.003211045875937641, 0.0006760096580921349, 0.0018590265597533712, 0.1341879171312888, 0.2273082475334804, 0.1277658253794135, 0.0726710382449045, 0.05222174608761743, 0.1928317549707815, 0.00033800482904606746, 0.9891428850421566, 0.001716765454055321, 0.3673878071678387, 0.06999120697302462, 0.15781036289200837, 0.05216325802706552, 0.07117973690275524, 0.009772357200007211, 0.12334299492982076, 0.03341089691353817, 0.10327004500548162, 0.007395297340545998, 0.001452647691892964, 0.00026411776216235706, 0.0007923532864870712, 0.9976229795810213, 0.26237359738141275, 0.297999405332563, 0.4015238119670821, 0.007125161590230058, 0.03017715497038613, 0.21892942154566458, 0.5035376695550285, 0.02441905086470874, 0.25261087101422836, 0.9856854723687359, 0.12179558052228862, 0.8755160570877559, 0.5956657177015556, 0.056689777110801455, 0.009307276839086807, 0.16922321525612374, 0.16837709917984314, 0.19053152328021972, 0.7216592209197703, 0.08261986407726342, 0.005058359025138577, 0.9983115123815767, 0.9998241069217028, 0.9073195348784043, 0.09073195348784044, 0.16898857352885624, 0.08671782062664991, 0.2282828098547707, 0.00889413544888717, 0.0007411779540739308, 0.021494160668143993, 0.005929423632591447, 0.47880095833175934, 0.9905331007413207, 0.12985222707507477, 0.7366162699531514, 0.12985222707507477, 0.9943663158148491, 0.9911031263838438, 0.6462402012349268, 0.063835251214804, 0.002017780929203575, 0.05264573878922055, 0.23076076444891794, 0.002017780929203575, 0.0022012155591311726, 0.7720142035612755, 0.00032533257630057964, 0.1421703358433533, 0.08491180241445129, 0.44662884630039074, 0.19313679840016895, 0.02853157249093405, 0.3314051881639263, 0.9876233048649036, 0.9973800901581807, 0.9624061206567378, 0.028099448778298914, 0.9882963326666533, 0.9990739484083707, 0.1641413206781163, 0.48011336298349017, 0.2671026945580256, 0.08841248409253083, 0.9897404379813338, 0.9943716115804502, 0.16861609387038948, 0.7122949093627351, 0.008646979172840486, 0.10916811205711113, 0.4037783549486032, 0.16576545384521613, 0.009729598914424174, 0.02349594631462008, 0.0006210382285802664, 0.22181415397458515, 0.04854448820069083, 0.042489365472033226, 0.057187270215099534, 0.023858218614625237, 0.0001035063714300444, 0.0010868169000154662, 0.0013455828285905773, 0.0001035063714300444, 0.9967319551732959, 0.9812836338388234, 0.9970871012550587, 0.001365872741445286, 0.9910332880378574, 0.9977275425362486, 0.9899258969376543, 0.996835498060271, 0.9946611585094286, 0.826276071082114, 0.1721408481421071, 0.9948829092093562, 0.9992154321374297, 0.9939140954332913, 0.2498957716193038, 0.03307397559119785, 0.04788062400445747, 0.11941712066062216, 0.010097596943514298, 0.1288352236001128, 0.16486420799950655, 0.23226053188696896, 0.0004424612119223793, 9.481311684050984e-05, 0.010097596943514298, 0.0028918000636355503, 7.901093070042487e-05, 4.740655842025492e-05, 0.9967589709148914, 0.9989375407515227, 0.19140838133587812, 0.8058292854240469, 0.12718186189588407, 0.06251615465023033, 0.04979796846064193, 0.04872319216293024, 0.0034034582760870385, 0.5549428283851392, 0.0019704232124714434, 0.05624662624691211, 0.04137888746190031, 0.04979796846064193, 0.0003582587659038988, 0.003582587659038988, 0.9935150529567927, 0.9958590804022709, 0.987865437501618, 0.9923992115263548, 0.13752988674256414, 0.8620176829757145, 0.9910318647394534, 0.9921828915940413, 0.989715976474644, 0.8710094235809593, 0.12492565437814557, 0.6717135421547987, 0.1480873419668005, 0.06628460366478046, 0.007315692043270085, 0.05032309375219119, 0.04611102863636902, 0.0004433752753497021, 0.009310880782343744, 0.00022168763767485105, 0.9954294774599228, 0.8193408482114813, 0.17913903849785076, 0.9953232965132831, 0.15399025690962753, 0.005565912900347984, 0.8398344131858402, 0.9942629232774896, 0.9906831100023304, 0.3463748310689954, 0.6533345951542776, 0.8840847739034478, 0.05625029173695406, 0.028655808998070936, 0.0007075508394585416, 0.030070910676988017, 0.9984898163350878, 0.03717099415412928, 0.2223376131811807, 0.005506813948759894, 0.0013767034871899734, 0.23472794456589047, 0.07021187784668864, 0.37652840374645774, 0.0034417587179749335, 0.006883517435949867, 0.04061275287210422, 0.997393779670494, 0.8293968396677178, 0.16883396227332678, 0.07597390737495036, 0.02637110834502409, 0.027626875409072854, 0.24424669395748502, 0.1632497183263396, 0.03830089545348737, 0.030138409537170386, 0.36793974976628846, 0.02637110834502409, 0.9971113232963476, 0.9926781844011445, 0.40120604050721925, 0.004408857587991421, 0.0022044287939957104, 0.5896847023938525, 0.9937031779395064, 0.9946307737638679, 0.9955114493917547, 0.9981106093161286, 0.9990276472722525, 0.9945227108133733, 0.01110992506129747, 0.14196015356102323, 0.146897898032711, 0.6246246756685022, 0.07406616707531646, 0.994392185290086, 0.750240673529072, 0.036087526068487, 0.13295404341021527, 0.058879647795952485, 0.020892778250176686, 0.34081155240406075, 0.03657409826087851, 0.09315734444923317, 0.03870622058101941, 0.10266989018524642, 0.16138525869374196, 0.11382253001367573, 0.025749477250932407, 0.08594093044260243, 0.001148065864691254, 0.16505083625844075, 0.240308849660039, 0.3375305751273397, 0.017118775580621057, 0.003229957656720954, 0.22060610795404118, 0.0003229957656720954, 0.015180800986588484, 0.21972426994617972, 0.22453894518404421, 0.430694584914424, 0.010358846723890279, 0.0030638842422774067, 0.11102932897014792, 0.0002917984992645149, 0.9368613170078764, 0.052657310557819755, 0.008776218426303292, 0.772567828200732, 0.2257934626833085, 0.0011068306994279828, 0.05962799357003592, 0.12969088601482812, 0.11677148740798701, 0.21068557728079357, 0.2588848720832393, 0.2116793771736275, 0.008944199035505388, 0.003478299624918762, 0.9881918240806122, 0.8122492371388617, 0.1861404501776558, 0.9978263055637339, 0.21483276821243505, 0.14898364385613314, 0.028808991905882098, 0.1432218454749567, 0.2658658395885691, 0.19837048712335958, 0.9926574290431364, 0.9876121792364667, 0.9876867930350072, 0.9746032990858884, 0.9903585888663528, 0.006577817669892209, 0.9241833826198554, 0.06742263111639515, 0.9424164421967889, 0.053499623356149585, 0.9890415673339108, 0.05958278546988277, 0.0005203736722260504, 0.021595507397381093, 0.07675511665334243, 0.8312969413811155, 0.010147286608407984, 0.9932180899074161, 0.9930103022236857, 0.9975224912449124, 0.9988991798680404, 0.9939333951952242, 0.10982744085340537, 0.2760011339707318, 0.1432531837218331, 0.08308684655866319, 0.06398642206241878, 0.0009550212248122206, 0.022920509395493296, 0.2998766645910373, 0.996119908744013, 0.997083260231453, 0.9974309319780496, 0.7807580630564314, 0.21740898778629175, 0.8430118627511004, 0.008142016505025487, 0.08142016505025487, 0.015657724048125935, 0.050104716954002995, 0.001252617923850075, 0.9961416627716354, 0.9942894861172095, 0.9865365217324147, 0.16260943710224116, 0.03238110002901772, 0.1428992023019695, 0.6617007397234056, 0.9970720653487579, 0.9982148465249722, 0.9937005138616157, 0.9988223278575303, 0.9931535552744849, 0.9954839468939635, 0.9820488437869574, 0.19401475321596962, 0.8025155701206015, 0.9966141343958482, 0.9932159919033378, 0.2919435050257575, 0.5376626217557701, 0.04135866321198231, 0.12650885217782826, 0.31139026448248847, 0.2188418704249248, 0.05278933668265362, 0.0006682194516791597, 0.013030279307743616, 0.32442054379023205, 0.04677536161754118, 0.03174042395476009, 0.0037110387518652747, 0.0006185064586442125, 0.10205356567629506, 0.001237012917288425, 0.8918863133649544, 0.6802802613802965, 0.01492832418441069, 0.0008679258246750401, 0.0017358516493500803, 0.03870949178050679, 0.016317005503890755, 0.2464909342077114, 0.00034717032987001607, 0.6289147654842108, 0.0003421734306225303, 0.10025681517240138, 0.026689527588557364, 0.23302010625394315, 0.010265202918675909, 0.9951146850488678, 0.07132345159733768, 0.07488962417720456, 0.061338168373710394, 0.16261746964192988, 0.16903658028569027, 0.318102594124126, 0.05634552676189676, 0.06276463740565714, 0.02353673902712143, 0.9890236519620172, 0.9893100712018029, 0.20125134500426836, 0.6531841899261341, 0.14122901403808305, 0.9929878030292834, 0.9934429255800306, 0.9979904617829181, 0.9855941978455864, 0.007861330231974462, 0.9826662789968077, 0.06402825919118348, 0.05280055497282429, 0.07555941487490372, 0.09437340572728939, 0.18813990852385667, 0.17357423818652584, 0.08102154125140279, 0.027614083347856384, 0.19481584076179997, 0.047945331527047344, 0.9902620880771109, 0.9823110799946652, 0.9913312785847828, 0.002814281369200759, 0.01688568821520455, 0.9793699164818641, 0.982099722604314, 0.989425557061791, 0.9877760489968813, 0.9876344524997126, 0.9900126981317725, 0.9918557552962866, 0.8590038762589295, 0.1394963559736723, 0.00160978291189137, 0.247906568431271, 0.7501588369413785, 0.9978197574994876, 0.7311916295060663, 0.10190667683676258, 0.03445523104502876, 0.00044892809179190564, 0.09124463465670482, 0.033332910815549, 0.00011223202294797641, 0.006621689353930608, 0.00044892809179190564, 0.9867226598094382, 0.9942780434892677, 0.16523950189260378, 0.34255419815428245, 0.0003177682728703919, 0.49126974985762584, 0.0003177682728703919, 0.28701700097539196, 0.001594538894307733, 0.7103670774140951, 0.23399971810531744, 0.22123609711775466, 0.5403266218068239, 0.9863791961048091, 0.01285779483002859, 0.9771924070821729, 0.9934286651198627, 0.9951279182457973, 0.13728500020380677, 0.2768205741814464, 0.13390913954305741, 0.16991831992438378, 0.28132172172911224, 0.06857371418471014, 0.1232248863985852, 0.060291434419543856, 0.1601240754598816, 0.022412620869894442, 0.16997969152452394, 0.05827281426172554, 0.31065970517012625, 0.005996489292342619, 0.014160026695284302, 0.0018998777955937008, 0.003918497953412008, 2.9685590556151576e-05, 0.0004155982677861221, 2.9685590556151576e-05, 0.12985312019496115, 0.02723262367260055, 0.21620046354710926, 0.4719214419361632, 0.08501892268519196, 0.0006642103334780622, 0.06708524368128428, 0.0016605258336951556, 0.9942045721111581, 0.9954009910120782, 0.9861292500217166, 0.9953138505540262, 0.9886543381651125, 0.9976974022405024, 0.13435920301596227, 0.4758134181993852, 0.2367281195995526, 0.0942871600112016, 0.017510472573508868, 0.013469594287314514, 0.02727592843181189, 0.99137837655487, 0.9956850034149219, 0.9886967232177852, 0.9863906578054534, 0.7890665929503383, 0.010514792374193385, 0.1997810551096743, 0.9938080787323574, 0.7436634304812417, 0.25382524273910645, 0.9900021281864428, 0.995797144114006, 0.9982564844391673, 0.9923127597091445, 0.9859745564100617, 0.9891652423515305, 0.990164716608467, 0.483714664231791, 0.14805590736283872, 0.003813066046872226, 0.23477592374313278, 0.09924866196287423, 0.0008715579535707946, 0.00010894474419634933, 0.0021788948839269865, 0.001307336930356192, 0.02571095963033844, 0.9967096783179867, 0.9945274645404665, 0.99522773481205, 0.9936691295073963, 0.9916892341037631, 0.004848821333959213, 0.9891595521276795, 0.9933699724220114, 0.9978309312252891, 0.9940534524280855, 0.9965230102712018, 0.9822422459526465, 0.8960355466594221, 0.09955950518438023, 0.2642840378344002, 0.7323803421343124, 0.9931083554899973, 0.9984308924549099, 0.341604129735218, 0.573826216252621, 0.0796026387815512, 0.004867787263620038, 0.9967892351079609, 0.9912911746397592, 0.9833072877555618, 0.2787719976994868, 0.24621468409954672, 0.40798383604924887, 0.06613204324987824, 0.9936382366640064, 0.991926478957228, 0.13294354815298257, 0.444444706435191, 0.13957123237175295, 0.1009747183918548, 0.037816786424748706, 0.13021450170995946, 0.007797275551494579, 0.0054580928860462055, 0.9968948007363098, 0.23053087906774078, 0.06958617275563286, 0.0038421813177956796, 0.06403635529659465, 0.012807271059318932, 0.05805962880224583, 0.02049163369491029, 0.15923707017086539, 0.11739998471042354, 0.005976726494348835, 0.0687323546850116, 0.07385526310873917, 0.005549817459038204, 0.1071541678629684, 0.0034152722824850484, 0.9964178880102526, 0.9969588197666674, 0.9933775192663351, 0.6970331663690774, 0.18079077060839294, 0.00847456737226842, 0.11299423163024559, 0.99762503255148, 0.9936097337017642, 0.11029675111258427, 0.8872760867279001, 0.9898982448097653, 0.9504312094694372, 0.048991299457187484, 0.9977613181638614, 0.9953912594508426, 0.1141810861725806, 0.2911181891728391, 0.0453237899311007, 0.13248492441398665, 0.026148340344865788, 0.04270895589661412, 0.2327202290693055, 0.11461689184499503, 0.994685314141205, 0.9984166297190553, 0.06984820127372787, 0.31683920188888226, 0.08808634271742348, 0.1785009588106379, 0.0252229615710684, 0.07295256577478244, 0.07625095305715293, 0.0040744784076341255, 0.10399621078532817, 0.027551234946859328, 0.032207781698441185, 0.00019402278131591075, 0.004268501188950036, 0.01280018078642348, 0.24604791956125133, 0.19532127718542494, 0.5451928853476667, 0.19559899715074755, 0.2622316225537495, 0.5373598822822735, 0.9939276690054151, 0.009471695885857393, 0.5244328458906304, 0.2061340130948438, 0.053340603146670586, 0.03788678354342957, 0.016450840222804946, 0.12412906713571005, 0.028165832502681197, 0.012106587027681403, 0.02633182678520705, 0.09034540569407247, 0.4082946475085553, 0.11365058572235917, 0.198548027253975, 0.11183459766820696, 0.026180494447361032, 0.0027239820812283155, 0.009987934297837156, 0.9860342114517476, 0.9925796353422072, 0.9935169630907951, 0.9851477401943209, 0.28983757543567445, 0.20279926449403046, 0.057445285221485023, 0.19322505029044962, 0.08529754472281109, 0.007833447984747959, 0.1618912583514578, 0.9877239686014041, 0.17564778601356476, 0.8240497194891709, 0.5881195027874161, 0.029348802148173068, 0.00038115327465159825, 0.38191558120090147, 0.9555768668642276, 0.04404612120702299, 0.9977841034019539, 0.9930951309228994, 0.9795477387244373, 0.9845823196522084, 0.16434531903687186, 0.7860667618084343, 0.0465128261425109, 0.0015504275380836966, 0.9905747691788158, 0.997202163291378, 0.9917773413853073, 0.9988847029300788, 0.15537382363210575, 0.0004885969296607098, 0.07109085326563329, 0.7727160442584127, 0.9921106938937764, 0.006570269495985274, 0.980349278194185, 0.023186828338883907, 0.9761654730670125, 0.9953107925931843, 0.21430652744403586, 0.6397209774448832, 0.013936778437192097, 0.0004569435553177737, 0.12954349793258885, 0.0009138871106355474, 0.0009138871106355474, 0.0022546158243798064, 0.21672494611850887, 0.10596694374585089, 0.044951402998572386, 0.6300242094251322, 0.9961373168880981, 0.9901743761068283, 0.9910608589885743, 0.9942780149665709, 0.00522616565028421, 0.9873018631956798, 0.051723066889748794, 0.7994971493171854, 0.10410925002167386, 0.009836224258947954, 0.03470308334055795, 0.9983442849081239, 0.9968610992098502, 0.9995371758010423, 0.9914210082301047, 0.9934291406321741, 0.9148745356449012, 0.08033044703223523, 0.9962180693694618, 0.9925161409660774, 0.004315287569417728, 0.9938231223251008, 0.995733207344722, 0.17162928743039202, 0.8245667939590573, 0.14723475115489681, 0.0019896587993904974, 0.8495843073397423, 0.9864675530592782, 0.9976576890022012, 0.11094553610240633, 0.38257081414622873, 0.1136068982877714, 0.19170124491457766, 0.059381643760958114, 0.0761814925560751, 0.05647077887071507, 0.004657383824388872, 0.004407881119510896, 8.316756829265841e-05, 0.22187786744891444, 0.7743084761992729, 0.9949487119318089, 0.9912152763323954, 0.0642345645906282, 0.2860445454426412, 0.08129687081001381, 0.0010036650717285655, 0.5670707655266396, 0.9915612748160741, 0.03422280211109354, 0.19993842564758993, 0.09459558904802991, 0.18096978135157135, 0.009459558904802991, 0.039324030211589395, 0.04997222479029433, 0.3496569940728226, 0.0015353210787900143, 0.0401164539941907, 9.905297282516221e-05, 0.00014857945923774332, 0.9956479037995742, 0.9936262027798445, 0.9957450252103942, 0.9992619253037266, 0.0010491467119933472, 0.08346544953191519, 0.01608691625056466, 0.3820059750224666, 0.10701296462332142, 0.0058285928444074845, 0.0978037879291576, 0.28198732181243413, 0.001165718568881497, 0.0027977245653155926, 0.019467500100321, 0.0012822904257696467, 0.0001165718568881497, 0.18280522893561568, 0.8152125074155835, 0.5618785121009263, 0.4372117172285333, 0.11462630498374474, 0.15756193124913367, 0.06538820146839047, 0.01693790760928187, 0.4210842612633097, 0.12998859328053528, 0.01418057381242203, 0.020483051062387375, 0.05199543731221411, 0.008272001390579518, 0.9922678696628082, 0.11424064040309875, 0.34356192591814255, 0.5409630324970265, 0.24030002755911886, 0.11990826324881586, 0.10733723565014967, 0.07542616559199707, 0.005318511676358767, 0.21854247979219663, 0.12764428023261043, 0.10540323140420103, 0.9930170186680222, 0.9904768740463685, 0.044258591773173026, 0.26172673406604785, 0.34915111287725387, 0.34477989393669356, 0.44037755596478273, 0.0021274278065931533, 0.555258657520813, 0.9954268684966404, 0.9942277265706418, 0.019603135211500554, 0.09801567605750278, 0.8821410845175249, 0.9949090193485448, 0.08691735435380546, 0.23546053781912052, 0.13607553017685936, 0.2425849111268095, 0.011042778626917906, 0.28105652698832995, 0.0003562186653844486, 0.006768154642304523, 0.9974837258545798, 0.1357411691528308, 0.015425132858276227, 0.17276148801269375, 0.674592477001947, 0.04063108720094639, 0.7261555880050911, 0.011208575779571418, 0.11708958626873713, 0.08886799368088766, 0.016212404252594372, 0.00020015313892091815, 0.035782455243189466, 0.40553449275614734, 0.01722858956153567, 0.10072098512897777, 0.07156491048637893, 0.0092769328408269, 0.3578245524318947, 0.9785946852221356, 0.9962530361283448, 0.9959711548251436, 0.1436234202071913, 0.12949652641632, 0.7267502027970444, 0.9869422635007646, 0.0618856164588146, 0.0005289368928103812, 0.6027235893574294, 0.30837020850845226, 0.02618237619411387, 0.9945993176847266, 0.35563506493616914, 0.6406475637857231, 0.9966128687268988, 0.9983300186396318, 0.9894436468858838, 0.9966667269722025, 0.0012037037765364764, 0.7365912611565848, 0.0010832224428773305, 0.262139831176314, 0.9988333563142107, 0.001861239725872983, 0.7389121711715743, 0.25871232189634463, 0.9911283839161124, 0.9941870109712141, 0.9886942511204372, 0.9884334429328293, 0.9931441383903786, 0.9784745430365959, 0.9831602130224698, 0.998202087571944, 0.9910128041757675, 0.9881331229575665, 0.011821361033275447, 0.03389739669782598, 0.12989254532948444, 0.46673012175956197, 0.2068026050640476, 0.0005697041461819493, 0.05198550333910287, 0.0009969822558184114, 0.02079420133564115, 0.006266745608001442, 0.006124319571455955, 0.05739769272783139, 0.006551597681092417, 0.9843419411038808, 0.985498819655243, 0.07178438910355463, 0.9188401805254992, 0.9896272241704651, 0.996268160251605, 0.6371330502015653, 0.1121289071746816, 0.07176901025259011, 0.041173604521327206, 0.0009764491190828587, 0.017087859583950028, 0.005370470154955722, 0.11147794109529303, 0.002929347357248576, 0.9906026092644171, 0.9954085193866083, 0.9881495169147804, 0.8559664133376887, 0.14167719944899676, 0.8145306680811134, 0.184557389164896, 0.9936853895073288, 0.9977509671910949, 0.0073957847071406515, 0.9910351507568472, 0.23282263721107904, 0.12033436765397026, 0.0872981651408693, 0.09060178539217939, 0.03278843099425271, 0.3495230225886082, 0.03179734491885968, 0.023538294290584436, 0.005450973414661659, 0.022051665177494892, 0.001404038606806791, 0.0018995816445033053, 0.00024777151884825726, 0.9938052948178523, 0.9989953329576763, 0.9988868555996372, 0.20978996055006277, 0.33197532218911036, 0.4564660680100267, 0.10074579506592099, 0.705220565461447, 0.1686772454532277, 0.024754681073340584, 0.9862780154606821, 0.33360903497115446, 0.6631986839788011, 0.9904215148552231, 0.30890894190689056, 0.07215919814856273, 0.0007240053325942748, 0.010377409767184605, 0.04150963906873842, 0.44960731154104466, 0.00024133511086475826, 0.061781788381378114, 0.028236207971176718, 0.007240053325942748, 0.01930680886918066, 0.9940298513595879, 0.9870136314916612, 0.98815684990049, 0.005541707053281657, 0.9919655625374165, 0.23786954763735238, 0.7607893796335155, 0.6577987761975986, 0.1338308237639997, 0.2068294549079996, 0.6300423849193275, 0.0006818640529429952, 0.003409320264714976, 0.36479726832450243, 0.990964077180885, 0.999243482946557, 0.3356965502348023, 0.6625589807265836, 0.9695572103810907, 0.02866970245750537, 0.9974611036862019, 0.9964637031696488, 0.9844854485591006, 0.98786568199491, 0.0938940754936434, 0.1772199866460109, 0.7283904038294761, 0.9968510426117424, 0.9910240517157904, 0.9869559479000487, 0.9808696607481604, 0.5444595524474299, 0.00042635830262132334, 0.06352738709057718, 0.000639537453931985, 0.28736549596677197, 0.030910976940045944, 0.07141501568907166, 0.000639537453931985, 0.00042635830262132334, 0.00042635830262132334, 0.0793015349632682, 0.10273981405654654, 0.13947597688409422, 0.1484019536372339, 0.10049313963568826, 0.2521133025784759, 0.10960127917970834, 0.0012751395361628119, 0.014390860479551734, 0.03533958143079793, 0.003157488375260296, 0.013115720943388922, 6.072093029346723e-05, 0.0004857674423477378, 0.9984020032781925, 0.20014768327353602, 0.007482156384057421, 0.1165969369848948, 0.21324145694563648, 0.13218476278501443, 0.19890065720952643, 0.018705390960143554, 0.10100911118477518, 0.011846747608090916, 0.9830002235114469, 0.12126560479828982, 0.24253120959657964, 0.6352007870386609, 0.9971386646108077, 0.0035837898281415796, 0.2078598100322116, 0.09676232535982265, 0.6880876470031833, 0.9851781968715578, 0.058409305318753685, 0.2655283553362927, 0.142470174991144, 0.1793876290946886, 0.11525871821059704, 0.14576328122573248, 0.09116704628387073, 0.002079856569213781, 0.0890255655952538, 0.11524542395549979, 0.053049480868404664, 0.032927263987285654, 0.06402523553083321, 0.13170905594914262, 0.24024707427760272, 0.046342075241364994, 0.22683226302352338, 0.21628570574933134, 0.328245365196044, 0.12786302016357529, 0.05725209858070535, 0.017175629574211607, 0.22519158775077439, 0.02735378043300367, 0.9937787610093487, 0.9915400544132595, 0.21927072116956273, 0.27389050369916496, 0.5066182727383398, 0.12483742778465776, 0.4136478261912271, 0.21920857855044068, 0.12805744080291281, 0.03368629003712987, 0.022540091127785426, 0.04111708931002617, 0.008173879200185924, 0.008421572509282467, 0.0261661176826916, 0.05811312183016391, 0.052940749730096964, 0.1826303737097167, 0.023427803041479688, 0.3916550579888926, 0.11097780726467164, 0.06944670187295765, 0.001977671685319714, 0.05005030649770661, 0.02761133929888678, 0.0014452216161951756, 7.606429558921978e-05, 0.00334682900592567, 0.9974067673136797, 0.15028819498254734, 0.15351524211407444, 0.2653862093403469, 0.14229741160924217, 0.007837114462280076, 0.21621215781231504, 0.04364197073112827, 0.009834810305606371, 0.008605459017405575, 0.0023050336653764932, 0.04089389473900135, 0.026152248108650775, 0.06917234188087577, 0.1393369099772559, 0.0029766786465130965, 0.38788957696109944, 0.01863967819126058, 0.2513167257270343, 0.006378597099670921, 0.05386370884166555, 0.0017009592265789123, 0.0016300859254714576, 0.9976261482362689, 0.9848846498625532, 0.9978496356736942, 0.048309113248592474, 0.28985467949155486, 0.0013056517094214182, 0.25416686610070277, 0.023936948006059337, 0.35905422009089005, 0.02306651353311172, 0.9969876039998781, 0.9830227035570752, 0.16807422149512732, 0.05988339812210497, 0.09505654646148261, 0.11720672532077422, 0.15816786009574565, 0.1984611502819947, 0.09283039783240807, 0.0771360499974326, 0.012355124891363664, 0.01146466543973385, 0.00912720937920559, 0.0002226148629074534, 0.250121725970713, 0.7455551447203946, 0.995664872134955, 0.9857347094420348, 0.009433553740739621, 0.09781105720661608, 0.006454536769979741, 0.09433553740739622, 0.03624470647757855, 0.009930056569199602, 0.08688799498049651, 0.026811152736838924, 0.0004965028284599801, 0.6315515978010947, 0.9867644062506591, 0.9878932083604276, 0.9532548054125642, 0.04013704443842376, 0.996502415435879, 0.2362167687335902, 0.7592681852151114, 0.036300816740577696, 0.019929860171297557, 0.12242628390939929, 0.015659175848876654, 0.009964930085648778, 0.04413040466501602, 0.08043122140559372, 0.6697856578996787, 0.9965459926303781, 0.08491859359764378, 0.21347590890518786, 0.3349566747462616, 0.366801147345378, 0.9989201810282713, 0.9829840290224839, 0.9946619271556782, 0.0039082983385291875, 0.9901858388601338, 0.9932996739850336, 0.98289012998841, 0.9989113637329836, 0.8609440413091062, 0.13665778433477874, 0.984407787252427, 0.32219594698787424, 0.6366653724652479, 0.01777099947415134, 0.00849917366155064, 0.007726521510500582, 0.006953869359450524, 0.0007261774926076238, 0.9080849545058335, 0.08810953576972501, 0.002904709970430495, 0.00012102958210127062, 0.5699294183445531, 0.4270100419439951, 0.0003178340468507593, 0.0018540319399627625, 0.00010594468228358643, 0.00015891702342537965, 5.2972341141793214e-05, 0.00047675107027613894, 0.9983859566682166, 0.9983123621148825, 0.9919188191414612, 0.09294136800152965, 0.9051221861058057, 0.9954867436668472, 0.985474408975972, 0.3879653271819189, 0.6109453992478155, 0.06611343573956793, 0.15601769115814706, 0.20510190860115962, 0.06786644350538981, 0.1828136670071386, 0.20510190860115962, 0.019533515104872345, 0.02128652287069422, 0.07588019329200411, 0.9871019705017566, 0.9904954823970834, 0.9889906190237426, 0.9935866171849066, 0.9972308357444345, 0.0054970284017921605, 0.9894651123225888, 0.2529851867138727, 0.16914074176279006, 0.038474074306557395, 0.0021777777909372112, 0.00036296296515620185, 0.2137851864770029, 0.00399259261671822, 0.09037777832389426, 0.10707407472107955, 0.1172370377454532, 0.00399259261671822, 0.9844193453651943, 0.5632388750757921, 0.03798449737075942, 0.33236435199414494, 0.06528585485599275, 0.4270229109393128, 0.12776680953019257, 0.06606952888253304, 0.09886139064408436, 0.00291483215658234, 0.13189615508535088, 0.010930620587183774, 0.020646727775791573, 0.00194322143772156, 0.11197813534870489, 0.9843602717121265, 0.9981954071112795, 0.9521377050420946, 0.0273433101218776, 0.01219537305905339, 0.001668840523870464, 0.00654698974749182, 0.00012837234799003568, 0.06478148340250914, 0.5264780873346775, 0.056555263287904806, 0.34601538357054484, 0.0051413875716277094, 0.000514138757162771, 0.9860394827983322, 0.990993627876037, 0.9837764937169383, 0.9983501832007498, 0.7411271229697505, 0.1933375103399349, 0.017454080794577456, 0.04699175598540084, 0.7716777937739452, 0.22759926317982884, 0.9896352879727881, 0.998017469214108, 0.3594539446885155, 0.13068736614118245, 0.25920934707339793, 0.04598259179041605, 0.002674887611076834, 0.0891629203692278, 0.010444799243252399, 0.027767880914988084, 0.010062672441669994, 0.05948440544632769, 0.0033117656137141753, 0.0007642536031648097, 0.0008916292036922779, 0.9893885633475425, 0.4494561225025732, 0.12417077742860003, 0.007239787700921764, 0.003619893850460882, 0.0007576522012592543, 0.17577531069214702, 0.04798463941308611, 0.16137991886822117, 0.018352019986057493, 0.011196415863053425, 0.03177101308939634, 0.22400866475349734, 0.5447117171703748, 0.07321146494513069, 0.12432135556720306, 0.0016115731277230026, 0.0002302247325318575, 0.2873245289809974, 0.055206459716872866, 0.0009410191997194238, 0.1558955140868512, 0.49748548358500205, 0.003450403732304554, 0.9963358909027891, 0.9872770482612667, 0.13322486855010082, 0.4221914848418688, 0.02439328579086353, 0.11633720915642608, 0.30397786908614555, 0.2715119004748825, 0.0009362479326720087, 0.08800730567116881, 0.14324593369881733, 0.21440077658189, 0.2818106277342746, 0.16383659314207819, 0.5872345304755386, 0.10308819343771213, 0.14358712657395617, 0.9971262847178474, 0.08120404953627998, 0.049214575476533316, 0.3116923113513777, 0.00574170047226222, 0.39453684673687545, 0.002460728773826666, 0.15420566982647108, 0.981063230954724, 0.9070422837342256, 0.09278771225165823, 0.30992467204801777, 0.14921081771983039, 0.026949971482436327, 0.074276750671105, 0.31156796299206874, 0.00361524007691219, 0.05882981579702564, 0.0006573163776203982, 0.016104251251699755, 0.04864141194390947, 0.24228914969820678, 0.7566876521343996, 0.99213602506392, 0.0013682433433054846, 0.998133518941351, 0.9861078434887665, 0.9952340038608433, 0.06341141861870822, 0.9342615676489677, 0.05804351922344507, 0.15006373262646774, 0.6568827541385003, 0.13307538553667894, 0.9963601367455842, 0.9976480885034258, 0.9939039229087897, 0.04755499233878145, 0.33997878500764195, 0.17682049637569014, 0.2046703813917721, 0.1016783537851294, 0.12085799157922358, 0.007882042929079798, 0.9844320536292507, 0.9803598535592072, 0.9877083731872848, 0.044889190359399124, 0.0028960767973805887, 0.4556494161212126, 0.10281072630701091, 0.3929010855112999, 0.9989084896088896, 0.26635126044343693, 0.004902170437609268, 0.7271552815787082, 0.1370377247916443, 0.47709430112646534, 0.006767295051439225, 0.37896852288059657, 0.9947784043628287, 0.9963893794952682, 0.921500437507163, 0.001758588621196876, 0.0738607220902688, 0.996469777766419, 0.9905110875575983, 0.9920300273027963, 0.07006051809027447, 0.6901706356552569, 0.23701324205007746, 0.08484075421195551, 0.06060053872282537, 0.2617943272826056, 0.573454240714279, 0.005194331890527889, 0.007964642232142763, 0.005540620683229748, 0.13716529856560086, 0.5868492603403264, 0.14340008486403727, 0.0038967414365227515, 0.009352179447654605, 0.010910876022263705, 0.09352179447654604, 0.014028269171481906, 0.0005323793387044884, 0.053237933870448846, 0.16876425036932285, 0.025554208257815444, 0.03513703635449624, 0.1522604908694837, 0.24223259911054226, 0.2534125652233365, 0.0005323793387044884, 0.042590347096359074, 0.026086587596519936, 0.1082154279365569, 0.0020039894062325353, 0.12324534848330092, 0.020290392738104422, 0.45064711772654137, 0.1044579477998709, 0.10170246236630116, 0.008767453652267342, 0.08041007492508048, 0.0002504986757790669, 0.8585341521664389, 0.05868461293289583, 0.08041965475989428, 0.0010867520913499227, 0.13500661388874213, 0.1252235259257898, 0.739601449999196, 0.9910710482286886, 0.25037186113463, 0.0009896120993463636, 0.7283545051189236, 0.01880262988758091, 0.9936593813796816, 0.9954649858804154, 0.4009290548884595, 0.5498908381276499, 0.047540994650805475, 0.49436388698737116, 0.08322319780940192, 0.248312693463922, 0.17368319542831703, 0.9915387117847332, 0.9871963339561997, 0.3307633375796852, 0.24672183619827695, 0.41660572827640924, 0.004802371507509041, 0.9980837615143062, 0.9981056684012111, 0.9872841459281939, 0.9954069141885112, 0.08269591585805104, 0.14171129209258224, 0.017729409246928486, 0.32309678669577363, 0.21510856673720924, 0.023928503389211174, 0.023060630209291597, 0.06583437979104213, 0.0011158369456108837, 0.10575654606734264, 0.1081505945941371, 0.6964089689286025, 0.12735490578375025, 0.06670971255339297, 0.3185966377352312, 0.259855382652798, 0.4201493160133362, 0.9962556036528623, 0.9956813260331041, 0.311378709387021, 0.5227977762719586, 0.1654199393618549, 0.009458958039585763, 0.1642419077782619, 0.17047622103162524, 0.019132892398253023, 0.47380780725561417, 0.16252209722560995, 0.9955313634815881, 0.48974063517616556, 0.5079635425315577, 0.9893903018230112, 0.9966125936446324, 0.7296419793165048, 0.10808279091971926, 0.024609620086336076, 0.044563366102284244, 0.026604994687930893, 0.0009976873007974084, 0.00016628121679956807, 0.03375508701031232, 0.031094587541519232, 0.00016628121679956807, 0.00033256243359913615, 0.6885189523581308, 0.1823865139268005, 0.0047338965402774465, 0.002761439648495177, 0.0005259885044752718, 0.0102567758372678, 0.003944913783564538, 0.08034474405859776, 0.008941804576079621, 0.01735762064768397, 0.9908870549780229, 0.9957269716340145, 0.9964120273605233, 0.9973070149663852, 0.9930343203844693, 0.9869451896288073, 0.993904864294683, 0.0029528820077856922, 0.023623056062285538, 0.1889844484982843, 0.5197072333702818, 0.1565027464126417, 0.010039798826471354, 0.09626395345381357, 0.0017717292046714153, 0.9990203846327858, 0.30157264970461317, 0.17962890478402002, 0.02535464003299461, 0.09672325642216463, 0.0005366061382644362, 0.13857853520679064, 0.20552015095527906, 0.0030854852950205082, 0.04816040090923315, 0.0004024546036983272, 0.0002683030691322181, 0.9845004046048016, 0.06780056988857672, 0.06663960122610109, 0.007894586904834276, 0.1613746440841124, 0.08521509982571115, 0.3357521371879518, 0.0006965811974853773, 0.26191453025450184, 0.01044871796228066, 0.0016253561274658802, 0.00023219373249512576, 0.992984567921227, 0.989769103296817, 0.05785251446196167, 0.5961750642859779, 0.01863047075893681, 0.23042950675527107, 0.0009805510925756215, 0.0951134559798353, 0.052136660579946925, 0.9459079848076085, 0.0019600248338325914, 0.23450222840674978, 0.21682618103940682, 0.5479574683876314, 0.9947238928814018, 0.9989166273118157, 0.9980512573161623, 0.18291638541828056, 0.2348182799033574, 0.5815027789881426, 0.9982116835188354, 0.9435212239208162, 0.05443391676466247, 0.14803492500513712, 0.012652557692746763, 0.27582575770187945, 0.5035717961713212, 0.05946702115590979, 0.9967166504364113, 0.9950546706889425, 0.14409933265860445, 0.23176815742293022, 0.6217432744780346, 0.9942695151255191, 0.9932334525522735, 0.9833474060903026, 0.09415548162733427, 0.14665620093205822, 0.3178336959106342, 0.10735925534468999, 0.033795373205136675, 0.23405260791836516, 0.011003144764463103, 0.04998571478713238, 0.0011003144764463104, 0.0026721922999410393, 0.0014146900411452562, 0.26956052576516987, 0.00231713918995848, 0.24233414028315772, 0.00019309493249654002, 0.4670966417091303, 0.01815092365467476, 0.8898930843764349, 0.10567480376970165, 0.9971446174137824, 0.9687726434969804, 0.030708264925942023, 0.9885518104601698, 0.9862581598732131, 0.9895575300908181, 0.19566332616892446, 0.1813464974248568, 0.0451530752697518, 0.13949730571142832, 0.4166564262696609, 0.021658792202563868, 0.18829775118176295, 0.809171417240549, 0.8291599909936275, 0.1693603385859324, 0.9986616664952964, 0.9943657534540715, 0.13187547383277298, 0.24726651343644937, 0.0028259030107022783, 0.035323787633778476, 0.37725805192875417, 0.2039360006056811, 0.0014129515053511392, 0.25372469169947004, 0.4879535234439863, 0.015596687963963032, 0.2409131265862147, 0.001949585995495379, 0.7627603155150418, 0.23601103932976628, 0.9947643552842632, 0.996470241513647, 0.9943598548407805, 0.9706423991385298, 0.029071220370238147, 0.9622018510004092, 0.03640946554277556, 0.00011272280353800483, 0.0005636140176900242, 0.0005636140176900242, 0.18804087489831453, 0.26051496209870656, 0.027422627589337535, 0.5229886833109373, 0.9958538855838914, 0.9914958243790254, 0.8764334324740927, 0.1219150060628568, 0.07652294851390881, 0.20213609041409875, 0.3999406931764668, 0.008662975303461376, 0.3075356232728788, 0.002887658434487125, 0.2308442691573799, 0.023880441636970336, 0.09154169294171963, 0.0019900368030808615, 0.003980073606161723, 0.03781069925853636, 0.6069612249396628, 0.09377476492580747, 0.0037509905970322987, 0.041260896567355286, 0.8627278373174287, 0.15343719927871505, 0.11829236592437248, 0.03943078864145749, 0.0625749471918782, 0.5507452543942705, 0.054003036617648305, 0.01928679879201725, 0.002571573172268967, 0.12525217743470235, 0.0559870388751839, 0.7293372692591193, 0.021765132472259755, 0.007118156531808221, 0.0027377525122339315, 0.030936603388243424, 0.026556199368669136, 0.00013688762561169657, 0.9880912748607209, 0.9980708641477458, 0.9938802440506699, 0.978721547778614, 0.026487093088758327, 0.2218090924303995, 0.0017874725397321572, 0.2149841972786949, 0.2629209608442391, 0.1046483923261372, 0.006662397648092585, 0.14689774326526092, 0.0047124276047484145, 0.0090998602022728, 0.9913528929201626, 0.14575183210143003, 0.02170771967468107, 0.21475136963880914, 0.19769530418013118, 0.3031327997428678, 0.11551607969740997, 0.9888372651148144, 0.9951647283669975, 0.9940332032093208, 0.9939445805522081, 0.16458979913278893, 0.054863266377596316, 0.4455967732619408, 0.004014385344702169, 0.010705027585872452, 0.06289203706700065, 0.25692066206093883, 0.04819080578879322, 0.3460099855635353, 0.31034878927982834, 0.2939639153116386, 0.7907710755379623, 0.13912978826437014, 0.00027333946613825174, 0.0697015638652542, 0.9981500476146982, 0.7756725828496901, 0.007340749995422935, 0.0048938333302819565, 0.14926191657359966, 0.06361983329366544, 0.9963070386587117, 0.9661984191931913, 0.03328616527946748, 0.026297363035359074, 0.170932859729834, 0.8001911895044975, 0.9947375860936296, 0.9886654774709949, 0.49147205310102393, 0.3356793889576246, 0.030409979487450316, 0.00959083968450356, 0.08491401964572665, 0.0030409979487450315, 0.021754831479483688, 0.002105306272208099, 0.01988344812640982, 0.0009356916765369328, 0.9911442950470639, 0.9960238810347907, 0.997568684889529, 0.0016543427610108275, 0.9900884355142855, 0.9803996030299211, 0.9854827805805634, 0.9942761131365093, 0.9890964367330373, 0.1113585198004117, 0.2958722715864953, 0.5015197570573285, 0.08697344247185439, 0.004064179554759551, 0.9913685870535808, 0.0012464448428788184, 0.3832817891852367, 0.004362556950075864, 0.10906392375189662, 0.0810189147871232, 0.20005439728205035, 0.0018696672643182277, 0.18509705916750455, 0.0336540107577281, 0.994154734648554, 0.9949945980018454, 0.035327212826332874, 0.9499095004413951, 0.011775737608777625, 0.2934726022173214, 0.07921299273685563, 0.00030762327276448784, 0.046758737460202156, 0.01999551272969171, 0.33869322331370116, 0.0006152465455289757, 0.009228698182934637, 0.020610759275220686, 0.011382061092286051, 0.177191005112345, 0.0026147978184981467, 0.758342908232942, 0.12480777738359691, 0.11531153345223627, 0.9975387236372941, 0.004984209548533574, 0.9918577001581812, 8.403895885595381e-05, 0.00033615583542381523, 0.5926427378521862, 0.09664480268434687, 0.30758258941279093, 0.002353090847966707, 0.0002521168765678614, 0.9819178171632379, 0.988534730045648, 0.9918685668610514, 0.9882759094170027, 0.02809339521633499, 0.10453356359566507, 0.11368025041028577, 0.008493352042147788, 0.6017213254475471, 0.14177364562662076, 0.0006533347724729067, 0.16806089776515534, 0.8256904977157632, 0.003653497777503377, 0.9993359452980869, 0.9938295391069029, 0.9988032603672278, 0.8925259216536394, 0.04270314046595289, 0.00030285915224080064, 0.00484574643585281, 0.05845181638247452, 0.0009085774567224019, 0.9933392454182579, 0.5854070736017106, 0.411367132801202, 0.9914309600840985, 0.02535605516827304, 0.9742271821684907, 0.2849860918896106, 0.7124652297240265, 0.9881550570947144, 0.992520375935683, 0.19150205740592452, 0.2689177827402344, 0.5378355654804688, 0.9970890887940087, 0.99274768366425, 0.9930653481534153, 0.9741303049275187, 0.9901172254866215, 0.9955049872139083, 0.9950030382493411, 0.9991606603894635, 0.23157327433942357, 0.6646081279029277, 0.0867503597370596, 0.001433890243587762, 0.01433890243587762, 0.268303984015411, 0.42452173307824126, 0.0531140346813623, 0.035930082284450965, 0.06678308772435994, 0.001171633117971227, 0.14957849472766, 0.0007810887453141514, 0.9963495471429026, 0.9920642956591063, 0.9940006293151918, 0.9866430121790289, 0.9792644250338831, 0.14359492622053044, 0.3067709787438605, 0.18602069987659625, 0.09137858941306483, 0.2719600875388834, 0.988317755551937, 0.9896045362845122, 0.1011978184215869, 0.1584860749517734, 0.5282869165059113, 0.04905521367554891, 0.026071302373019, 0.028815649991231526, 0.07100999462124911, 0.00034304345227656577, 0.036362605941315976, 0.9970628284801323, 0.034293821462675705, 0.9651261183067306, 0.0002881833736359303, 0.9869035135493476, 0.08332624795678478, 0.8512984639740783, 0.06529026355055431, 0.9968931935198801, 0.9905014053802905, 0.23845158204228986, 0.5691885119422928, 0.023501237653206452, 0.14559303326620582, 0.008598013775563336, 0.014330022959272227, 0.9962173736393937, 0.995222016314349, 0.993884370168179, 0.09953389412794836, 0.015901864742334945, 0.033276124368219424, 0.4835344797576663, 0.3153869840563097, 0.020908007346403353, 0.0005889579534198128, 0.022674881206662792, 0.0041227056739386895, 0.00323926874380897, 0.989861440017418, 0.9979224496866775, 0.0017242720512944754, 0.9851729779967846, 0.05384453114619927, 0.2962566319496275, 0.0370879343164692, 0.3304400894822768, 0.22185734202562601, 0.010277379388901105, 0.049599526616000984, 0.000446842582126135, 0.9976034871670747, 0.0005329949172112242, 0.09060913592590812, 0.24757613904461367, 0.04237309591829233, 0.5495177596447722, 0.040507613708053045, 0.02878172552940611, 0.9931773224461649, 0.9779029323000716, 0.11616295649729454, 0.6272799650853905, 0.25400966487408405, 0.0015488394199639271, 0.9856291787039111, 0.2551127512218701, 0.06547141403039144, 0.009030539866260888, 0.058698509130695777, 0.05192560423100011, 0.004515269933130444, 0.40411665901517474, 0.1512615427598699, 0.9910138137898551, 0.9674736774616329, 0.9900746257040999, 0.993917118399368, 0.9967122200775546, 0.09234079148306952, 0.9068339266157853, 0.6568552057458069, 0.01785539125370865, 0.05512852049582546, 0.17141175603560305, 0.004017463032084446, 0.011382811924239265, 0.08325076172041658, 0.9976328571220556, 0.17907187899260515, 0.25539759790748606, 0.04403406860473898, 0.0631154983334592, 0.0014678022868246324, 0.43740508147374046, 0.004403406860473897, 0.0014678022868246324, 0.013210220581421692, 0.9884119865129771, 0.07006707539945088, 0.9296347116805806, 0.9991703324140117, 0.9937103027041043, 0.3321254189621606, 0.021547286688820264, 0.02229029657464165, 0.023776316346284427, 0.15008799693592045, 0.089904196184388, 0.0029720395432855534, 0.05275370189331857, 0.30389104330094785, 0.9967813158968354, 0.31058786814312184, 0.03905595946709915, 0.03570830579849065, 0.3727054417717462, 0.16366306824308216, 0.021945729605322383, 0.04091576706077054, 0.014878460749371106, 0.9987804857860658, 0.001082102368132249, 0.08213249305091418, 0.8815554254131455, 0.02737749768363806, 0.9979938800557854, 0.1176363549359353, 0.011203462374850981, 0.8626666028635256, 0.998582960594985, 0.9940781943953, 0.07762173989925295, 0.04195769724283943, 0.3395077001899757, 0.013286604126899153, 0.1451037029648197, 0.2548930107502495, 0.06678266811151942, 0.06048901352509351, 0.9990827116210115, 0.19988436808211207, 0.7995374723284483, 0.9939668579018851, 0.9971740173982102, 0.9985185952976785, 0.009300356124292178, 0.6045231480789915, 0.072542777769479, 0.3124919657762172, 0.9843396394737233, 0.9872779105643313, 0.9874901458692992, 0.23733300144975264, 0.00312280265065464, 0.02029821722925516, 0.7135604056745852, 0.0156140132532732, 0.00156140132532732, 0.00624560530130928, 0.9868200760894844, 0.1823400003397232, 0.004878662216447444, 0.0006098327770559305, 0.4805482283200732, 0.2530806024782111, 0.07439959880082352, 0.0018294983311677913, 0.002439331108223722, 0.16837673120458188, 0.30505637415836795, 0.00044960408866377005, 0.4558985459050628, 0.06856462352122493, 0.0013488122659913102, 0.9887819728896025, 0.9577878211737374, 0.03668123570452611, 0.9971689500595746, 0.06618182283852635, 0.38054548132152655, 0.5507273114777371, 0.9949048089321473, 0.9906274053180244, 0.009223718857709723, 0.9894677784481748, 0.14646403895810195, 0.7581221498401235, 0.06602264968577652, 0.027319717111355803, 0.0015177620617419889, 0.9896481030357422, 0.9962366719998934, 0.9867045905376304, 0.5620085125797538, 0.0006670724184922894, 0.008004869021907474, 0.22947291196134756, 0.19945465312919453, 0.9966838765671496, 0.993956992919838, 0.0003264924416673811, 0.2507461952005487, 0.004244401741675954, 0.4505595695009859, 0.012406712783360483, 0.12994399178361768, 0.033955213933407634, 0.06007460926679812, 0.021222008708379772, 0.03591416858341192, 0.9169508531680816, 0.07912773859826085, 0.27159494892379105, 0.08507793580745261, 0.12205411560069163, 0.4162274397964605, 0.0049083424504299585, 0.014725027351289876, 0.06119066921536015, 0.023232820932035134, 0.18482919871476075, 0.12122258218851802, 0.12122258218851802, 0.0100431499778278, 0.40454512893144967, 0.09514563136889495, 0.046163250775278664, 0.002290542977399323, 0.00599065086396746, 0.008281193841366783, 0.00017619561364610176, 0.9975776751328491, 0.9965659319064419, 0.9923216803113788, 0.9969967083879524, 0.9945099101052808, 0.03746174350504265, 0.9615180832960948, 0.5812785636138939, 0.050411769233771324, 0.09633417868420123, 0.0006546983017372899, 0.00046764164409806425, 0.16507750036661667, 0.03825308648722165, 0.02665557371358966, 0.0049570014274394805, 0.02590734708303276, 0.0007482266305569028, 0.001870566576392257, 0.005518171400357158, 0.001870566576392257, 0.9902809150862104, 0.4986432026249571, 0.19826543360184823, 0.008536204696099071, 0.29232474572490214, 0.001127423261748934, 0.0006442418638565337, 0.00032212093192826683, 0.9940444557758124, 0.978913594625484, 0.4540606930037866, 0.09056736194684693, 0.07098522963401516, 0.38307546336977144, 0.9938036801747322, 0.9934479395180472, 0.9957873928150801, 0.03619210224579252, 0.8395615297280554, 0.12381508663034284, 0.8358574295404754, 0.06515344387490714, 0.08631439145821031, 0.002227468166663492, 0.002784335208329365, 0.0072392715416563485, 0.000556867041665873, 0.0011135366632347126, 0.12833510043780064, 0.01057859830072977, 0.00027838416580867816, 0.8593719198513895, 0.00027838416580867816, 0.9936163374697612, 0.1627211520262783, 0.13397183188029274, 0.02846182694452571, 0.01523713967737235, 0.13080940666423432, 0.08509798763211728, 0.002299945611678845, 0.27340603458832274, 0.08567297403503699, 0.07216079356642377, 0.010062262051094948, 0.0008795925488251151, 0.4301207563754813, 0.09411640272428731, 0.4741003838167371, 0.999189007281774, 0.9822450709332624, 0.9987539661951798, 0.405973868886963, 0.13391499147313016, 0.45953986547621506, 0.5427336730720362, 0.027232082669322366, 0.0005203582675666694, 0.05567833462963363, 0.00017345275585555647, 0.0020814330702666776, 0.371535803042602, 0.9781779446876652, 0.9921143687678984, 0.9868720218636007, 0.9884423422190618, 0.01328271763990112, 0.643629230200121, 0.18479289628844892, 0.058490563642371596, 0.03472148997096959, 0.00233030134033353, 0.022137862733168534, 0.04054724332180342, 0.49481251350113814, 0.31850956751417797, 0.039917648147990974, 0.1455330922062171, 0.00010592917321315124, 0.9997595367857215, 0.9989504827500376, 0.18862921408385094, 0.3951575506720089, 0.08398819021251758, 0.33044533854105274, 0.09951538335654674, 0.7119614854994086, 0.1006527020234787, 0.04208079067648262, 0.002843296667329907, 0.0426494500099486, 0.224318400449553, 0.038266080076688455, 0.1121592002247765, 0.13107232026268, 0.15966192031997598, 0.04354416008726617, 0.000879680001762953, 0.07565248015161397, 0.21420208042927905, 0.9962617097831898, 0.028107898979142308, 0.18340404083890358, 0.7870211714159847, 0.18968864590845602, 0.0059650517581275484, 0.0250532173841357, 0.020281175977633664, 0.33141827568156657, 0.10927974820889669, 0.010021286953654281, 0.06322954863615202, 0.24480572415355456, 0.8993582772835986, 0.07170963008241317, 0.028385061907621884, 0.9830660543898788, 0.995192693493379, 0.9882777214003252, 0.9916405402812957, 0.9951121234502716, 0.997095994446748, 0.2945792912135747, 0.11910023974902899, 0.2959887615064626, 0.021142054393318756, 0.01409470292887917, 0.25511412301271297, 0.981738995944256, 0.9841083023235085, 0.9972818941534952, 0.22028097264307483, 0.2982131326825595, 0.2389192934357348, 0.046650299995663544, 0.09493554041173587, 0.019401292988850728, 0.013079523363270153, 0.012643539251161148, 0.02387013013796803, 0.022453181773613762, 0.0009809642522452615, 0.004250845093062799, 0.0010899602802725127, 0.003051888784763036, 0.9973760413215643, 0.040057540887921794, 0.4078585981315674, 0.14930537967316307, 0.029132757009397672, 0.3714426518698203, 0.9859115909061711, 0.27209101193752677, 0.07705232196460936, 0.012842053660768226, 0.01083548277627319, 0.19263080491152337, 0.22955170918623202, 0.00040131417689900705, 0.20426891604159458, 0.9984782284071704, 0.9987633000654007, 0.0005148264433326808, 0.9976817090546685, 0.9963661571002643, 0.1255430513880813, 0.19882728405515304, 0.11883929621687307, 0.006170501918953025, 0.0025900872252395415, 0.05781988835167094, 7.61790360364571e-05, 0.14938708966749237, 0.02262517370282776, 0.023463143099228787, 0.0001523580720729142, 0.29435579524487027, 7.61790360364571e-05, 0.07804964411292246, 0.19457446490122923, 0.23195035081445972, 0.06760638187246101, 0.42762410647784277, 0.99146031012543, 0.9945921382187818, 0.9959730264581186, 0.9968137508726616, 0.9988002183610253, 0.9942761694450176, 0.9918146116811695, 0.9983335672724769, 0.9973185551499821, 0.9954484323696856, 0.9987113070974786, 0.9900295648491936, 0.11180039553661213, 0.8872364722713193, 0.9863235648422412, 0.1753253467810851, 0.003607517423479117, 0.01659458014800394, 0.03968269165827029, 0.017316083632699764, 0.2525262196435382, 0.05772027877566587, 0.04401171256644523, 0.04401171256644523, 0.3383851343223412, 0.009379545301045705, 0.9920095022966611, 0.9975146527718154, 0.07750196720751898, 0.05097552069937846, 0.18952027444972683, 0.019335542334247002, 0.45638271823644166, 0.14301909412521543, 0.006711510562300613, 0.04490320161920172, 0.007190904173893514, 0.0022371701874335376, 0.0022371701874335376, 0.998143599841152, 0.8784936472224911, 0.035516657354704675, 0.0857715194620419, 0.9893591013693995, 0.9988720630343856, 0.9939480034747511, 0.12115360476852248, 0.13590484207566791, 0.14727054950904228, 0.020796826367450963, 0.1554925506310578, 0.2367452676015639, 0.07037065666195617, 0.0021764120617099847, 0.025875121178107596, 0.04522100617108524, 0.0043528241234199695, 0.03458076942494753, 0.007370871139427215, 0.2137552630433892, 0.7776269052095711, 0.33057318286597853, 0.09591448188994632, 0.0494653302828654, 0.006032357351568951, 0.20690985715881502, 0.011461478967981007, 0.008445300292196532, 0.258788130382308, 0.031971493963315445, 0.999236303737788, 0.9918819701176362, 0.9965429151386959, 0.9909110343580876, 0.1551869326636486, 0.05069851983433939, 0.09768739187592224, 0.6287853008722336, 0.06780411798982788, 0.9950376299534414, 0.9986245420167833, 0.0686068102122412, 0.10177933383134684, 0.20205082568000707, 0.07765386210836092, 0.1213812796062729, 0.010177933383134684, 0.11384206969283979, 0.15945428966911004, 0.08217738805642077, 0.00527744693940317, 0.057297995342091554, 0.21181816705508555, 0.10202759879093126, 0.6842503092826585, 0.002217991278063723, 0.9921539828592136, 0.9992518053360613, 0.9979467828021874, 0.9906357487226584, 0.14400933663084983, 0.8545955524151891, 0.9893878253489237, 0.45906448229055485, 0.13074621331060107, 0.14833196129974624, 0.021102897586974208, 0.15414290411355072, 0.006116781909267886, 0.07309554381575124, 0.00107043683412188, 0.006269701456999583, 0.13947522653574762, 0.7173011650409878, 0.14146772977197258, 0.9952272987367301, 0.9959782584326003, 0.9892823175241129, 0.9897143203815225, 0.9902040100237773, 0.992287512903055, 0.9892636058526075, 0.48391231836368326, 0.1828277192140336, 0.022876525915782205, 0.008486453162306302, 0.17046701569502223, 0.09427342534648957, 0.0014759048977924002, 0.010331334284546802, 0.025090383262470806, 0.44857103936642284, 0.21311510657773727, 0.014036121179653388, 0.007602898972312252, 0.15451430065268437, 0.10632361793587441, 0.042342298891954386, 0.010176187855248705, 0.00046787070598844626, 0.0007018060589826694, 0.001871482823953785, 0.994317743151696, 0.9947218642185933, 0.9923479351282495, 0.9907634132478976, 0.9877292309326895, 0.992233167277645], \"Term\": [\"000\", \"000\", \"110k\", \"125k\", \"150\", \"150\", \"150k\", \"15k\", \"15k\", \"1800\", \"18mpg\", \"1995\", \"1996\", \"1st\", \"1st\", \"1st\", \"1st\", \"2001\", \"2008\", \"2008\", \"2008\", \"2008\", \"2008\", \"2015\", \"2015\", \"2015\", \"2015\", \"2015\", \"2015\", \"2015\", \"2015\", \"2018\", \"2018\", \"2018\", \"2018\", \"22mpg\", \"25mpg\", \"28mpg\", \"2nd\", \"2nd\", \"2nd\", \"2nd\", \"300c\", \"300k\", \"320\", \"328\", \"335\", \"3rd\", \"3rd\", \"3rd\", \"3rd\", \"3rd\", \"3rd\", \"40mpg\", \"4runner\", \"4wd\", \"4wd\", \"4wd\", \"4x4\", \"4x4\", \"4x4\", \"5th\", \"6000\", \"6th\", \"7000\", \"70k\", \"70mph\", \"7500\", \"911\", \"absolute\", \"absolutely\", \"absolutely\", \"absolutely\", \"absolutely\", \"absolutely\", \"acceleration\", \"acceleration\", \"acceleration\", \"acceleration\", \"acceleration\", \"acceleration\", \"acceleration\", \"acceleration\", \"accelerator\", \"accelerator\", \"accelerator\", \"accent\", \"accent\", \"accord\", \"activate\", \"actually\", \"acura\", \"add\", \"add\", \"adjust\", \"adjust\", \"adjust\", \"adjust\", \"adjustment\", \"adjustments\", \"admire\", \"adult\", \"adults\", \"adults\", \"afraid\", \"age\", \"age\", \"agile\", \"ago\", \"ago\", \"ago\", \"ago\", \"ago\", \"air\", \"air\", \"air\", \"air\", \"air\", \"air\", \"air\", \"alignment\", \"alloy\", \"alternator\", \"altima\", \"altima\", \"aluminum\", \"amaze\", \"amaze\", \"amaze\", \"amaze\", \"amaze\", \"amaze\", \"amaze\", \"amaze\", \"america\", \"american\", \"american\", \"american\", \"american\", \"amg\", \"android\", \"answer\", \"answer\", \"appeal\", \"apple\", \"apple\", \"appoint\", \"arm\", \"arm\", \"armada\", \"ask\", \"ask\", \"ask\", \"ask\", \"ask\", \"ask\", \"aspect\", \"aspects\", \"assistance\", \"associate\", \"attempt\", \"attractive\", \"audi\", \"audi\", \"august\", \"auto\", \"auto\", \"auto\", \"auto\", \"auto\", \"auto\", \"auto\", \"auto\", \"auto\", \"auto\", \"automobile\", \"automobile\", \"automobile\", \"autos\", \"avalon\", \"aveo\", \"average\", \"average\", \"average\", \"average\", \"avg\", \"away\", \"away\", \"away\", \"away\", \"away\", \"away\", \"away\", \"away\", \"away\", \"away\", \"awd\", \"awd\", \"awd\", \"awd\", \"awd\", \"awesome\", \"awesome\", \"awesome\", \"awesome\", \"awesome\", \"awesome\", \"awesome\", \"awsome\", \"backseat\", \"backup\", \"backwards\", \"bag\", \"bag\", \"ball\", \"bang\", \"bar\", \"bar\", \"bar\", \"bass\", \"battery\", \"battery\", \"beam\", \"bear\", \"beast\", \"bed\", \"beep\", \"beetle\", \"bell\", \"bell\", \"belt\", \"belt\", \"bench\", \"benz\", \"best\", \"best\", \"best\", \"best\", \"best\", \"best\", \"best\", \"best\", \"best\", \"best\", \"best\", \"best\", \"bet\", \"better\", \"better\", \"better\", \"better\", \"better\", \"better\", \"better\", \"better\", \"better\", \"better\", \"better\", \"better\", \"better\", \"better\", \"bike\", \"bite\", \"bite\", \"bite\", \"bite\", \"bite\", \"black\", \"black\", \"black\", \"black\", \"bland\", \"blast\", \"blast\", \"blow\", \"blow\", \"blow\", \"blow\", \"blow\", \"blue\", \"blue\", \"blue\", \"blue\", \"bluetooth\", \"bmw\", \"boat\", \"boat\", \"body\", \"body\", \"body\", \"body\", \"body\", \"body\", \"body\", \"body\", \"booster\", \"bose\", \"bose\", \"bose\", \"bounce\", \"boxster\", \"brake\", \"brake\", \"brake\", \"brake\", \"brake\", \"brake\", \"brake\", \"break\", \"break\", \"break\", \"break\", \"bring\", \"bring\", \"bring\", \"bring\", \"btw\", \"buck\", \"bucket\", \"bucket\", \"buckle\", \"buick\", \"build\", \"build\", \"build\", \"build\", \"bulletproof\", \"busy\", \"button\", \"button\", \"button\", \"button\", \"buy\", \"buy\", \"buy\", \"buy\", \"buy\", \"buy\", \"buy\", \"buy\", \"buy\", \"buy\", \"buy\", \"buy\", \"buy\", \"buy\", \"buyers\", \"buzz\", \"cab\", \"cab\", \"caddy\", \"cadillac\", \"caliber\", \"california\", \"camaro\", \"camera\", \"camera\", \"camp\", \"camry\", \"cap\", \"car\", \"car\", \"car\", \"car\", \"car\", \"car\", \"car\", \"car\", \"car\", \"car\", \"car\", \"car\", \"car\", \"car\", \"caravan\", \"cargo\", \"carry\", \"carry\", \"cars\", \"cars\", \"cars\", \"cars\", \"cars\", \"cars\", \"cars\", \"cars\", \"cars\", \"cars\", \"cars\", \"cars\", \"cart\", \"cavalier\", \"cayenne\", \"celica\", \"center\", \"center\", \"century\", \"chair\", \"challenger\", \"chance\", \"chance\", \"change\", \"change\", \"change\", \"change\", \"change\", \"change\", \"change\", \"change\", \"change\", \"changer\", \"cherokee\", \"cherokee\", \"chevrolet\", \"chevy\", \"chevy\", \"chevy\", \"chicago\", \"choices\", \"chrysler\", \"chrysler\", \"city\", \"city\", \"city\", \"city\", \"city\", \"civic\", \"class\", \"class\", \"class\", \"class\", \"class\", \"class\", \"class\", \"class\", \"class\", \"class\", \"classy\", \"climate\", \"climate\", \"close\", \"close\", \"close\", \"close\", \"close\", \"close\", \"close\", \"close\", \"close\", \"cloth\", \"club\", \"clutch\", \"clutch\", \"clutch\", \"clutch\", \"coast\", \"coat\", \"cobalt\", \"coil\", \"cold\", \"collision\", \"color\", \"color\", \"color\", \"color\", \"color\", \"com\", \"combine\", \"combine\", \"combine\", \"combine\", \"combine\", \"come\", \"come\", \"come\", \"come\", \"come\", \"come\", \"come\", \"come\", \"come\", \"come\", \"comfort\", \"comfort\", \"comfort\", \"comfort\", \"comfort\", \"comfort\", \"comfort\", \"comfort\", \"comfortable\", \"comfortable\", \"comfortable\", \"comfortable\", \"comfortable\", \"comfortable\", \"comfortable\", \"comfortably\", \"comfortably\", \"comfortably\", \"commute\", \"commute\", \"commute\", \"compare\", \"compare\", \"compare\", \"compare\", \"compare\", \"compare\", \"compare\", \"compare\", \"complement\", \"compliment\", \"compliment\", \"compressor\", \"condition\", \"condition\", \"condition\", \"condition\", \"condition\", \"condition\", \"conditioner\", \"confirm\", \"connection\", \"conservatively\", \"consistent\", \"console\", \"console\", \"console\", \"consumption\", \"consumption\", \"content\", \"control\", \"control\", \"control\", \"control\", \"control\", \"control\", \"convenience\", \"convenient\", \"converter\", \"convertible\", \"convertibles\", \"cool\", \"cool\", \"cool\", \"cool\", \"cool\", \"cool\", \"cool\", \"cool\", \"coolant\", \"corolla\", \"corvette\", \"coupe\", \"coupe\", \"cover\", \"cover\", \"cover\", \"cover\", \"cover\", \"cover\", \"cramp\", \"crew\", \"crown\", \"cruise\", \"cruise\", \"cruise\", \"cruise\", \"cruiser\", \"crv\", \"cts\", \"cup\", \"cupholders\", \"custom\", \"cx9\", \"cyl\", \"cyl\", \"dad\", \"dakota\", \"daughter\", \"daughter\", \"daughter\", \"daughter\", \"day\", \"day\", \"day\", \"day\", \"day\", \"day\", \"day\", \"day\", \"days\", \"days\", \"days\", \"days\", \"days\", \"dealer\", \"dealer\", \"dealer\", \"dealer\", \"dealer\", \"dealer\", \"dealer\", \"dealer\", \"dealership\", \"dealership\", \"dealership\", \"dealership\", \"dealership\", \"dealership\", \"dec\", \"decide\", \"decide\", \"decide\", \"decide\", \"decide\", \"decide\", \"decide\", \"decide\", \"decide\", \"deer\", \"degrees\", \"delivery\", \"delivery\", \"delivery\", \"denali\", \"dependability\", \"dependable\", \"deploy\", \"desert\", \"desert\", \"design\", \"design\", \"design\", \"design\", \"design\", \"design\", \"design\", \"design\", \"design\", \"design\", \"dial\", \"didn\", \"didnt\", \"diesel\", \"diesel\", \"diesel\", \"diff\", \"difficulty\", \"directly\", \"disable\", \"disconnect\", \"discontinue\", \"display\", \"display\", \"dodge\", \"dodge\", \"dodge\", \"dog\", \"dollar\", \"dollar\", \"dollar\", \"dollar\", \"dollar\", \"dollar\", \"dollar\", \"dollar\", \"dollar\", \"domestic\", \"don\", \"door\", \"door\", \"door\", \"door\", \"door\", \"doors\", \"doors\", \"doors\", \"double\", \"double\", \"double\", \"downshifting\", \"downshifts\", \"downshifts\", \"drag\", \"draw\", \"dream\", \"dream\", \"dream\", \"dream\", \"dream\", \"drive\", \"drive\", \"drive\", \"drive\", \"drive\", \"drive\", \"drive\", \"drive\", \"drive\", \"drive\", \"drive\", \"drive\", \"drive\", \"drive\", \"drive\", \"driver\", \"driver\", \"driver\", \"driver\", \"driver\", \"driver\", \"driver\", \"driver\", \"driveway\", \"dry\", \"durability\", \"duty\", \"e320\", \"easier\", \"easy\", \"easy\", \"easy\", \"easy\", \"easy\", \"easy\", \"easy\", \"echo\", \"eclipse\", \"ecoboost\", \"econ\", \"economy\", \"economy\", \"economy\", \"effect\", \"efficiency\", \"efficiency\", \"effortlessly\", \"elantra\", \"electrical\", \"element\", \"eliminate\", \"emissions\", \"enclave\", \"engine\", \"engine\", \"engine\", \"engine\", \"engine\", \"engine\", \"engine\", \"engine\", \"engine\", \"engine\", \"enter\", \"entertainment\", \"envoy\", \"epa\", \"equal\", \"equinox\", \"equinox\", \"escalade\", \"escape\", \"escort\", \"esp\", \"euro\", \"european\", \"european\", \"everyday\", \"everyday\", \"evo\", \"exceed\", \"excellent\", \"excellent\", \"excellent\", \"excellent\", \"exceptional\", \"exceptionally\", \"excursion\", \"exhaust\", \"exhaust\", \"exhaust\", \"exhaust\", \"exist\", \"exit\", \"expect\", \"expect\", \"expect\", \"expect\", \"expect\", \"expect\", \"expect\", \"expect\", \"expectations\", \"experience\", \"experience\", \"experience\", \"experience\", \"experience\", \"experience\", \"experience\", \"experience\", \"experience\", \"experience\", \"experience\", \"experience\", \"experience\", \"experience\", \"experience\", \"explain\", \"explorer\", \"extensive\", \"exterior\", \"exterior\", \"exterior\", \"exterior\", \"f150\", \"fabulous\", \"face\", \"face\", \"fade\", \"fail\", \"fail\", \"failure\", \"failures\", \"family\", \"family\", \"family\", \"family\", \"family\", \"family\", \"family\", \"family\", \"fancy\", \"fantastic\", \"far\", \"far\", \"far\", \"far\", \"far\", \"far\", \"far\", \"far\", \"far\", \"far\", \"far\", \"far\", \"far\", \"fast\", \"fast\", \"fast\", \"fast\", \"faster\", \"faster\", \"faster\", \"fastest\", \"feature\", \"feature\", \"feature\", \"feature\", \"feature\", \"feature\", \"feature\", \"feature\", \"feel\", \"feel\", \"feel\", \"feel\", \"feel\", \"feel\", \"feel\", \"feel\", \"feel\", \"feel\", \"fenders\", \"ferrari\", \"fiat\", \"fifth\", \"finally\", \"finally\", \"finally\", \"finally\", \"finally\", \"finally\", \"finally\", \"finest\", \"finish\", \"finish\", \"fit\", \"fit\", \"fit\", \"fit\", \"fix\", \"fix\", \"flawless\", \"flawlessly\", \"flexibility\", \"flood\", \"floor\", \"floor\", \"floor\", \"floor\", \"flow\", \"fluid\", \"fob\", \"fold\", \"ford\", \"ford\", \"ford\", \"ford\", \"forester\", \"forester\", \"freak\", \"friend\", \"friend\", \"frontier\", \"fuel\", \"fuel\", \"fuel\", \"fuel\", \"fuel\", \"fuel\", \"fuel\", \"fun\", \"fun\", \"fun\", \"fun\", \"fun\", \"g35\", \"g37\", \"gal\", \"gallon\", \"gallon\", \"garmin\", \"gas\", \"gas\", \"gas\", \"gas\", \"gas\", \"gasket\", \"gate\", \"gear\", \"gearbox\", \"gem\", \"generation\", \"generation\", \"genesis\", \"german\", \"german\", \"gift\", \"glass\", \"glove\", \"glove\", \"gmc\", \"gmc\", \"gmc\", \"gold\", \"golf\", \"good\", \"good\", \"good\", \"good\", \"good\", \"good\", \"good\", \"good\", \"good\", \"good\", \"gorgeous\", \"gorgeous\", \"gotta\", \"grab\", \"grand\", \"grand\", \"grand\", \"grand\", \"grand\", \"gray\", \"great\", \"great\", \"great\", \"great\", \"great\", \"great\", \"great\", \"great\", \"great\", \"great\", \"great\", \"great\", \"greatest\", \"groceries\", \"gti\", \"guess\", \"handle\", \"handle\", \"handle\", \"handle\", \"handle\", \"handle\", \"handle\", \"handle\", \"handle\", \"handle\", \"handle\", \"handle\", \"handle\", \"hang\", \"hang\", \"happen\", \"happen\", \"hard\", \"hard\", \"hard\", \"hard\", \"hard\", \"hard\", \"hard\", \"hard\", \"hard\", \"hard\", \"harder\", \"haul\", \"haul\", \"haul\", \"head\", \"head\", \"head\", \"head\", \"head\", \"head\", \"head\", \"head\", \"headache\", \"heartbeat\", \"heat\", \"heat\", \"heat\", \"heat\", \"heater\", \"heater\", \"heater\", \"height\", \"hell\", \"hemi\", \"hemi\", \"hemi\", \"hesitant\", \"high\", \"high\", \"high\", \"high\", \"high\", \"high\", \"high\", \"high\", \"highlander\", \"highly\", \"highly\", \"highly\", \"highly\", \"highway\", \"highway\", \"highway\", \"highway\", \"highway\", \"highway\", \"highway\", \"hill\", \"hill\", \"hill\", \"hill\", \"hill\", \"hill\", \"hill\", \"hiway\", \"holder\", \"holders\", \"home\", \"home\", \"home\", \"homework\", \"honda\", \"honda\", \"honda\", \"honda\", \"honda\", \"horn\", \"horsepower\", \"horsepower\", \"hose\", \"hot\", \"hummer\", \"hwy\", \"hwy\", \"hybrid\", \"hybrid\", \"hybrid\", \"hyundai\", \"ice\", \"ice\", \"ice\", \"idrive\", \"impala\", \"incline\", \"inconvenience\", \"indicator\", \"individual\", \"inferior\", \"infiniti\", \"insist\", \"interface\", \"interior\", \"interior\", \"interior\", \"interior\", \"interior\", \"interior\", \"interior\", \"interior\", \"interior\", \"interior\", \"interior\", \"interior\", \"interior\", \"intersection\", \"interstates\", \"involve\", \"involve\", \"iphone\", \"ipod\", \"issue\", \"issue\", \"issue\", \"issue\", \"issue\", \"issue\", \"issue\", \"issue\", \"issue\", \"isuzu\", \"jaguar\", \"japan\", \"japanese\", \"japanese\", \"jeep\", \"jeep\", \"jeeps\", \"jetta\", \"joy\", \"joy\", \"just\", \"just\", \"just\", \"just\", \"just\", \"just\", \"just\", \"just\", \"just\", \"just\", \"just\", \"just\", \"just\", \"keeper\", \"key\", \"kia\", \"kick\", \"kick\", \"kick\", \"kid\", \"kid\", \"kid\", \"kid\", \"killer\", \"kit\", \"kit\", \"knobs\", \"know\", \"know\", \"know\", \"know\", \"know\", \"know\", \"know\", \"know\", \"know\", \"know\", \"know\", \"lady\", \"lake\", \"lancer\", \"land\", \"land\", \"lane\", \"lane\", \"large\", \"large\", \"large\", \"later\", \"later\", \"later\", \"later\", \"laugh\", \"leak\", \"learn\", \"learn\", \"leg\", \"leg\", \"legacy\", \"lemon\", \"lesabre\", \"lever\", \"lexus\", \"lexus\", \"lexus\", \"liberty\", \"license\", \"lid\", \"liftgate\", \"light\", \"light\", \"light\", \"light\", \"light\", \"light\", \"light\", \"light\", \"light\", \"light\", \"like\", \"like\", \"like\", \"like\", \"like\", \"like\", \"like\", \"like\", \"like\", \"like\", \"like\", \"like\", \"like\", \"like\", \"lincoln\", \"line\", \"line\", \"line\", \"line\", \"line\", \"line\", \"line\", \"line\", \"line\", \"liner\", \"link\", \"link\", \"link\", \"liter\", \"literally\", \"literally\", \"literally\", \"literally\", \"litre\", \"little\", \"little\", \"little\", \"little\", \"little\", \"little\", \"little\", \"little\", \"live\", \"live\", \"live\", \"live\", \"live\", \"live\", \"live\", \"live\", \"live\", \"load\", \"load\", \"load\", \"load\", \"load\", \"load\", \"load\", \"locate\", \"location\", \"lock\", \"lock\", \"lock\", \"long\", \"long\", \"long\", \"long\", \"long\", \"long\", \"long\", \"long\", \"long\", \"look\", \"look\", \"look\", \"look\", \"look\", \"look\", \"look\", \"look\", \"look\", \"look\", \"look\", \"look\", \"look\", \"look\", \"loose\", \"lot\", \"lot\", \"lot\", \"lot\", \"lot\", \"lot\", \"lot\", \"lot\", \"lot\", \"lot\", \"love\", \"love\", \"love\", \"love\", \"love\", \"love\", \"love\", \"love\", \"love\", \"love\", \"love\", \"love\", \"lumbar\", \"lurch\", \"luxurious\", \"luxury\", \"luxury\", \"luxury\", \"luxury\", \"luxury\", \"luxury\", \"luxury\", \"machine\", \"maint\", \"make\", \"make\", \"make\", \"make\", \"make\", \"make\", \"make\", \"make\", \"make\", \"make\", \"make\", \"make\", \"manager\", \"manager\", \"maneuver\", \"manners\", \"manual\", \"manual\", \"manual\", \"manual\", \"manual\", \"manual\", \"manual\", \"manual\", \"manual\", \"manual\", \"mariner\", \"marquis\", \"mat\", \"mat\", \"matrix\", \"maxima\", \"maxima\", \"mazda\", \"mazda\", \"mazda\", \"mazda\", \"mazda\", \"mazda\", \"mazda\", \"mazda\", \"mdx\", \"mean\", \"mean\", \"mean\", \"mean\", \"mechanic\", \"melt\", \"mercedes\", \"mercedes\", \"mexico\", \"miata\", \"michelins\", \"middle\", \"milage\", \"milage\", \"milan\", \"mile\", \"mile\", \"mile\", \"mile\", \"mile\", \"mile\", \"mileage\", \"mileage\", \"mileage\", \"mileage\", \"mileage\", \"miles\", \"miles\", \"miles\", \"miles\", \"miles\", \"miles\", \"miles\", \"miles\", \"mini\", \"minivan\", \"minivans\", \"mirror\", \"mirror\", \"mitsubishi\", \"mkz\", \"mode\", \"mode\", \"model\", \"model\", \"model\", \"model\", \"model\", \"model\", \"model\", \"model\", \"model\", \"moderate\", \"modify\", \"mods\", \"mold\", \"mom\", \"moment\", \"moment\", \"money\", \"money\", \"money\", \"money\", \"money\", \"money\", \"money\", \"money\", \"money\", \"money\", \"money\", \"montero\", \"month\", \"month\", \"month\", \"month\", \"months\", \"months\", \"months\", \"months\", \"months\", \"months\", \"months\", \"months\", \"months\", \"months\", \"mos\", \"mount\", \"mpg\", \"mpg\", \"mpg\", \"mpg\", \"mpg\", \"mpg\", \"mph\", \"mph\", \"mph\", \"mph\", \"mph\", \"mph\", \"mpv\", \"msrp\", \"murano\", \"mustang\", \"nav\", \"nav\", \"nav\", \"nav\", \"navigation\", \"navigation\", \"navigator\", \"near\", \"need\", \"need\", \"need\", \"need\", \"need\", \"need\", \"need\", \"need\", \"need\", \"need\", \"need\", \"need\", \"need\", \"neon\", \"new\", \"new\", \"new\", \"new\", \"new\", \"new\", \"new\", \"new\", \"new\", \"new\", \"nice\", \"nice\", \"nice\", \"nice\", \"nice\", \"nice\", \"nice\", \"noise\", \"noise\", \"noise\", \"noise\", \"noise\", \"noise\", \"north\", \"nose\", \"note\", \"note\", \"note\", \"note\", \"note\", \"notice\", \"notice\", \"notice\", \"notice\", \"notice\", \"notice\", \"number\", \"number\", \"number\", \"number\", \"odyssey\", \"offer\", \"offer\", \"offer\", \"offer\", \"offer\", \"offer\", \"offer\", \"offroad\", \"oil\", \"oil\", \"old\", \"old\", \"old\", \"old\", \"old\", \"old\", \"old\", \"old\", \"old\", \"old\", \"older\", \"older\", \"onstar\", \"open\", \"open\", \"opportunity\", \"optima\", \"optional\", \"optional\", \"order\", \"order\", \"order\", \"order\", \"originally\", \"outback\", \"outlander\", \"overall\", \"overall\", \"overall\", \"overall\", \"overall\", \"overall\", \"overall\", \"overdrive\", \"overnight\", \"pacifica\", \"package\", \"package\", \"package\", \"package\", \"package\", \"pad\", \"panel\", \"panel\", \"panel\", \"park\", \"park\", \"park\", \"park\", \"particularly\", \"passat\", \"passengers\", \"passengers\", \"passengers\", \"pathfinder\", \"patriot\", \"pearl\", \"pedal\", \"pedal\", \"pedal\", \"people\", \"people\", \"people\", \"people\", \"people\", \"people\", \"people\", \"percent\", \"percent\", \"percent\", \"percent\", \"percent\", \"percent\", \"percent\", \"percent\", \"perfect\", \"perfect\", \"perfect\", \"perfect\", \"perfect\", \"perfect\", \"perfect\", \"perfect\", \"perfect\", \"perfect\", \"perfect\", \"performance\", \"performance\", \"performance\", \"performance\", \"performance\", \"performance\", \"performance\", \"performance\", \"performance\", \"performance\", \"phone\", \"phone\", \"phone\", \"phone\", \"pilot\", \"pilot\", \"pilot\", \"pinion\", \"plastic\", \"plastic\", \"plastic\", \"plastic\", \"plate\", \"pleasantly\", \"pleasure\", \"pleasure\", \"pleasure\", \"plenty\", \"plenty\", \"plenty\", \"plenty\", \"plow\", \"police\", \"poor\", \"poor\", \"poor\", \"poor\", \"poorly\", \"porsche\", \"porsches\", \"port\", \"power\", \"power\", \"power\", \"power\", \"power\", \"power\", \"power\", \"power\", \"power\", \"power\", \"powerful\", \"powerful\", \"powerful\", \"powerful\", \"premium\", \"premium\", \"premium\", \"prepare\", \"present\", \"previous\", \"previous\", \"previous\", \"price\", \"price\", \"price\", \"price\", \"price\", \"price\", \"primarily\", \"prior\", \"prior\", \"private\", \"prix\", \"problem\", \"problem\", \"problem\", \"problem\", \"problem\", \"problem\", \"problem\", \"problem\", \"problem\", \"problem\", \"problem\", \"problems\", \"problems\", \"problems\", \"problems\", \"problems\", \"problems\", \"problems\", \"problems\", \"problems\", \"problems\", \"production\", \"program\", \"promise\", \"pros\", \"protect\", \"protege\", \"proud\", \"pull\", \"pull\", \"pull\", \"pull\", \"pull\", \"pull\", \"pull\", \"pull\", \"pump\", \"purchase\", \"purchase\", \"purchase\", \"purchase\", \"purchase\", \"purchase\", \"purchase\", \"purchase\", \"purchase\", \"purchase\", \"purchase\", \"qualities\", \"quality\", \"quality\", \"quality\", \"quality\", \"quality\", \"quality\", \"quality\", \"quality\", \"quality\", \"quality\", \"quality\", \"quattro\", \"quest\", \"quick\", \"quick\", \"quick\", \"quick\", \"quick\", \"quick\", \"quiet\", \"quiet\", \"quiet\", \"quite\", \"quite\", \"quite\", \"rabbit\", \"rack\", \"radiator\", \"radio\", \"radio\", \"radio\", \"radius\", \"rail\", \"rail\", \"rain\", \"rain\", \"rain\", \"rain\", \"rain\", \"ram\", \"ramp\", \"range\", \"range\", \"range\", \"ranger\", \"rare\", \"rave\", \"really\", \"really\", \"really\", \"really\", \"really\", \"really\", \"really\", \"really\", \"really\", \"really\", \"really\", \"rear\", \"rear\", \"rear\", \"rear\", \"rear\", \"rear\", \"reasonable\", \"reasonable\", \"rebuild\", \"recall\", \"recall\", \"recline\", \"recognition\", \"recomend\", \"recommend\", \"recommend\", \"recommend\", \"recommend\", \"recommend\", \"recommend\", \"redesign\", \"redesign\", \"refine\", \"refine\", \"refuse\", \"regulators\", \"reliability\", \"reliability\", \"reliability\", \"reliability\", \"reliability\", \"reliability\", \"reliability\", \"reliable\", \"reliable\", \"reliable\", \"reliable\", \"reliable\", \"remain\", \"remain\", \"remarkable\", \"remote\", \"rent\", \"repair\", \"repair\", \"replace\", \"replace\", \"replace\", \"replace\", \"replace\", \"report\", \"report\", \"report\", \"report\", \"reputation\", \"request\", \"responsive\", \"responsive\", \"rest\", \"rest\", \"rest\", \"rest\", \"rest\", \"rest\", \"return\", \"return\", \"return\", \"return\", \"return\", \"return\", \"return\", \"reverse\", \"reverse\", \"reverse\", \"reverse\", \"review\", \"review\", \"review\", \"review\", \"review\", \"review\", \"review\", \"review\", \"ride\", \"ride\", \"ride\", \"ride\", \"ride\", \"ride\", \"ride\", \"ride\", \"ride\", \"ridgeline\", \"rim\", \"rio\", \"rival\", \"road\", \"road\", \"road\", \"road\", \"road\", \"road\", \"road\", \"road\", \"road\", \"road\", \"roading\", \"roads\", \"roads\", \"roads\", \"roads\", \"roads\", \"roads\", \"roadside\", \"roadster\", \"rod\", \"rods\", \"roll\", \"roll\", \"roll\", \"roll\", \"roll\", \"roll\", \"roll\", \"roof\", \"roof\", \"roof\", \"roof\", \"room\", \"room\", \"room\", \"room\", \"rotors\", \"round\", \"round\", \"round\", \"round\", \"round\", \"rover\", \"row\", \"row\", \"rpm\", \"rpm\", \"rpm\", \"rpms\", \"rugged\", \"run\", \"run\", \"run\", \"run\", \"run\", \"run\", \"run\", \"run\", \"run\", \"run\", \"runner\", \"rush\", \"rust\", \"rust\", \"rx350\", \"s2000\", \"s40\", \"s60\", \"sable\", \"safe\", \"safe\", \"safe\", \"safe\", \"safe\", \"safer\", \"safety\", \"safety\", \"safety\", \"safety\", \"safety\", \"safety\", \"safety\", \"safety\", \"safety\", \"salt\", \"santa\", \"saw\", \"saw\", \"saw\", \"say\", \"say\", \"say\", \"say\", \"say\", \"say\", \"say\", \"say\", \"say\", \"say\", \"say\", \"say\", \"screen\", \"screen\", \"screen\", \"seal\", \"season\", \"season\", \"seat\", \"seat\", \"seat\", \"seat\", \"seat\", \"seat\", \"seat\", \"seatbelt\", \"seater\", \"sebring\", \"security\", \"sedan\", \"sedan\", \"sedan\", \"sedan\", \"sedan\", \"sedan\", \"sedan\", \"sedans\", \"sedans\", \"sedans\", \"sensor\", \"sequoia\", \"series\", \"service\", \"service\", \"service\", \"service\", \"service\", \"service\", \"shade\", \"sharp\", \"sharp\", \"sheet\", \"shift\", \"shift\", \"shifter\", \"shifter\", \"ship\", \"shudder\", \"shut\", \"shut\", \"shut\", \"sienna\", \"sierra\", \"significantly\", \"silk\", \"silky\", \"silver\", \"silverado\", \"single\", \"sit\", \"sit\", \"sit\", \"sit\", \"sit\", \"size\", \"size\", \"size\", \"size\", \"size\", \"size\", \"size\", \"size\", \"ski\", \"skip\", \"sleek\", \"slightest\", \"slippery\", \"slow\", \"slow\", \"slow\", \"slow\", \"slow\", \"slower\", \"slt\", \"small\", \"small\", \"small\", \"small\", \"small\", \"small\", \"small\", \"small\", \"small\", \"smile\", \"smooth\", \"smooth\", \"smooth\", \"smoothest\", \"snow\", \"snow\", \"snow\", \"snowy\", \"solara\", \"solid\", \"solid\", \"solid\", \"solid\", \"solid\", \"solid\", \"sonata\", \"sorento\", \"soul\", \"sound\", \"sound\", \"sound\", \"sound\", \"sound\", \"sound\", \"sound\", \"sound\", \"sound\", \"sound\", \"source\", \"space\", \"space\", \"spectacular\", \"speed\", \"speed\", \"speed\", \"speed\", \"speed\", \"speed\", \"speed\", \"speed\", \"speedometer\", \"sport\", \"sport\", \"sport\", \"sport\", \"sport\", \"sport\", \"sport\", \"sportage\", \"sportscar\", \"sporty\", \"sporty\", \"sporty\", \"sporty\", \"spray\", \"spring\", \"spring\", \"spring\", \"spring\", \"spring\", \"spring\", \"spring\", \"spring\", \"srt\", \"srt8\", \"srx\", \"stain\", \"stall\", \"star\", \"star\", \"start\", \"start\", \"start\", \"start\", \"start\", \"start\", \"start\", \"starter\", \"state\", \"state\", \"state\", \"state\", \"state\", \"state\", \"state\", \"state\", \"state\", \"steel\", \"steer\", \"steer\", \"step\", \"sti\", \"stick\", \"stick\", \"stick\", \"stick\", \"stick\", \"stick\", \"stick\", \"stick\", \"stick\", \"stink\", \"stop\", \"stop\", \"stop\", \"stop\", \"stop\", \"stop\", \"stop\", \"stop\", \"storage\", \"storage\", \"storm\", \"storm\", \"storm\", \"strand\", \"strip\", \"strip\", \"strip\", \"strut\", \"sts\", \"style\", \"style\", \"style\", \"style\", \"style\", \"style\", \"style\", \"style\", \"subaru\", \"suburban\", \"suburban\", \"sudden\", \"suit\", \"summer\", \"sun\", \"sun\", \"sun\", \"sun\", \"sunfire\", \"supercharge\", \"supply\", \"support\", \"support\", \"support\", \"support\", \"support\", \"support\", \"support\", \"surround\", \"suspension\", \"suspension\", \"suspension\", \"suspension\", \"suspension\", \"suspension\", \"suspension\", \"suspension\", \"suv\", \"suv\", \"suv\", \"suv\", \"suv\", \"suv\", \"svt\", \"sync\", \"sync\", \"tacoma\", \"tahoe\", \"tahoe\", \"tahoe\", \"tailgate\", \"tall\", \"tall\", \"taller\", \"tank\", \"tank\", \"tank\", \"tank\", \"tank\", \"taste\", \"taurus\", \"technical\", \"tell\", \"tell\", \"tell\", \"tell\", \"tell\", \"tend\", \"terribly\", \"test\", \"test\", \"test\", \"test\", \"test\", \"test\", \"test\", \"test\", \"test\", \"test\", \"texas\", \"texas\", \"thing\", \"thing\", \"thing\", \"thing\", \"thing\", \"thing\", \"thing\", \"thing\", \"think\", \"think\", \"think\", \"think\", \"think\", \"think\", \"think\", \"think\", \"think\", \"think\", \"think\", \"thrill\", \"throttle\", \"thumb\", \"tie\", \"tiguan\", \"tilt\", \"tilt\", \"time\", \"time\", \"time\", \"time\", \"time\", \"time\", \"time\", \"time\", \"time\", \"time\", \"time\", \"time\", \"time\", \"time\", \"tip\", \"tire\", \"tire\", \"tire\", \"tire\", \"tire\", \"tire\", \"tire\", \"titan\", \"tlx\", \"today\", \"today\", \"today\", \"today\", \"tooth\", \"touareg\", \"tough\", \"tow\", \"tow\", \"tow\", \"town\", \"town\", \"town\", \"town\", \"town\", \"town\", \"town\", \"toyota\", \"toyota\", \"toyota\", \"toyota\", \"toyota\", \"toyota\", \"toyotas\", \"trade\", \"trade\", \"trade\", \"trade\", \"trade\", \"trade\", \"trade\", \"trade\", \"trade\", \"trade\", \"trade\", \"traffic\", \"traffic\", \"traffic\", \"traffic\", \"trailer\", \"trailers\", \"tranny\", \"trans\", \"trans\", \"trans\", \"transmission\", \"transmission\", \"transmission\", \"transmission\", \"transmission\", \"transmission\", \"transmission\", \"trash\", \"traverse\", \"trd\", \"tree\", \"trip\", \"trip\", \"trip\", \"trip\", \"trip\", \"trip\", \"trip\", \"trip\", \"trouble\", \"trouble\", \"trouble\", \"trouble\", \"truck\", \"truck\", \"true\", \"truly\", \"truly\", \"truly\", \"truly\", \"trunk\", \"trunk\", \"trunk\", \"trunk\", \"trunk\", \"trunk\", \"try\", \"try\", \"try\", \"try\", \"try\", \"try\", \"try\", \"try\", \"try\", \"tundra\", \"turbo\", \"turbo\", \"turbo\", \"turn\", \"turn\", \"turn\", \"turn\", \"turn\", \"turn\", \"turn\", \"turn\", \"turn\", \"twice\", \"twice\", \"twice\", \"twisty\", \"ultimate\", \"ultra\", \"uneven\", \"unique\", \"unlock\", \"update\", \"update\", \"update\", \"update\", \"update\", \"update\", \"uphill\", \"upholstery\", \"usb\", \"use\", \"use\", \"use\", \"use\", \"use\", \"use\", \"use\", \"use\", \"use\", \"use\", \"use\", \"use\", \"use\", \"use\", \"useful\", \"vacation\", \"vacation\", \"vacation\", \"vacation\", \"vacation\", \"vacuum\", \"value\", \"value\", \"value\", \"value\", \"value\", \"value\", \"value\", \"value\", \"valve\", \"van\", \"van\", \"vans\", \"various\", \"vehicle\", \"vehicle\", \"vehicle\", \"vehicle\", \"vehicle\", \"vehicle\", \"vehicle\", \"vehicle\", \"vehicle\", \"vehicle\", \"vehicle\", \"vehicle\", \"vehicle\", \"vehicles\", \"vehicles\", \"vehicles\", \"vehicles\", \"vehicles\", \"versa\", \"versatile\", \"versatility\", \"vette\", \"view\", \"vision\", \"visors\", \"voice\", \"volkswagen\", \"volt\", \"volvo\", \"volvos\", \"wagon\", \"wagon\", \"wagons\", \"wait\", \"wait\", \"wait\", \"wait\", \"wait\", \"wait\", \"wait\", \"wait\", \"wait\", \"wait\", \"wait\", \"wake\", \"walk\", \"want\", \"want\", \"want\", \"want\", \"want\", \"want\", \"want\", \"want\", \"want\", \"want\", \"want\", \"warm\", \"warranty\", \"warranty\", \"warranty\", \"washer\", \"water\", \"wax\", \"way\", \"way\", \"way\", \"way\", \"way\", \"way\", \"way\", \"way\", \"way\", \"way\", \"way\", \"way\", \"weather\", \"weather\", \"weather\", \"week\", \"week\", \"week\", \"week\", \"week\", \"week\", \"week\", \"week\", \"week\", \"weeks\", \"west\", \"wet\", \"whats\", \"wheel\", \"wheel\", \"wheel\", \"wheel\", \"wheel\", \"whine\", \"whistle\", \"wife\", \"wife\", \"wife\", \"wife\", \"wife\", \"wife\", \"wife\", \"wife\", \"wife\", \"wife\", \"wife\", \"wind\", \"wind\", \"wind\", \"wind\", \"windy\", \"winter\", \"wire\", \"woman\", \"wonderful\", \"wonderful\", \"wonderfully\", \"work\", \"work\", \"work\", \"work\", \"work\", \"work\", \"work\", \"work\", \"work\", \"wow\", \"wow\", \"wow\", \"wrangler\", \"wrx\", \"xenon\", \"xle\", \"xlt\", \"xterra\", \"yaris\", \"year\", \"year\", \"year\", \"year\", \"year\", \"year\", \"year\", \"year\", \"year\", \"years\", \"years\", \"years\", \"years\", \"years\", \"years\", \"years\", \"years\", \"years\", \"years\", \"years\", \"yukon\", \"z71\", \"zip\", \"zippy\", \"zone\", \"zoom\"]}, \"R\": 30, \"lambda.step\": 0.01, \"plot.opts\": {\"xlab\": \"PC1\", \"ylab\": \"PC2\"}, \"topic.order\": [11, 9, 19, 5, 4, 15, 14, 8, 1, 17, 12, 20, 10, 7, 13, 3, 6, 2, 16, 18]};\n",
              "\n",
              "function LDAvis_load_lib(url, callback){\n",
              "  var s = document.createElement('script');\n",
              "  s.src = url;\n",
              "  s.async = true;\n",
              "  s.onreadystatechange = s.onload = callback;\n",
              "  s.onerror = function(){console.warn(\"failed to load library \" + url);};\n",
              "  document.getElementsByTagName(\"head\")[0].appendChild(s);\n",
              "}\n",
              "\n",
              "if(typeof(LDAvis) !== \"undefined\"){\n",
              "   // already loaded: just create the visualization\n",
              "   !function(LDAvis){\n",
              "       new LDAvis(\"#\" + \"ldavis_el1581396523386830085996888121\", ldavis_el1581396523386830085996888121_data);\n",
              "   }(LDAvis);\n",
              "}else if(typeof define === \"function\" && define.amd){\n",
              "   // require.js is available: use it to load d3/LDAvis\n",
              "   require.config({paths: {d3: \"https://d3js.org/d3.v5\"}});\n",
              "   require([\"d3\"], function(d3){\n",
              "      window.d3 = d3;\n",
              "      LDAvis_load_lib(\"https://cdn.jsdelivr.net/gh/bmabey/pyLDAvis@3.3.1/pyLDAvis/js/ldavis.v3.0.0.js\", function(){\n",
              "        new LDAvis(\"#\" + \"ldavis_el1581396523386830085996888121\", ldavis_el1581396523386830085996888121_data);\n",
              "      });\n",
              "    });\n",
              "}else{\n",
              "    // require.js not available: dynamically load d3 & LDAvis\n",
              "    LDAvis_load_lib(\"https://d3js.org/d3.v5.js\", function(){\n",
              "         LDAvis_load_lib(\"https://cdn.jsdelivr.net/gh/bmabey/pyLDAvis@3.3.1/pyLDAvis/js/ldavis.v3.0.0.js\", function(){\n",
              "                 new LDAvis(\"#\" + \"ldavis_el1581396523386830085996888121\", ldavis_el1581396523386830085996888121_data);\n",
              "            })\n",
              "         });\n",
              "}\n",
              "</script>"
            ]
          },
          "metadata": {},
          "execution_count": 42
        }
      ]
    },
    {
      "cell_type": "markdown",
      "source": [
        "## Prediction on Test data"
      ],
      "metadata": {
        "id": "bTP_loQOTDTY"
      }
    },
    {
      "cell_type": "code",
      "source": [
        "pd.set_option('display.max_colwidth', -1)\n",
        "X_test[6:7].values"
      ],
      "metadata": {
        "colab": {
          "base_uri": "https://localhost:8080/"
        },
        "id": "bRpxkjkuTKa3",
        "outputId": "60658018-ee5a-456d-c22b-506094b80884"
      },
      "execution_count": 35,
      "outputs": [
        {
          "output_type": "execute_result",
          "data": {
            "text/plain": [
              "array(['the mercury mountaineer great suv the ride and handle excellent the power superb and the comfort great and from what can see the leather and other interior materials be great quality and the navigation system cool and the power moon roof and the sirius satellite radio be awesome and the rear park sensors come handy when parallel park and just really happy with mountaineer its be great far not problem and everything work great and its great price for what you get mine be only dollar 500 and the honda pilot with all the same equipment be over dollar 000 get great vehicle and great deal highly recommend the mercury mountaineer'],\n",
              "      dtype=object)"
            ]
          },
          "metadata": {},
          "execution_count": 35
        }
      ]
    },
    {
      "cell_type": "code",
      "source": [
        "lda_pred = lda.transform(tfidf_vectorizer.transform(X_test[6:7]))"
      ],
      "metadata": {
        "id": "2EE5zUTpQd-x"
      },
      "execution_count": 36,
      "outputs": []
    },
    {
      "cell_type": "code",
      "source": [
        "lda_pred"
      ],
      "metadata": {
        "colab": {
          "base_uri": "https://localhost:8080/"
        },
        "id": "3LpYtMar503u",
        "outputId": "ecb85b20-b811-4b12-a204-132001a6844d"
      },
      "execution_count": 37,
      "outputs": [
        {
          "output_type": "execute_result",
          "data": {
            "text/plain": [
              "array([[0.00084746, 0.00084746, 0.00084746, 0.00084746, 0.25245536,\n",
              "        0.00084746, 0.02371018, 0.08487382, 0.00084746, 0.00084746,\n",
              "        0.07437433, 0.00084746, 0.00084746, 0.10751529, 0.00084746,\n",
              "        0.00084746, 0.08409975, 0.00084746, 0.36195432, 0.00084746]])"
            ]
          },
          "metadata": {},
          "execution_count": 37
        }
      ]
    },
    {
      "cell_type": "code",
      "source": [
        "def topic_prediction(text):\n",
        "  col_names = ['Topic_' + str(i) for i in range(20)] # number of componants\n",
        "  index_names = ['Review_' + str(i) for i in range(len([text]))]\n",
        "  # creating a dataframe of prediction\n",
        "  df_topics = pd.DataFrame(np.round(lda_pred, 2), columns=col_names, index=index_names)\n",
        "  # maxmimum_significant_topic_value\n",
        "  significant_topic = np.argmax(df_topics.values, axis=1)\n",
        "  df_topics['significant_topic'] = significant_topic\n",
        "  \n",
        "  for i in significant_topic:\n",
        "    return [topics[i]]"
      ],
      "metadata": {
        "id": "O0bb7wAnTdU8"
      },
      "execution_count": 38,
      "outputs": []
    },
    {
      "cell_type": "code",
      "source": [
        "topic = topic_prediction(X_test[6:7].values)"
      ],
      "metadata": {
        "id": "rZ_6UjKLZZbZ"
      },
      "execution_count": 43,
      "outputs": []
    },
    {
      "cell_type": "code",
      "source": [
        "topic"
      ],
      "metadata": {
        "colab": {
          "base_uri": "https://localhost:8080/"
        },
        "id": "b90eY2W4aP6k",
        "outputId": "b6195d2d-586c-4c14-f01d-44b66da16397"
      },
      "execution_count": 44,
      "outputs": [
        {
          "output_type": "execute_result",
          "data": {
            "text/plain": [
              "['seat car room space like use feature need drive really great lot vehicle fit small comfortable easy good suv cargo']"
            ]
          },
          "metadata": {},
          "execution_count": 44
        }
      ]
    },
    {
      "cell_type": "markdown",
      "source": [
        "## Save the model"
      ],
      "metadata": {
        "id": "mbYa0dZwfDSN"
      }
    },
    {
      "cell_type": "code",
      "source": [
        "import pickle\n",
        "with open('tfidf_vectorizer.pkl', 'wb') as f:\n",
        "  pickle.dump(tfidf_vectorizer, f)"
      ],
      "metadata": {
        "id": "Vps4SCOXbAKU"
      },
      "execution_count": 45,
      "outputs": []
    },
    {
      "cell_type": "code",
      "source": [
        "with open('lda_model.pkl', 'wb') as f:\n",
        "  pickle.dump(lda, f)"
      ],
      "metadata": {
        "id": "hm-QLLZXbRLY"
      },
      "execution_count": 46,
      "outputs": []
    },
    {
      "cell_type": "code",
      "source": [],
      "metadata": {
        "id": "VaYU8MnxfGe_"
      },
      "execution_count": null,
      "outputs": []
    }
  ],
  "metadata": {
    "accelerator": "GPU",
    "colab": {
      "provenance": []
    },
    "gpuClass": "standard",
    "kernelspec": {
      "display_name": "Python 3",
      "name": "python3"
    },
    "language_info": {
      "name": "python"
    }
  },
  "nbformat": 4,
  "nbformat_minor": 0
}